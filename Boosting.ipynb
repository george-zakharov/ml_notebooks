{
  "nbformat": 4,
  "nbformat_minor": 0,
  "metadata": {
    "kernelspec": {
      "name": "python3",
      "display_name": "Python 3"
    },
    "language_info": {
      "codemirror_mode": {
        "name": "ipython",
        "version": 3
      },
      "file_extension": ".py",
      "mimetype": "text/x-python",
      "name": "python",
      "nbconvert_exporter": "python",
      "pygments_lexer": "ipython3",
      "version": "3.7.3"
    },
    "colab": {
      "name": "Boosting.ipynb",
      "provenance": [],
      "collapsed_sections": [
        "yIdHRmqdmhGM",
        "cBhplKR0Xr16",
        "X0l_eqFjYbz5"
      ],
      "toc_visible": true,
      "include_colab_link": true
    },
    "accelerator": "GPU"
  },
  "cells": [
    {
      "cell_type": "markdown",
      "metadata": {
        "id": "view-in-github",
        "colab_type": "text"
      },
      "source": [
        "<a href=\"https://colab.research.google.com/github/george-zakharov/ml_notebooks/blob/master/Boosting.ipynb\" target=\"_parent\"><img src=\"https://colab.research.google.com/assets/colab-badge.svg\" alt=\"Open In Colab\"/></a>"
      ]
    },
    {
      "cell_type": "markdown",
      "metadata": {
        "id": "BOBAFZY9l5gY",
        "colab_type": "text"
      },
      "source": [
        "### Homework 6\n",
        "\n",
        "Датасет: https://www.kaggle.com/uciml/red-wine-quality-cortez-et-al-2009\n",
        "\n",
        "#### Light: \n",
        "\n",
        "решить задачу классификации на предложенном датасете с использованием Boosting моделей.\n",
        "\n",
        "\n",
        "\n",
        "#### Pro: \n",
        "\n",
        "- нормализовать, стандартизовать датасет и применить техники работы с не сбалансированным датасетом;\n",
        "\n",
        "- решить задачу классификации на предложенном датасете с использованием Boosting моделей.."
      ]
    },
    {
      "cell_type": "markdown",
      "metadata": {
        "id": "gkVOCIrhmds7",
        "colab_type": "text"
      },
      "source": [
        "# Load Libs"
      ]
    },
    {
      "cell_type": "code",
      "metadata": {
        "id": "_Z0EFucOl5gb",
        "colab_type": "code",
        "colab": {}
      },
      "source": [
        "import pandas as pd\n",
        "import numpy as np\n",
        "\n",
        "import matplotlib.pyplot as plt\n",
        "\n",
        "# Normalization tests\n",
        "from scipy.stats import kurtosis\n",
        "from scipy.stats import skew\n",
        "from scipy.stats import shapiro\n",
        "from scipy.stats import normaltest"
      ],
      "execution_count": 0,
      "outputs": []
    },
    {
      "cell_type": "markdown",
      "metadata": {
        "id": "yIdHRmqdmhGM",
        "colab_type": "text"
      },
      "source": [
        "# Load dataset"
      ]
    },
    {
      "cell_type": "code",
      "metadata": {
        "id": "nwl7poZeml6S",
        "colab_type": "code",
        "colab": {
          "base_uri": "https://localhost:8080/",
          "height": 122
        },
        "outputId": "04eb2a80-6c03-4d55-c38c-5a5b9a3ecd9b"
      },
      "source": [
        "from google.colab import drive\n",
        "drive.mount('/content/drive')"
      ],
      "execution_count": 2,
      "outputs": [
        {
          "output_type": "stream",
          "text": [
            "Go to this URL in a browser: https://accounts.google.com/o/oauth2/auth?client_id=947318989803-6bn6qk8qdgf4n4g3pfee6491hc0brc4i.apps.googleusercontent.com&redirect_uri=urn%3aietf%3awg%3aoauth%3a2.0%3aoob&response_type=code&scope=email%20https%3a%2f%2fwww.googleapis.com%2fauth%2fdocs.test%20https%3a%2f%2fwww.googleapis.com%2fauth%2fdrive%20https%3a%2f%2fwww.googleapis.com%2fauth%2fdrive.photos.readonly%20https%3a%2f%2fwww.googleapis.com%2fauth%2fpeopleapi.readonly\n",
            "\n",
            "Enter your authorization code:\n",
            "··········\n",
            "Mounted at /content/drive\n"
          ],
          "name": "stdout"
        }
      ]
    },
    {
      "cell_type": "code",
      "metadata": {
        "id": "M7GqIQ7vl5gf",
        "colab_type": "code",
        "colab": {}
      },
      "source": [
        "#Loading dataset\n",
        "wine = pd.read_csv('/content/drive/My Drive/Colab Notebooks/ML/6/data/winequality-red.csv')"
      ],
      "execution_count": 0,
      "outputs": []
    },
    {
      "cell_type": "markdown",
      "metadata": {
        "id": "BFiUeUgDX24M",
        "colab_type": "text"
      },
      "source": [
        "# User defined functions"
      ]
    },
    {
      "cell_type": "code",
      "metadata": {
        "id": "4kuDzFurl8bD",
        "colab_type": "code",
        "colab": {}
      },
      "source": [
        "# Functions for normalization test\n",
        "def draw_hist_for_feature(data):\n",
        "  plt.style.use('ggplot')\n",
        "  data.hist(bins = 60)\n",
        "  plt.show()\n",
        "\n",
        "\n",
        "def chech_skew(feature):\n",
        "  method_name = '\\nSKEW TEST: '\n",
        "  skew_ = np.abs(skew(feature))\n",
        "  if (skew_ >= 0.75) and (skew_ < 1.0):\n",
        "    print(method_name + 'Данные рекомендуется логарифмировать\\n')\n",
        "  elif skew_ >= 1:\n",
        "    print(method_name + 'Данные рекомендуется нормализовать\\n')\n",
        "  else:\n",
        "    print(method_name + 'Данные достаточно стандартизировать\\n')\n",
        "\n",
        "\n",
        "def check_shapiro(feature):\n",
        "  method_name = '\\nSHAPIRO TEST: '\n",
        "  shapiro_ = np.abs(shapiro(feature))\n",
        "  if (shapiro_[1] < 0.50):\n",
        "    print(method_name + 'Данные рекомендуется нормализовать\\n')\n",
        "  else:\n",
        "    print(method_name + 'Данные достаточно стандартизировать\\n')\n",
        "\n",
        "\n",
        "def print_stats(data, need_hist = True):\n",
        "  if (need_hist == True):\n",
        "    draw_hist_for_feature(data)\n",
        "\n",
        "  print(\"mean : \", np.mean(data))\n",
        "  print(\"var  : \", np.var(data))\n",
        "  print(\"skew : \", skew(data))\n",
        "  print(\"kurt : \", kurtosis(data))\n",
        "  print(\"shapiro : \", shapiro(data))\n",
        "  print(\"normaltest : \", normaltest(data))\n",
        "\n",
        "\n",
        "def print_stats_all(df, need_hist = True):\n",
        "  n = 1\n",
        "  for feature_name in df.columns:\n",
        "    print(f'\\n\\n{n}. {feature_name}')\n",
        "    print_stats(df[feature_name], need_hist)\n",
        "    chech_skew(df[feature_name])\n",
        "    check_shapiro(df[feature_name])\n",
        "    n += 1"
      ],
      "execution_count": 0,
      "outputs": []
    },
    {
      "cell_type": "code",
      "metadata": {
        "id": "ZO1s0Csls3A-",
        "colab_type": "code",
        "colab": {}
      },
      "source": [
        "def data_preprocessing(df):\n",
        "\n",
        "  n = 1\n",
        "  for feature_name in df.columns:\n",
        "    print(f'\\n\\n{n}. {feature_name}')\n",
        "    feature = df[feature_name]\n",
        "\n",
        "    print_stats(feature)\n",
        "    \n",
        "    skew_ = np.abs(skew(feature))\n",
        "\n",
        "    if (skew_ >= 0.75) and (skew_ < 1.0):\n",
        "      print('\\nДанные рекомендуется логарифмировать\\n')\n",
        "      feature = np.log(feature)\n",
        "    elif skew_ >= 1:\n",
        "      if feature.min() > 0:\n",
        "        print('\\nДанные рекомендуется нормализовать методом boxcox\\n')\n",
        "        box_cox_transform = PowerTransformer(method='box-cox', standardize=False) # only works with strictly positive values\n",
        "        feature = box_cox_transform.fit_transform(feature.values.reshape(df.shape[0],-1))\n",
        "      else:\n",
        "        print('\\nДанные рекомендуется нормализовать методом yeo-johnson\\n')\n",
        "        yeo_johnson_transform = PowerTransformer(method='yeo-johnson', standardize=False)\n",
        "        feature = yeo_johnson_transform.fit_transform(feature.values.reshape(df.shape[0],-1))\n",
        "    else:\n",
        "      print('\\nДанные достаточно стандартизировать\\n')\n",
        "\n",
        "    print_stats(pd.DataFrame(feature, columns=[feature_name]))\n",
        "    chech_skew(feature)\n",
        "\n",
        "    df[feature_name] = feature\n",
        "\n",
        "    n += 1\n",
        "\n",
        "  return df"
      ],
      "execution_count": 0,
      "outputs": []
    },
    {
      "cell_type": "code",
      "metadata": {
        "id": "lhetk2Fps5eZ",
        "colab_type": "code",
        "colab": {}
      },
      "source": [
        "def scale_std_minmax(df):\n",
        "  print(df.shape)\n",
        "\n",
        "  scaler = StandardScaler()\n",
        "  print(scaler.fit(df.copy()))\n",
        "  StandardScaler()\n",
        "  result = scaler.transform(df.copy())\n",
        "  result = pd.DataFrame(result, columns=df.columns)\n",
        "\n",
        "\n",
        "  scaler = MinMaxScaler()\n",
        "  print(scaler.fit(result))\n",
        "  MinMaxScaler(copy=True, feature_range=(0, 1))\n",
        "  print(scaler.data_max_)  # максимальные значения фич в датасете\n",
        "  result = scaler.transform(result)\n",
        "  result = pd.DataFrame(result, columns=df.columns)\n",
        "  \n",
        "  return result"
      ],
      "execution_count": 0,
      "outputs": []
    },
    {
      "cell_type": "markdown",
      "metadata": {
        "id": "D48m5EqjSyhl",
        "colab_type": "text"
      },
      "source": [
        "# Dataset exploration"
      ]
    },
    {
      "cell_type": "markdown",
      "metadata": {
        "id": "cBhplKR0Xr16",
        "colab_type": "text"
      },
      "source": [
        "## View data"
      ]
    },
    {
      "cell_type": "code",
      "metadata": {
        "id": "jrPac-2Rl5gi",
        "colab_type": "code",
        "outputId": "cc1fde8b-ba44-49a6-908c-aae8526b4f1f",
        "colab": {
          "base_uri": "https://localhost:8080/",
          "height": 204
        }
      },
      "source": [
        "wine.head()"
      ],
      "execution_count": 10,
      "outputs": [
        {
          "output_type": "execute_result",
          "data": {
            "text/html": [
              "<div>\n",
              "<style scoped>\n",
              "    .dataframe tbody tr th:only-of-type {\n",
              "        vertical-align: middle;\n",
              "    }\n",
              "\n",
              "    .dataframe tbody tr th {\n",
              "        vertical-align: top;\n",
              "    }\n",
              "\n",
              "    .dataframe thead th {\n",
              "        text-align: right;\n",
              "    }\n",
              "</style>\n",
              "<table border=\"1\" class=\"dataframe\">\n",
              "  <thead>\n",
              "    <tr style=\"text-align: right;\">\n",
              "      <th></th>\n",
              "      <th>fixed acidity</th>\n",
              "      <th>volatile acidity</th>\n",
              "      <th>citric acid</th>\n",
              "      <th>residual sugar</th>\n",
              "      <th>chlorides</th>\n",
              "      <th>free sulfur dioxide</th>\n",
              "      <th>total sulfur dioxide</th>\n",
              "      <th>density</th>\n",
              "      <th>pH</th>\n",
              "      <th>sulphates</th>\n",
              "      <th>alcohol</th>\n",
              "      <th>quality</th>\n",
              "    </tr>\n",
              "  </thead>\n",
              "  <tbody>\n",
              "    <tr>\n",
              "      <th>0</th>\n",
              "      <td>7.4</td>\n",
              "      <td>0.70</td>\n",
              "      <td>0.00</td>\n",
              "      <td>1.9</td>\n",
              "      <td>0.076</td>\n",
              "      <td>11.0</td>\n",
              "      <td>34.0</td>\n",
              "      <td>0.9978</td>\n",
              "      <td>3.51</td>\n",
              "      <td>0.56</td>\n",
              "      <td>9.4</td>\n",
              "      <td>5</td>\n",
              "    </tr>\n",
              "    <tr>\n",
              "      <th>1</th>\n",
              "      <td>7.8</td>\n",
              "      <td>0.88</td>\n",
              "      <td>0.00</td>\n",
              "      <td>2.6</td>\n",
              "      <td>0.098</td>\n",
              "      <td>25.0</td>\n",
              "      <td>67.0</td>\n",
              "      <td>0.9968</td>\n",
              "      <td>3.20</td>\n",
              "      <td>0.68</td>\n",
              "      <td>9.8</td>\n",
              "      <td>5</td>\n",
              "    </tr>\n",
              "    <tr>\n",
              "      <th>2</th>\n",
              "      <td>7.8</td>\n",
              "      <td>0.76</td>\n",
              "      <td>0.04</td>\n",
              "      <td>2.3</td>\n",
              "      <td>0.092</td>\n",
              "      <td>15.0</td>\n",
              "      <td>54.0</td>\n",
              "      <td>0.9970</td>\n",
              "      <td>3.26</td>\n",
              "      <td>0.65</td>\n",
              "      <td>9.8</td>\n",
              "      <td>5</td>\n",
              "    </tr>\n",
              "    <tr>\n",
              "      <th>3</th>\n",
              "      <td>11.2</td>\n",
              "      <td>0.28</td>\n",
              "      <td>0.56</td>\n",
              "      <td>1.9</td>\n",
              "      <td>0.075</td>\n",
              "      <td>17.0</td>\n",
              "      <td>60.0</td>\n",
              "      <td>0.9980</td>\n",
              "      <td>3.16</td>\n",
              "      <td>0.58</td>\n",
              "      <td>9.8</td>\n",
              "      <td>6</td>\n",
              "    </tr>\n",
              "    <tr>\n",
              "      <th>4</th>\n",
              "      <td>7.4</td>\n",
              "      <td>0.70</td>\n",
              "      <td>0.00</td>\n",
              "      <td>1.9</td>\n",
              "      <td>0.076</td>\n",
              "      <td>11.0</td>\n",
              "      <td>34.0</td>\n",
              "      <td>0.9978</td>\n",
              "      <td>3.51</td>\n",
              "      <td>0.56</td>\n",
              "      <td>9.4</td>\n",
              "      <td>5</td>\n",
              "    </tr>\n",
              "  </tbody>\n",
              "</table>\n",
              "</div>"
            ],
            "text/plain": [
              "   fixed acidity  volatile acidity  citric acid  ...  sulphates  alcohol  quality\n",
              "0            7.4              0.70         0.00  ...       0.56      9.4        5\n",
              "1            7.8              0.88         0.00  ...       0.68      9.8        5\n",
              "2            7.8              0.76         0.04  ...       0.65      9.8        5\n",
              "3           11.2              0.28         0.56  ...       0.58      9.8        6\n",
              "4            7.4              0.70         0.00  ...       0.56      9.4        5\n",
              "\n",
              "[5 rows x 12 columns]"
            ]
          },
          "metadata": {
            "tags": []
          },
          "execution_count": 10
        }
      ]
    },
    {
      "cell_type": "code",
      "metadata": {
        "id": "JW4sHKhNl5gm",
        "colab_type": "code",
        "outputId": "c780c60e-5be1-4912-a0e5-9c2e83b90079",
        "colab": {
          "base_uri": "https://localhost:8080/",
          "height": 136
        }
      },
      "source": [
        "# Check class balance\n",
        "wine['quality'].value_counts()"
      ],
      "execution_count": 11,
      "outputs": [
        {
          "output_type": "execute_result",
          "data": {
            "text/plain": [
              "5    681\n",
              "6    638\n",
              "7    199\n",
              "4     53\n",
              "8     18\n",
              "3     10\n",
              "Name: quality, dtype: int64"
            ]
          },
          "metadata": {
            "tags": []
          },
          "execution_count": 11
        }
      ]
    },
    {
      "cell_type": "code",
      "metadata": {
        "id": "EayOCWnbFANm",
        "colab_type": "code",
        "colab": {
          "base_uri": "https://localhost:8080/",
          "height": 314
        },
        "outputId": "f9830481-ba14-4104-caf1-40788fdd4a0c"
      },
      "source": [
        "wine.describe(include = 'all')"
      ],
      "execution_count": 16,
      "outputs": [
        {
          "output_type": "execute_result",
          "data": {
            "text/html": [
              "<div>\n",
              "<style scoped>\n",
              "    .dataframe tbody tr th:only-of-type {\n",
              "        vertical-align: middle;\n",
              "    }\n",
              "\n",
              "    .dataframe tbody tr th {\n",
              "        vertical-align: top;\n",
              "    }\n",
              "\n",
              "    .dataframe thead th {\n",
              "        text-align: right;\n",
              "    }\n",
              "</style>\n",
              "<table border=\"1\" class=\"dataframe\">\n",
              "  <thead>\n",
              "    <tr style=\"text-align: right;\">\n",
              "      <th></th>\n",
              "      <th>fixed acidity</th>\n",
              "      <th>volatile acidity</th>\n",
              "      <th>citric acid</th>\n",
              "      <th>residual sugar</th>\n",
              "      <th>chlorides</th>\n",
              "      <th>free sulfur dioxide</th>\n",
              "      <th>total sulfur dioxide</th>\n",
              "      <th>density</th>\n",
              "      <th>pH</th>\n",
              "      <th>sulphates</th>\n",
              "      <th>alcohol</th>\n",
              "      <th>quality</th>\n",
              "    </tr>\n",
              "  </thead>\n",
              "  <tbody>\n",
              "    <tr>\n",
              "      <th>count</th>\n",
              "      <td>1599.000000</td>\n",
              "      <td>1599.000000</td>\n",
              "      <td>1599.000000</td>\n",
              "      <td>1599.000000</td>\n",
              "      <td>1599.000000</td>\n",
              "      <td>1599.000000</td>\n",
              "      <td>1599.000000</td>\n",
              "      <td>1599.000000</td>\n",
              "      <td>1599.000000</td>\n",
              "      <td>1599.000000</td>\n",
              "      <td>1599.000000</td>\n",
              "      <td>1599.000000</td>\n",
              "    </tr>\n",
              "    <tr>\n",
              "      <th>mean</th>\n",
              "      <td>8.319637</td>\n",
              "      <td>0.527821</td>\n",
              "      <td>0.270976</td>\n",
              "      <td>2.538806</td>\n",
              "      <td>0.087467</td>\n",
              "      <td>15.874922</td>\n",
              "      <td>46.467792</td>\n",
              "      <td>0.996747</td>\n",
              "      <td>3.311113</td>\n",
              "      <td>0.658149</td>\n",
              "      <td>10.422983</td>\n",
              "      <td>5.636023</td>\n",
              "    </tr>\n",
              "    <tr>\n",
              "      <th>std</th>\n",
              "      <td>1.741096</td>\n",
              "      <td>0.179060</td>\n",
              "      <td>0.194801</td>\n",
              "      <td>1.409928</td>\n",
              "      <td>0.047065</td>\n",
              "      <td>10.460157</td>\n",
              "      <td>32.895324</td>\n",
              "      <td>0.001887</td>\n",
              "      <td>0.154386</td>\n",
              "      <td>0.169507</td>\n",
              "      <td>1.065668</td>\n",
              "      <td>0.807569</td>\n",
              "    </tr>\n",
              "    <tr>\n",
              "      <th>min</th>\n",
              "      <td>4.600000</td>\n",
              "      <td>0.120000</td>\n",
              "      <td>0.000000</td>\n",
              "      <td>0.900000</td>\n",
              "      <td>0.012000</td>\n",
              "      <td>1.000000</td>\n",
              "      <td>6.000000</td>\n",
              "      <td>0.990070</td>\n",
              "      <td>2.740000</td>\n",
              "      <td>0.330000</td>\n",
              "      <td>8.400000</td>\n",
              "      <td>3.000000</td>\n",
              "    </tr>\n",
              "    <tr>\n",
              "      <th>25%</th>\n",
              "      <td>7.100000</td>\n",
              "      <td>0.390000</td>\n",
              "      <td>0.090000</td>\n",
              "      <td>1.900000</td>\n",
              "      <td>0.070000</td>\n",
              "      <td>7.000000</td>\n",
              "      <td>22.000000</td>\n",
              "      <td>0.995600</td>\n",
              "      <td>3.210000</td>\n",
              "      <td>0.550000</td>\n",
              "      <td>9.500000</td>\n",
              "      <td>5.000000</td>\n",
              "    </tr>\n",
              "    <tr>\n",
              "      <th>50%</th>\n",
              "      <td>7.900000</td>\n",
              "      <td>0.520000</td>\n",
              "      <td>0.260000</td>\n",
              "      <td>2.200000</td>\n",
              "      <td>0.079000</td>\n",
              "      <td>14.000000</td>\n",
              "      <td>38.000000</td>\n",
              "      <td>0.996750</td>\n",
              "      <td>3.310000</td>\n",
              "      <td>0.620000</td>\n",
              "      <td>10.200000</td>\n",
              "      <td>6.000000</td>\n",
              "    </tr>\n",
              "    <tr>\n",
              "      <th>75%</th>\n",
              "      <td>9.200000</td>\n",
              "      <td>0.640000</td>\n",
              "      <td>0.420000</td>\n",
              "      <td>2.600000</td>\n",
              "      <td>0.090000</td>\n",
              "      <td>21.000000</td>\n",
              "      <td>62.000000</td>\n",
              "      <td>0.997835</td>\n",
              "      <td>3.400000</td>\n",
              "      <td>0.730000</td>\n",
              "      <td>11.100000</td>\n",
              "      <td>6.000000</td>\n",
              "    </tr>\n",
              "    <tr>\n",
              "      <th>max</th>\n",
              "      <td>15.900000</td>\n",
              "      <td>1.580000</td>\n",
              "      <td>1.000000</td>\n",
              "      <td>15.500000</td>\n",
              "      <td>0.611000</td>\n",
              "      <td>72.000000</td>\n",
              "      <td>289.000000</td>\n",
              "      <td>1.003690</td>\n",
              "      <td>4.010000</td>\n",
              "      <td>2.000000</td>\n",
              "      <td>14.900000</td>\n",
              "      <td>8.000000</td>\n",
              "    </tr>\n",
              "  </tbody>\n",
              "</table>\n",
              "</div>"
            ],
            "text/plain": [
              "       fixed acidity  volatile acidity  ...      alcohol      quality\n",
              "count    1599.000000       1599.000000  ...  1599.000000  1599.000000\n",
              "mean        8.319637          0.527821  ...    10.422983     5.636023\n",
              "std         1.741096          0.179060  ...     1.065668     0.807569\n",
              "min         4.600000          0.120000  ...     8.400000     3.000000\n",
              "25%         7.100000          0.390000  ...     9.500000     5.000000\n",
              "50%         7.900000          0.520000  ...    10.200000     6.000000\n",
              "75%         9.200000          0.640000  ...    11.100000     6.000000\n",
              "max        15.900000          1.580000  ...    14.900000     8.000000\n",
              "\n",
              "[8 rows x 12 columns]"
            ]
          },
          "metadata": {
            "tags": []
          },
          "execution_count": 16
        }
      ]
    },
    {
      "cell_type": "code",
      "metadata": {
        "id": "TmXh-eHiFE6l",
        "colab_type": "code",
        "colab": {
          "base_uri": "https://localhost:8080/",
          "height": 306
        },
        "outputId": "f0734b32-6d3c-47af-8101-7adc0a399b77"
      },
      "source": [
        "wine.info()"
      ],
      "execution_count": 8,
      "outputs": [
        {
          "output_type": "stream",
          "text": [
            "<class 'pandas.core.frame.DataFrame'>\n",
            "RangeIndex: 1599 entries, 0 to 1598\n",
            "Data columns (total 12 columns):\n",
            "fixed acidity           1599 non-null float64\n",
            "volatile acidity        1599 non-null float64\n",
            "citric acid             1599 non-null float64\n",
            "residual sugar          1599 non-null float64\n",
            "chlorides               1599 non-null float64\n",
            "free sulfur dioxide     1599 non-null float64\n",
            "total sulfur dioxide    1599 non-null float64\n",
            "density                 1599 non-null float64\n",
            "pH                      1599 non-null float64\n",
            "sulphates               1599 non-null float64\n",
            "alcohol                 1599 non-null float64\n",
            "quality                 1599 non-null int64\n",
            "dtypes: float64(11), int64(1)\n",
            "memory usage: 150.0 KB\n"
          ],
          "name": "stdout"
        }
      ]
    },
    {
      "cell_type": "code",
      "metadata": {
        "id": "lDDbzpNLS3GU",
        "colab_type": "code",
        "colab": {
          "base_uri": "https://localhost:8080/",
          "height": 238
        },
        "outputId": "d4c256d4-da8e-4808-b72b-32fc535f7bf9"
      },
      "source": [
        "# Check missing values\n",
        "wine.isnull().sum()"
      ],
      "execution_count": 15,
      "outputs": [
        {
          "output_type": "execute_result",
          "data": {
            "text/plain": [
              "fixed acidity           0\n",
              "volatile acidity        0\n",
              "citric acid             0\n",
              "residual sugar          0\n",
              "chlorides               0\n",
              "free sulfur dioxide     0\n",
              "total sulfur dioxide    0\n",
              "density                 0\n",
              "pH                      0\n",
              "sulphates               0\n",
              "alcohol                 0\n",
              "quality                 0\n",
              "dtype: int64"
            ]
          },
          "metadata": {
            "tags": []
          },
          "execution_count": 15
        }
      ]
    },
    {
      "cell_type": "markdown",
      "metadata": {
        "id": "X0l_eqFjYbz5",
        "colab_type": "text"
      },
      "source": [
        "## Divide features and labels"
      ]
    },
    {
      "cell_type": "code",
      "metadata": {
        "id": "jJEs1baIYocd",
        "colab_type": "code",
        "colab": {}
      },
      "source": [
        "X = wine.drop(['quality'], axis = 1)\n",
        "y = wine.quality"
      ],
      "execution_count": 0,
      "outputs": []
    },
    {
      "cell_type": "code",
      "metadata": {
        "id": "ApTf0ebYY1G4",
        "colab_type": "code",
        "colab": {
          "base_uri": "https://localhost:8080/",
          "height": 142
        },
        "outputId": "e7134688-6ec4-4553-ac3d-024329d47fc5"
      },
      "source": [
        "X.head(3)"
      ],
      "execution_count": 20,
      "outputs": [
        {
          "output_type": "execute_result",
          "data": {
            "text/html": [
              "<div>\n",
              "<style scoped>\n",
              "    .dataframe tbody tr th:only-of-type {\n",
              "        vertical-align: middle;\n",
              "    }\n",
              "\n",
              "    .dataframe tbody tr th {\n",
              "        vertical-align: top;\n",
              "    }\n",
              "\n",
              "    .dataframe thead th {\n",
              "        text-align: right;\n",
              "    }\n",
              "</style>\n",
              "<table border=\"1\" class=\"dataframe\">\n",
              "  <thead>\n",
              "    <tr style=\"text-align: right;\">\n",
              "      <th></th>\n",
              "      <th>fixed acidity</th>\n",
              "      <th>volatile acidity</th>\n",
              "      <th>citric acid</th>\n",
              "      <th>residual sugar</th>\n",
              "      <th>chlorides</th>\n",
              "      <th>free sulfur dioxide</th>\n",
              "      <th>total sulfur dioxide</th>\n",
              "      <th>density</th>\n",
              "      <th>pH</th>\n",
              "      <th>sulphates</th>\n",
              "      <th>alcohol</th>\n",
              "    </tr>\n",
              "  </thead>\n",
              "  <tbody>\n",
              "    <tr>\n",
              "      <th>0</th>\n",
              "      <td>7.4</td>\n",
              "      <td>0.70</td>\n",
              "      <td>0.00</td>\n",
              "      <td>1.9</td>\n",
              "      <td>0.076</td>\n",
              "      <td>11.0</td>\n",
              "      <td>34.0</td>\n",
              "      <td>0.9978</td>\n",
              "      <td>3.51</td>\n",
              "      <td>0.56</td>\n",
              "      <td>9.4</td>\n",
              "    </tr>\n",
              "    <tr>\n",
              "      <th>1</th>\n",
              "      <td>7.8</td>\n",
              "      <td>0.88</td>\n",
              "      <td>0.00</td>\n",
              "      <td>2.6</td>\n",
              "      <td>0.098</td>\n",
              "      <td>25.0</td>\n",
              "      <td>67.0</td>\n",
              "      <td>0.9968</td>\n",
              "      <td>3.20</td>\n",
              "      <td>0.68</td>\n",
              "      <td>9.8</td>\n",
              "    </tr>\n",
              "    <tr>\n",
              "      <th>2</th>\n",
              "      <td>7.8</td>\n",
              "      <td>0.76</td>\n",
              "      <td>0.04</td>\n",
              "      <td>2.3</td>\n",
              "      <td>0.092</td>\n",
              "      <td>15.0</td>\n",
              "      <td>54.0</td>\n",
              "      <td>0.9970</td>\n",
              "      <td>3.26</td>\n",
              "      <td>0.65</td>\n",
              "      <td>9.8</td>\n",
              "    </tr>\n",
              "  </tbody>\n",
              "</table>\n",
              "</div>"
            ],
            "text/plain": [
              "   fixed acidity  volatile acidity  citric acid  ...    pH  sulphates  alcohol\n",
              "0            7.4              0.70         0.00  ...  3.51       0.56      9.4\n",
              "1            7.8              0.88         0.00  ...  3.20       0.68      9.8\n",
              "2            7.8              0.76         0.04  ...  3.26       0.65      9.8\n",
              "\n",
              "[3 rows x 11 columns]"
            ]
          },
          "metadata": {
            "tags": []
          },
          "execution_count": 20
        }
      ]
    },
    {
      "cell_type": "code",
      "metadata": {
        "id": "ZiyCnQUxY3WF",
        "colab_type": "code",
        "colab": {
          "base_uri": "https://localhost:8080/",
          "height": 85
        },
        "outputId": "77783c19-3511-496b-9ace-d9eb7be4dc46"
      },
      "source": [
        "y.head(3)"
      ],
      "execution_count": 21,
      "outputs": [
        {
          "output_type": "execute_result",
          "data": {
            "text/plain": [
              "0    5\n",
              "1    5\n",
              "2    5\n",
              "Name: quality, dtype: int64"
            ]
          },
          "metadata": {
            "tags": []
          },
          "execution_count": 21
        }
      ]
    },
    {
      "cell_type": "markdown",
      "metadata": {
        "id": "_g9MKXr4Xv8m",
        "colab_type": "text"
      },
      "source": [
        "## Check normalization"
      ]
    },
    {
      "cell_type": "code",
      "metadata": {
        "id": "Fm3-UubqmdHM",
        "colab_type": "code",
        "colab": {
          "base_uri": "https://localhost:8080/",
          "height": 1000
        },
        "outputId": "3178d982-72fa-4ed9-c612-00d9b3b805be"
      },
      "source": [
        "print_stats_all(X)"
      ],
      "execution_count": 53,
      "outputs": [
        {
          "output_type": "stream",
          "text": [
            "\n",
            "\n",
            "1. fixed acidity\n"
          ],
          "name": "stdout"
        },
        {
          "output_type": "display_data",
          "data": {
            "image/png": "[encoded data removed]",
            "text/plain": [
              "<Figure size 432x288 with 1 Axes>"
            ]
          },
          "metadata": {
            "tags": []
          }
        },
        {
          "output_type": "stream",
          "text": [
            "mean :  8.319637273295838\n",
            "var  :  3.0295205688671296\n",
            "skew :  0.9818292953262073\n",
            "kurt :  1.1248563352037486\n",
            "shapiro :  (0.942030668258667, 1.5255951637239901e-24)\n",
            "normaltest :  NormaltestResult(statistic=224.53087840457746, pvalue=1.7528277735470436e-49)\n",
            "\n",
            "SKEW TEST: Данные рекомендуется логарифмировать\n",
            "\n",
            "\n",
            "SHAPIRO TEST: Данные рекомендуется нормализовать\n",
            "\n",
            "\n",
            "\n",
            "2. volatile acidity\n"
          ],
          "name": "stdout"
        },
        {
          "output_type": "display_data",
          "data": {
            "image/png": "[encoded data removed]",
            "text/plain": [
              "<Figure size 432x288 with 1 Axes>"
            ]
          },
          "metadata": {
            "tags": []
          }
        },
        {
          "output_type": "stream",
          "text": [
            "mean :  0.5278205128205131\n",
            "var  :  0.03204232613332036\n",
            "skew :  0.6709623963499574\n",
            "kurt :  1.2179633893005306\n",
            "shapiro :  (0.9743340611457825, 2.686806772838566e-16)\n",
            "normaltest :  NormaltestResult(statistic=143.4193435598286, pvalue=7.192589039756692e-32)\n",
            "\n",
            "SKEW TEST: Данные достаточно стандартизировать\n",
            "\n",
            "\n",
            "SHAPIRO TEST: Данные рекомендуется нормализовать\n",
            "\n",
            "\n",
            "\n",
            "3. citric acid\n"
          ],
          "name": "stdout"
        },
        {
          "output_type": "display_data",
          "data": {
            "image/png": "[encoded data removed]",
            "text/plain": [
              "<Figure size 432x288 with 1 Axes>"
            ]
          },
          "metadata": {
            "tags": []
          }
        },
        {
          "output_type": "stream",
          "text": [
            "mean :  0.2709756097560964\n",
            "var  :  0.037923751124940605\n",
            "skew :  0.3180385895475358\n",
            "kurt :  -0.7902825153036646\n",
            "shapiro :  (0.9552900195121765, 1.0208196357632134e-21)\n",
            "normaltest :  NormaltestResult(statistic=152.039214793795, pvalue=9.662822259281018e-34)\n",
            "\n",
            "SKEW TEST: Данные достаточно стандартизировать\n",
            "\n",
            "\n",
            "SHAPIRO TEST: Данные рекомендуется нормализовать\n",
            "\n",
            "\n",
            "\n",
            "4. residual sugar\n"
          ],
          "name": "stdout"
        },
        {
          "output_type": "display_data",
          "data": {
            "image/png": "[encoded data removed]",
            "text/plain": [
              "<Figure size 432x288 with 1 Axes>"
            ]
          },
          "metadata": {
            "tags": []
          }
        },
        {
          "output_type": "stream",
          "text": [
            "mean :  2.5388055034396517\n",
            "var  :  1.9866539202699018\n",
            "skew :  4.536394788805638\n",
            "kurt :  28.524437824252235\n",
            "shapiro :  (0.5660765171051025, 0.0)\n",
            "normaltest :  NormaltestResult(statistic=1520.3239698236891, pvalue=0.0)\n",
            "\n",
            "SKEW TEST: Данные рекомендуется нормализовать\n",
            "\n",
            "\n",
            "SHAPIRO TEST: Данные рекомендуется нормализовать\n",
            "\n",
            "\n",
            "\n",
            "5. chlorides\n"
          ],
          "name": "stdout"
        },
        {
          "output_type": "display_data",
          "data": {
            "image/png": "[encoded data removed]",
            "text/plain": [
              "<Figure size 432x288 with 1 Axes>"
            ]
          },
          "metadata": {
            "tags": []
          }
        },
        {
          "output_type": "stream",
          "text": [
            "mean :  0.08746654158849257\n",
            "var  :  0.0022137573233114395\n",
            "skew :  5.675016527504259\n",
            "kurt :  41.581708043675775\n",
            "shapiro :  (0.4842468500137329, 0.0)\n",
            "normaltest :  NormaltestResult(statistic=1783.1059225626427, pvalue=0.0)\n",
            "\n",
            "SKEW TEST: Данные рекомендуется нормализовать\n",
            "\n",
            "\n",
            "SHAPIRO TEST: Данные рекомендуется нормализовать\n",
            "\n",
            "\n",
            "\n",
            "6. free sulfur dioxide\n"
          ],
          "name": "stdout"
        },
        {
          "output_type": "display_data",
          "data": {
            "image/png": "[encoded data removed]",
            "text/plain": [
              "<Figure size 432x288 with 1 Axes>"
            ]
          },
          "metadata": {
            "tags": []
          }
        },
        {
          "output_type": "stream",
          "text": [
            "mean :  15.874921826141339\n",
            "var  :  109.3464567637451\n",
            "skew :  1.249393847434253\n",
            "kurt :  2.01348999733378\n",
            "shapiro :  (0.9018407464027405, 7.6973984391279615e-31)\n",
            "normaltest :  NormaltestResult(statistic=342.2591484251238, pvalue=4.779365332171477e-75)\n",
            "\n",
            "SKEW TEST: Данные рекомендуется нормализовать\n",
            "\n",
            "\n",
            "SHAPIRO TEST: Данные рекомендуется нормализовать\n",
            "\n",
            "\n",
            "\n",
            "7. total sulfur dioxide\n"
          ],
          "name": "stdout"
        },
        {
          "output_type": "display_data",
          "data": {
            "image/png": "[encoded data removed]",
            "text/plain": [
              "<Figure size 432x288 with 1 Axes>"
            ]
          },
          "metadata": {
            "tags": []
          }
        },
        {
          "output_type": "stream",
          "text": [
            "mean :  46.46779237023139\n",
            "var  :  1081.4256355891553\n",
            "skew :  1.5141091878506638\n",
            "kurt :  3.7941717664905665\n",
            "shapiro :  (0.8732253909111023, 3.5741436086741964e-34)\n",
            "normaltest :  NormaltestResult(statistic=487.42725648953467, pvalue=1.433890834343538e-106)\n",
            "\n",
            "SKEW TEST: Данные рекомендуется нормализовать\n",
            "\n",
            "\n",
            "SHAPIRO TEST: Данные рекомендуется нормализовать\n",
            "\n",
            "\n",
            "\n",
            "8. density\n"
          ],
          "name": "stdout"
        },
        {
          "output_type": "display_data",
          "data": {
            "image/png": "[encoded data removed]",
            "text/plain": [
              "<Figure size 432x288 with 1 Axes>"
            ]
          },
          "metadata": {
            "tags": []
          }
        },
        {
          "output_type": "stream",
          "text": [
            "mean :  0.9967466791744831\n",
            "var  :  3.559801792630711e-06\n",
            "skew :  0.07122077153539946\n",
            "kurt :  0.9274107990478333\n",
            "shapiro :  (0.9908668398857117, 1.9400959061499634e-08)\n",
            "normaltest :  NormaltestResult(statistic=30.70774994095191, pvalue=2.1473202738102222e-07)\n",
            "\n",
            "SKEW TEST: Данные достаточно стандартизировать\n",
            "\n",
            "\n",
            "SHAPIRO TEST: Данные рекомендуется нормализовать\n",
            "\n",
            "\n",
            "\n",
            "9. pH\n"
          ],
          "name": "stdout"
        },
        {
          "output_type": "display_data",
          "data": {
            "image/png": "[encoded data removed]",
            "text/plain": [
              "<Figure size 432x288 with 1 Axes>"
            ]
          },
          "metadata": {
            "tags": []
          }
        },
        {
          "output_type": "stream",
          "text": [
            "mean :  3.311113195747343\n",
            "var  :  0.023820274241131745\n",
            "skew :  0.19350175891005525\n",
            "kurt :  0.8006714441211544\n",
            "shapiro :  (0.993486762046814, 1.7136950418716879e-06)\n",
            "normaltest :  NormaltestResult(statistic=33.684697471483915, pvalue=4.8468645347727716e-08)\n",
            "\n",
            "SKEW TEST: Данные достаточно стандартизировать\n",
            "\n",
            "\n",
            "SHAPIRO TEST: Данные рекомендуется нормализовать\n",
            "\n",
            "\n",
            "\n",
            "10. sulphates\n"
          ],
          "name": "stdout"
        },
        {
          "output_type": "display_data",
          "data": {
            "image/png": "[encoded data removed]",
            "text/plain": [
              "<Figure size 432x288 with 1 Axes>"
            ]
          },
          "metadata": {
            "tags": []
          }
        },
        {
          "output_type": "stream",
          "text": [
            "mean :  0.6581488430268921\n",
            "var  :  0.028714647013983425\n",
            "skew :  2.426393455449087\n",
            "kurt :  11.6798841115311\n",
            "shapiro :  (0.8330425024032593, 5.821617678881608e-38)\n",
            "normaltest :  NormaltestResult(statistic=906.8944479227036, pvalue=1.1759065222978855e-197)\n",
            "\n",
            "SKEW TEST: Данные рекомендуется нормализовать\n",
            "\n",
            "\n",
            "SHAPIRO TEST: Данные рекомендуется нормализовать\n",
            "\n",
            "\n",
            "\n",
            "11. alcohol\n"
          ],
          "name": "stdout"
        },
        {
          "output_type": "display_data",
          "data": {
            "image/png": "[encoded data removed]",
            "text/plain": [
              "<Figure size 432x288 with 1 Axes>"
            ]
          },
          "metadata": {
            "tags": []
          }
        },
        {
          "output_type": "stream",
          "text": [
            "mean :  10.422983114446502\n",
            "var  :  1.1349371714888994\n",
            "skew :  0.8600210646566755\n",
            "kurt :  0.1956543762123122\n",
            "shapiro :  (0.9288389682769775, 6.643664824998876e-27)\n",
            "normaltest :  NormaltestResult(statistic=154.17806951912516, pvalue=3.3163288473185496e-34)\n",
            "\n",
            "SKEW TEST: Данные рекомендуется логарифмировать\n",
            "\n",
            "\n",
            "SHAPIRO TEST: Данные рекомендуется нормализовать\n",
            "\n"
          ],
          "name": "stdout"
        }
      ]
    },
    {
      "cell_type": "code",
      "metadata": {
        "id": "hzl88cC-XzR2",
        "colab_type": "code",
        "colab": {
          "base_uri": "https://localhost:8080/",
          "height": 1000
        },
        "outputId": "3175a2de-9cc8-4985-8291-21cf6dc5238c"
      },
      "source": [
        "# Check normalization\n",
        "for column in X.columns:\n",
        "  print(column)\n",
        "  analyze(X[column])\n",
        "  print(\"\\n\")"
      ],
      "execution_count": 30,
      "outputs": [
        {
          "output_type": "stream",
          "text": [
            "fixed acidity\n",
            "mean :  8.319637273295838\n",
            "var  :  3.0295205688671296\n",
            "skew :  0.9818292953262073\n",
            "kurt :  1.1248563352037486\n",
            "shapiro :  (0.942030668258667, 1.5255951637239901e-24)\n",
            "normaltest :  NormaltestResult(statistic=224.53087840457746, pvalue=1.7528277735470436e-49)\n",
            "\n",
            "\n",
            "volatile acidity\n",
            "mean :  0.5278205128205131\n",
            "var  :  0.03204232613332036\n",
            "skew :  0.6709623963499574\n",
            "kurt :  1.2179633893005306\n",
            "shapiro :  (0.9743340611457825, 2.686806772838566e-16)\n",
            "normaltest :  NormaltestResult(statistic=143.4193435598286, pvalue=7.192589039756692e-32)\n",
            "\n",
            "\n",
            "citric acid\n",
            "mean :  0.2709756097560964\n",
            "var  :  0.037923751124940605\n",
            "skew :  0.3180385895475358\n",
            "kurt :  -0.7902825153036646\n",
            "shapiro :  (0.9552900195121765, 1.0208196357632134e-21)\n",
            "normaltest :  NormaltestResult(statistic=152.039214793795, pvalue=9.662822259281018e-34)\n",
            "\n",
            "\n",
            "residual sugar\n",
            "mean :  2.5388055034396517\n",
            "var  :  1.9866539202699018\n",
            "skew :  4.536394788805638\n",
            "kurt :  28.524437824252235\n",
            "shapiro :  (0.5660765171051025, 0.0)\n",
            "normaltest :  NormaltestResult(statistic=1520.3239698236891, pvalue=0.0)\n",
            "\n",
            "\n",
            "chlorides\n",
            "mean :  0.08746654158849257\n",
            "var  :  0.0022137573233114395\n",
            "skew :  5.675016527504259\n",
            "kurt :  41.581708043675775\n",
            "shapiro :  (0.4842468500137329, 0.0)\n",
            "normaltest :  NormaltestResult(statistic=1783.1059225626427, pvalue=0.0)\n",
            "\n",
            "\n",
            "free sulfur dioxide\n",
            "mean :  15.874921826141339\n",
            "var  :  109.3464567637451\n",
            "skew :  1.249393847434253\n",
            "kurt :  2.01348999733378\n",
            "shapiro :  (0.9018407464027405, 7.6973984391279615e-31)\n",
            "normaltest :  NormaltestResult(statistic=342.2591484251238, pvalue=4.779365332171477e-75)\n",
            "\n",
            "\n",
            "total sulfur dioxide\n",
            "mean :  46.46779237023139\n",
            "var  :  1081.4256355891553\n",
            "skew :  1.5141091878506638\n",
            "kurt :  3.7941717664905665\n",
            "shapiro :  (0.8732253909111023, 3.5741436086741964e-34)\n",
            "normaltest :  NormaltestResult(statistic=487.42725648953467, pvalue=1.433890834343538e-106)\n",
            "\n",
            "\n",
            "density\n",
            "mean :  0.9967466791744831\n",
            "var  :  3.559801792630711e-06\n",
            "skew :  0.07122077153539946\n",
            "kurt :  0.9274107990478333\n",
            "shapiro :  (0.9908668398857117, 1.9400959061499634e-08)\n",
            "normaltest :  NormaltestResult(statistic=30.70774994095191, pvalue=2.1473202738102222e-07)\n",
            "\n",
            "\n",
            "pH\n",
            "mean :  3.311113195747343\n",
            "var  :  0.023820274241131745\n",
            "skew :  0.19350175891005525\n",
            "kurt :  0.8006714441211544\n",
            "shapiro :  (0.993486762046814, 1.7136950418716879e-06)\n",
            "normaltest :  NormaltestResult(statistic=33.684697471483915, pvalue=4.8468645347727716e-08)\n",
            "\n",
            "\n",
            "sulphates\n",
            "mean :  0.6581488430268921\n",
            "var  :  0.028714647013983425\n",
            "skew :  2.426393455449087\n",
            "kurt :  11.6798841115311\n",
            "shapiro :  (0.8330425024032593, 5.821617678881608e-38)\n",
            "normaltest :  NormaltestResult(statistic=906.8944479227036, pvalue=1.1759065222978855e-197)\n",
            "\n",
            "\n",
            "alcohol\n",
            "mean :  10.422983114446502\n",
            "var  :  1.1349371714888994\n",
            "skew :  0.8600210646566755\n",
            "kurt :  0.1956543762123122\n",
            "shapiro :  (0.9288389682769775, 6.643664824998876e-27)\n",
            "normaltest :  NormaltestResult(statistic=154.17806951912516, pvalue=3.3163288473185496e-34)\n",
            "\n",
            "\n"
          ],
          "name": "stdout"
        },
        {
          "output_type": "display_data",
          "data": {
            "image/png": "[encoded data removed]",
            "text/plain": [
              "<Figure size 432x288 with 1 Axes>"
            ]
          },
          "metadata": {
            "tags": []
          }
        }
      ]
    }
  ]
}