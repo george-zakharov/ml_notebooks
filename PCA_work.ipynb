{
  "nbformat": 4,
  "nbformat_minor": 0,
  "metadata": {
    "kernelspec": {
      "name": "python3",
      "display_name": "Python 3"
    },
    "language_info": {
      "codemirror_mode": {
        "name": "ipython",
        "version": 3
      },
      "file_extension": ".py",
      "mimetype": "text/x-python",
      "name": "python",
      "nbconvert_exporter": "python",
      "pygments_lexer": "ipython3",
      "version": "3.7.3"
    },
    "colab": {
      "name": "PCA_work.ipynb",
      "provenance": [],
      "collapsed_sections": [
        "1wwiF_DXYlPV",
        "oyK5_KvMZrnT",
        "US7DDhxag85P",
        "z1617ynSguXY",
        "1CXSvSOsuFJ5",
        "eRSWshVFjnyT"
      ],
      "toc_visible": true,
      "include_colab_link": true
    },
    "accelerator": "GPU"
  },
  "cells": [
    {
      "cell_type": "markdown",
      "metadata": {
        "id": "view-in-github",
        "colab_type": "text"
      },
      "source": [
        "<a href=\"https://colab.research.google.com/github/george-zakharov/ml_notebooks/blob/master/PCA_work.ipynb\" target=\"_parent\"><img src=\"https://colab.research.google.com/assets/colab-badge.svg\" alt=\"Open In Colab\"/></a>"
      ]
    },
    {
      "cell_type": "markdown",
      "metadata": {
        "id": "svglh-o7Pz5c",
        "colab_type": "text"
      },
      "source": [
        "### Homework 7\n",
        "\n",
        "\n",
        "\n",
        "#### Light: \n",
        "\n",
        "Датасет: https://www.kaggle.com/uciml/red-wine-quality-cortez-et-al-2009\n",
        "(из Homework 6)\n",
        "\n",
        "С помощью алгоритма PCA найти размерность пространства признаков до которой можно понизить исходное пространство без потери точности.\n",
        "\n",
        "\n",
        "#### Pro: \n",
        "\n",
        "Датасет: https://www1.nyc.gov/html/gbee/html/plan/ll84_scores.shtml\n",
        "(из Homework 4)\n",
        "\n",
        "С помощью алгоритма PCA (t-SNE) найти размерность пространства признаков до которой можно понизить исходное пространство без потери точности."
      ]
    },
    {
      "cell_type": "markdown",
      "metadata": {
        "id": "1wwiF_DXYlPV",
        "colab_type": "text"
      },
      "source": [
        "# Load Libs"
      ]
    },
    {
      "cell_type": "code",
      "metadata": {
        "id": "ZBvln67wYnAl",
        "colab_type": "code",
        "colab": {}
      },
      "source": [
        "import numpy as np\n",
        "import pandas as pd\n",
        "\n",
        "import matplotlib.pyplot as plt\n",
        "\n",
        "# Compression libs\n",
        "from sklearn import decomposition\n",
        "from sklearn.manifold import TSNE\n",
        "\n",
        "\n",
        "# Normalization tests\n",
        "from scipy.stats import kurtosis\n",
        "from scipy.stats import skew\n",
        "from scipy.stats import shapiro\n",
        "from scipy.stats import normaltest\n",
        "\n",
        "# Data normalization / standartization\n",
        "from sklearn.preprocessing import PowerTransformer, MinMaxScaler, StandardScaler\n",
        "\n",
        "# libs for train tuning\n",
        "from sklearn.model_selection import GridSearchCV, cross_val_score, train_test_split\n",
        "\n",
        "# Data resampling\n",
        "from sklearn.utils import resample\n",
        "from imblearn.over_sampling import SMOTE\n",
        "\n",
        "# Boosting\n",
        "from sklearn.ensemble import GradientBoostingClassifier\n",
        "from xgboost.sklearn import XGBClassifier\n",
        "\n",
        "# Model parameters fitting\n",
        "from sklearn.model_selection import GridSearchCV\n",
        "\n",
        "# Metrics\n",
        "from sklearn.metrics import accuracy_score, auc, f1_score, confusion_matrix,precision_score, recall_score, roc_auc_score, roc_curve, mean_absolute_error\n",
        "\n",
        "from sklearn.preprocessing import StandardScaler, MinMaxScaler, PolynomialFeatures\n",
        "from sklearn.linear_model import LogisticRegression, LogisticRegressionCV, LinearRegression, LassoCV, Lasso, Ridge, SGDRegressor\n",
        "from sklearn.model_selection import cross_val_score, cross_val_predict, StratifiedKFold, GridSearchCV, train_test_split\n",
        "from sklearn.metrics import r2_score\n",
        "from sklearn.ensemble import ExtraTreesClassifier\n",
        "from sklearn.feature_selection import SelectKBest, chi2, SelectFromModel\n",
        "from sklearn.pipeline import Pipeline, FeatureUnion\n",
        "from sklearn.svm import LinearSVR\n",
        "import sys"
      ],
      "execution_count": 0,
      "outputs": []
    },
    {
      "cell_type": "markdown",
      "metadata": {
        "id": "FavEUQ3AZmgG",
        "colab_type": "text"
      },
      "source": [
        "# Light"
      ]
    },
    {
      "cell_type": "markdown",
      "metadata": {
        "id": "oyK5_KvMZrnT",
        "colab_type": "text"
      },
      "source": [
        "## Load dataset"
      ]
    },
    {
      "cell_type": "code",
      "metadata": {
        "id": "1vNz4BQIZuFl",
        "colab_type": "code",
        "outputId": "b9391050-d6da-4672-f6b0-c2c4751f3aad",
        "colab": {
          "base_uri": "https://localhost:8080/",
          "height": 122
        }
      },
      "source": [
        "from google.colab import drive\n",
        "drive.mount('/content/drive', force_remount = True)"
      ],
      "execution_count": 2,
      "outputs": [
        {
          "output_type": "stream",
          "text": [
            "Go to this URL in a browser: https://accounts.google.com/o/oauth2/auth?client_id=947318989803-6bn6qk8qdgf4n4g3pfee6491hc0brc4i.apps.googleusercontent.com&redirect_uri=urn%3aietf%3awg%3aoauth%3a2.0%3aoob&response_type=code&scope=email%20https%3a%2f%2fwww.googleapis.com%2fauth%2fdocs.test%20https%3a%2f%2fwww.googleapis.com%2fauth%2fdrive%20https%3a%2f%2fwww.googleapis.com%2fauth%2fdrive.photos.readonly%20https%3a%2f%2fwww.googleapis.com%2fauth%2fpeopleapi.readonly\n",
            "\n",
            "Enter your authorization code:\n",
            "··········\n",
            "Mounted at /content/drive\n"
          ],
          "name": "stdout"
        }
      ]
    },
    {
      "cell_type": "code",
      "metadata": {
        "id": "XpTOmaYuaSkM",
        "colab_type": "code",
        "colab": {}
      },
      "source": [
        "wine = pd.read_csv('/content/drive/My Drive/Colab Notebooks/ML/6/data/winequality-red.csv')"
      ],
      "execution_count": 0,
      "outputs": []
    },
    {
      "cell_type": "code",
      "metadata": {
        "id": "KQuli5AgajvE",
        "colab_type": "code",
        "outputId": "20d4b82e-211f-454a-a5c8-32d947e2ed80",
        "colab": {
          "base_uri": "https://localhost:8080/",
          "height": 204
        }
      },
      "source": [
        "wine.head()"
      ],
      "execution_count": 5,
      "outputs": [
        {
          "output_type": "execute_result",
          "data": {
            "text/html": [
              "<div>\n",
              "<style scoped>\n",
              "    .dataframe tbody tr th:only-of-type {\n",
              "        vertical-align: middle;\n",
              "    }\n",
              "\n",
              "    .dataframe tbody tr th {\n",
              "        vertical-align: top;\n",
              "    }\n",
              "\n",
              "    .dataframe thead th {\n",
              "        text-align: right;\n",
              "    }\n",
              "</style>\n",
              "<table border=\"1\" class=\"dataframe\">\n",
              "  <thead>\n",
              "    <tr style=\"text-align: right;\">\n",
              "      <th></th>\n",
              "      <th>fixed acidity</th>\n",
              "      <th>volatile acidity</th>\n",
              "      <th>citric acid</th>\n",
              "      <th>residual sugar</th>\n",
              "      <th>chlorides</th>\n",
              "      <th>free sulfur dioxide</th>\n",
              "      <th>total sulfur dioxide</th>\n",
              "      <th>density</th>\n",
              "      <th>pH</th>\n",
              "      <th>sulphates</th>\n",
              "      <th>alcohol</th>\n",
              "      <th>quality</th>\n",
              "    </tr>\n",
              "  </thead>\n",
              "  <tbody>\n",
              "    <tr>\n",
              "      <th>0</th>\n",
              "      <td>7.4</td>\n",
              "      <td>0.70</td>\n",
              "      <td>0.00</td>\n",
              "      <td>1.9</td>\n",
              "      <td>0.076</td>\n",
              "      <td>11.0</td>\n",
              "      <td>34.0</td>\n",
              "      <td>0.9978</td>\n",
              "      <td>3.51</td>\n",
              "      <td>0.56</td>\n",
              "      <td>9.4</td>\n",
              "      <td>5</td>\n",
              "    </tr>\n",
              "    <tr>\n",
              "      <th>1</th>\n",
              "      <td>7.8</td>\n",
              "      <td>0.88</td>\n",
              "      <td>0.00</td>\n",
              "      <td>2.6</td>\n",
              "      <td>0.098</td>\n",
              "      <td>25.0</td>\n",
              "      <td>67.0</td>\n",
              "      <td>0.9968</td>\n",
              "      <td>3.20</td>\n",
              "      <td>0.68</td>\n",
              "      <td>9.8</td>\n",
              "      <td>5</td>\n",
              "    </tr>\n",
              "    <tr>\n",
              "      <th>2</th>\n",
              "      <td>7.8</td>\n",
              "      <td>0.76</td>\n",
              "      <td>0.04</td>\n",
              "      <td>2.3</td>\n",
              "      <td>0.092</td>\n",
              "      <td>15.0</td>\n",
              "      <td>54.0</td>\n",
              "      <td>0.9970</td>\n",
              "      <td>3.26</td>\n",
              "      <td>0.65</td>\n",
              "      <td>9.8</td>\n",
              "      <td>5</td>\n",
              "    </tr>\n",
              "    <tr>\n",
              "      <th>3</th>\n",
              "      <td>11.2</td>\n",
              "      <td>0.28</td>\n",
              "      <td>0.56</td>\n",
              "      <td>1.9</td>\n",
              "      <td>0.075</td>\n",
              "      <td>17.0</td>\n",
              "      <td>60.0</td>\n",
              "      <td>0.9980</td>\n",
              "      <td>3.16</td>\n",
              "      <td>0.58</td>\n",
              "      <td>9.8</td>\n",
              "      <td>6</td>\n",
              "    </tr>\n",
              "    <tr>\n",
              "      <th>4</th>\n",
              "      <td>7.4</td>\n",
              "      <td>0.70</td>\n",
              "      <td>0.00</td>\n",
              "      <td>1.9</td>\n",
              "      <td>0.076</td>\n",
              "      <td>11.0</td>\n",
              "      <td>34.0</td>\n",
              "      <td>0.9978</td>\n",
              "      <td>3.51</td>\n",
              "      <td>0.56</td>\n",
              "      <td>9.4</td>\n",
              "      <td>5</td>\n",
              "    </tr>\n",
              "  </tbody>\n",
              "</table>\n",
              "</div>"
            ],
            "text/plain": [
              "   fixed acidity  volatile acidity  citric acid  ...  sulphates  alcohol  quality\n",
              "0            7.4              0.70         0.00  ...       0.56      9.4        5\n",
              "1            7.8              0.88         0.00  ...       0.68      9.8        5\n",
              "2            7.8              0.76         0.04  ...       0.65      9.8        5\n",
              "3           11.2              0.28         0.56  ...       0.58      9.8        6\n",
              "4            7.4              0.70         0.00  ...       0.56      9.4        5\n",
              "\n",
              "[5 rows x 12 columns]"
            ]
          },
          "metadata": {
            "tags": []
          },
          "execution_count": 5
        }
      ]
    },
    {
      "cell_type": "markdown",
      "metadata": {
        "id": "US7DDhxag85P",
        "colab_type": "text"
      },
      "source": [
        "## User defined functions"
      ]
    },
    {
      "cell_type": "code",
      "metadata": {
        "id": "xa08jH6Decmo",
        "colab_type": "code",
        "colab": {}
      },
      "source": [
        "def get_upsampled_wine_data(wine_preprocessed):\n",
        "  # Get data classes for further balancing\n",
        "  wine_3 = wine_preprocessed[wine_preprocessed.quality == 3]\n",
        "  wine_4 = wine_preprocessed[wine_preprocessed.quality == 4]\n",
        "  wine_5 = wine_preprocessed[wine_preprocessed.quality == 5]\n",
        "  wine_6 = wine_preprocessed[wine_preprocessed.quality == 6]\n",
        "  wine_7 = wine_preprocessed[wine_preprocessed.quality == 7]\n",
        "  wine_8 = wine_preprocessed[wine_preprocessed.quality == 8]\n",
        "\n",
        "  # Use upsampling (based on the previous work best results)\n",
        "\n",
        "  # Transform classes\n",
        "  wine_3_upsampled = resample(wine_3, replace = True, n_samples = len(wine_5), random_state = 42)\n",
        "  wine_4_upsampled = resample(wine_4, replace = True, n_samples = len(wine_5), random_state = 42)\n",
        "  wine_6_upsampled = resample(wine_6, replace = True, n_samples = len(wine_5), random_state = 42)\n",
        "  wine_7_upsampled = resample(wine_7, replace = True, n_samples = len(wine_5), random_state = 42)\n",
        "  wine_8_upsampled = resample(wine_8, replace = True, n_samples = len(wine_5), random_state = 42)\n",
        "\n",
        "  wine_upsampled = pd.concat([wine_5, wine_3_upsampled, wine_4_upsampled, wine_6_upsampled, wine_7_upsampled, wine_8_upsampled])\n",
        "\n",
        "  X_ups = wine_upsampled.drop('quality', axis = 1)\n",
        "  y_ups = wine_upsampled.quality\n",
        "\n",
        "  return X_ups, y_ups"
      ],
      "execution_count": 0,
      "outputs": []
    },
    {
      "cell_type": "code",
      "metadata": {
        "id": "SK8Rulf1pJ5j",
        "colab_type": "code",
        "colab": {}
      },
      "source": [
        "# Train model and get accuracy score\n",
        "def train_and_get_accuracy(X_train, y_train, X_test, y_test):\n",
        "  model = XGBClassifier(\n",
        "    base_score = 0.5, booster = 'gbtree', colsample_bylevel = 1, colsample_bynode = 1,\n",
        "    colsample_bytree = 1, gamma = 0, learning_rate = 0.1, max_delta_step = 0, max_depth = 3,\n",
        "    min_child_weight = 1, missing = None, n_estimators = 100, n_jobs = 1, nthread = None,\n",
        "    objective = 'binary:logistic', random_state = 0, reg_alpha = 0, reg_lambda = 1,\n",
        "    scale_pos_weight = 1, seed = None, silent = None, subsample = 1, verbosity = 1\n",
        "  )\n",
        "\n",
        "  model.fit(X_train, y_train)\n",
        "\n",
        "  # make predictions for test data\n",
        "  y_pred = model.predict(X_test)\n",
        "  predictions = [round(value) for value in y_pred]\n",
        "\n",
        "  # evaluate predictions\n",
        "  accuracy = accuracy_score(y_test, predictions)\n",
        "  result = \"Accuracy: %.2f%%\" % (accuracy * 100.0)\n",
        "  return result"
      ],
      "execution_count": 0,
      "outputs": []
    },
    {
      "cell_type": "code",
      "metadata": {
        "id": "L72NI2j6h7l0",
        "colab_type": "code",
        "colab": {}
      },
      "source": [
        "# Functions for normalization test\n",
        "def draw_hist_for_feature(data):\n",
        "  plt.style.use('ggplot')\n",
        "  data.hist(bins = 60)\n",
        "  plt.show()\n",
        "\n",
        "\n",
        "def chech_skew(feature):\n",
        "  method_name = '\\nSKEW TEST: '\n",
        "  skew_ = np.abs(skew(feature))\n",
        "  if (skew_ >= 0.75) and (skew_ < 1.0):\n",
        "    print(method_name + 'Данные рекомендуется логарифмировать\\n')\n",
        "  elif skew_ >= 1:\n",
        "    print(method_name + 'Данные рекомендуется нормализовать\\n')\n",
        "  else:\n",
        "    print(method_name + 'Данные достаточно стандартизировать\\n')\n",
        "\n",
        "\n",
        "def check_shapiro(feature):\n",
        "  method_name = '\\nSHAPIRO TEST: '\n",
        "  shapiro_ = np.abs(shapiro(feature))\n",
        "  if (shapiro_[1] < 0.50):\n",
        "    print(method_name + 'Данные рекомендуется нормализовать\\n')\n",
        "  else:\n",
        "    print(method_name + 'Данные достаточно стандартизировать\\n')\n",
        "\n",
        "\n",
        "def print_stats(data, need_hist = True):\n",
        "  if (need_hist == True):\n",
        "    draw_hist_for_feature(data)\n",
        "\n",
        "  print(\"mean : \", np.mean(data))\n",
        "  print(\"var  : \", np.var(data))\n",
        "  print(\"skew : \", skew(data))\n",
        "  print(\"kurt : \", kurtosis(data))\n",
        "  print(\"shapiro : \", shapiro(data))\n",
        "  print(\"normaltest : \", normaltest(data))\n",
        "\n",
        "\n",
        "def print_stats_all(df, need_hist = True):\n",
        "  n = 1\n",
        "  for feature_name in df.columns:\n",
        "    print(f'\\n\\n{n}. {feature_name}')\n",
        "    print_stats(df[feature_name], need_hist)\n",
        "    chech_skew(df[feature_name])\n",
        "    check_shapiro(df[feature_name])\n",
        "    n += 1"
      ],
      "execution_count": 0,
      "outputs": []
    },
    {
      "cell_type": "code",
      "metadata": {
        "id": "DN-t-dH4g_Yw",
        "colab_type": "code",
        "colab": {}
      },
      "source": [
        "# Data preprocessing according to skew metrics\n",
        "def data_preprocessing(df):\n",
        "  n = 1\n",
        "  for feature_name in df.columns:\n",
        "    print(f'\\n\\n{n}. {feature_name}')\n",
        "    feature = df[feature_name]\n",
        "\n",
        "    print_stats(feature)\n",
        "    \n",
        "    skew_ = np.abs(skew(feature))\n",
        "\n",
        "    if (skew_ >= 0.75) and (skew_ < 1.0):\n",
        "      print('\\nДанные рекомендуется логарифмировать\\n')\n",
        "      feature = np.log(feature)\n",
        "    elif skew_ >= 1:\n",
        "      if feature.min() > 0:\n",
        "        print('\\nДанные рекомендуется нормализовать методом boxcox\\n')\n",
        "        box_cox_transform = PowerTransformer(method = 'box-cox', standardize = False)\n",
        "        feature = box_cox_transform.fit_transform(feature.values.reshape(df.shape[0], -1))\n",
        "      else:\n",
        "        print('\\nДанные рекомендуется нормализовать методом yeo-johnson\\n')\n",
        "        yeo_johnson_transform = PowerTransformer(method = 'yeo-johnson', standardize = False)\n",
        "        feature = yeo_johnson_transform.fit_transform(feature.values.reshape(df.shape[0], -1))\n",
        "    else:\n",
        "      print('\\nДанные достаточно стандартизировать\\n')\n",
        "\n",
        "    print_stats(pd.DataFrame(feature, columns = [feature_name]))\n",
        "    chech_skew(feature)\n",
        "\n",
        "    df[feature_name] = feature\n",
        "\n",
        "    n += 1\n",
        "\n",
        "  return df"
      ],
      "execution_count": 0,
      "outputs": []
    },
    {
      "cell_type": "code",
      "metadata": {
        "id": "hkqcfkkJhC1F",
        "colab_type": "code",
        "colab": {}
      },
      "source": [
        "# Data standartization\n",
        "def scale_std_minmax(df):\n",
        "  print(df.shape)\n",
        "\n",
        "  scaler = StandardScaler()\n",
        "  print(scaler.fit(df.copy()))\n",
        "  StandardScaler()\n",
        "  result = scaler.transform(df.copy())\n",
        "  result = pd.DataFrame(result, columns = df.columns)\n",
        "\n",
        "\n",
        "  scaler = MinMaxScaler()\n",
        "  print(scaler.fit(result))\n",
        "  MinMaxScaler(copy = True, feature_range = (0, 1))\n",
        "  print(scaler.data_max_)\n",
        "  result = scaler.transform(result)\n",
        "  result = pd.DataFrame(result, columns = df.columns)\n",
        "  \n",
        "  return result"
      ],
      "execution_count": 0,
      "outputs": []
    },
    {
      "cell_type": "markdown",
      "metadata": {
        "id": "z1617ynSguXY",
        "colab_type": "text"
      },
      "source": [
        "## Dataset transformations"
      ]
    },
    {
      "cell_type": "code",
      "metadata": {
        "id": "BrfYXcpdgw-W",
        "colab_type": "code",
        "colab": {}
      },
      "source": [
        "# Divide features and labels\n",
        "X = wine.drop(['quality'], axis = 1)\n",
        "y = wine.quality"
      ],
      "execution_count": 0,
      "outputs": []
    },
    {
      "cell_type": "code",
      "metadata": {
        "id": "wvrq8qZlhZdh",
        "colab_type": "code",
        "outputId": "b3ac34a0-bded-443e-bd18-b9fd84fc680d",
        "colab": {
          "base_uri": "https://localhost:8080/",
          "height": 1000
        }
      },
      "source": [
        "# Normalization\n",
        "X_normalized = data_preprocessing(X)"
      ],
      "execution_count": 11,
      "outputs": [
        {
          "output_type": "stream",
          "text": [
            "\n",
            "\n",
            "1. fixed acidity\n"
          ],
          "name": "stdout"
        },
        {
          "output_type": "display_data",
          "data": {
            "image/png": "[encoded data removed]",
            "text/plain": [
              "<Figure size 432x288 with 1 Axes>"
            ]
          },
          "metadata": {
            "tags": []
          }
        },
        {
          "output_type": "stream",
          "text": [
            "mean :  8.319637273295838\n",
            "var  :  3.0295205688671296\n",
            "skew :  0.9818292953262073\n",
            "kurt :  1.1248563352037486\n",
            "shapiro :  (0.942030668258667, 1.5255951637239901e-24)\n",
            "normaltest :  NormaltestResult(statistic=224.53087840457746, pvalue=1.7528277735470436e-49)\n",
            "\n",
            "Данные рекомендуется логарифмировать\n",
            "\n"
          ],
          "name": "stdout"
        },
        {
          "output_type": "display_data",
          "data": {
            "image/png": "[encoded data removed]",
            "text/plain": [
              "<Figure size 432x288 with 1 Axes>"
            ]
          },
          "metadata": {
            "tags": []
          }
        },
        {
          "output_type": "stream",
          "text": [
            "mean :  fixed acidity    2.098226\n",
            "dtype: float64\n",
            "var  :  fixed acidity    0.03974\n",
            "dtype: float64\n",
            "skew :  [0.39354537]\n",
            "kurt :  [0.09695618]\n",
            "shapiro :  (0.9848697185516357, 6.456312047486978e-12)\n",
            "normaltest :  NormaltestResult(statistic=array([39.54165981]), pvalue=array([2.59201595e-09]))\n",
            "\n",
            "SKEW TEST: Данные достаточно стандартизировать\n",
            "\n",
            "\n",
            "\n",
            "2. volatile acidity\n"
          ],
          "name": "stdout"
        },
        {
          "output_type": "display_data",
          "data": {
            "image/png": "[encoded data removed]",
            "text/plain": [
              "<Figure size 432x288 with 1 Axes>"
            ]
          },
          "metadata": {
            "tags": []
          }
        },
        {
          "output_type": "stream",
          "text": [
            "mean :  0.5278205128205131\n",
            "var  :  0.03204232613332036\n",
            "skew :  0.6709623963499574\n",
            "kurt :  1.2179633893005306\n",
            "shapiro :  (0.9743340611457825, 2.686806772838566e-16)\n",
            "normaltest :  NormaltestResult(statistic=143.4193435598286, pvalue=7.192589039756692e-32)\n",
            "\n",
            "Данные достаточно стандартизировать\n",
            "\n"
          ],
          "name": "stdout"
        },
        {
          "output_type": "display_data",
          "data": {
            "image/png": "[encoded data removed]",
            "text/plain": [
              "<Figure size 432x288 with 1 Axes>"
            ]
          },
          "metadata": {
            "tags": []
          }
        },
        {
          "output_type": "stream",
          "text": [
            "mean :  volatile acidity    0.527821\n",
            "dtype: float64\n",
            "var  :  volatile acidity    0.032042\n",
            "dtype: float64\n",
            "skew :  [0.6709624]\n",
            "kurt :  [1.21796339]\n",
            "shapiro :  (0.9743340611457825, 2.686806772838566e-16)\n",
            "normaltest :  NormaltestResult(statistic=array([143.41934356]), pvalue=array([7.19258904e-32]))\n",
            "\n",
            "SKEW TEST: Данные достаточно стандартизировать\n",
            "\n",
            "\n",
            "\n",
            "3. citric acid\n"
          ],
          "name": "stdout"
        },
        {
          "output_type": "display_data",
          "data": {
            "image/png": "[encoded data removed]",
            "text/plain": [
              "<Figure size 432x288 with 1 Axes>"
            ]
          },
          "metadata": {
            "tags": []
          }
        },
        {
          "output_type": "stream",
          "text": [
            "mean :  0.2709756097560964\n",
            "var  :  0.037923751124940605\n",
            "skew :  0.3180385895475358\n",
            "kurt :  -0.7902825153036646\n",
            "shapiro :  (0.9552900195121765, 1.0208196357632134e-21)\n",
            "normaltest :  NormaltestResult(statistic=152.039214793795, pvalue=9.662822259281018e-34)\n",
            "\n",
            "Данные достаточно стандартизировать\n",
            "\n"
          ],
          "name": "stdout"
        },
        {
          "output_type": "display_data",
          "data": {
            "image/png": "[encoded data removed]",
            "text/plain": [
              "<Figure size 432x288 with 1 Axes>"
            ]
          },
          "metadata": {
            "tags": []
          }
        },
        {
          "output_type": "stream",
          "text": [
            "mean :  citric acid    0.270976\n",
            "dtype: float64\n",
            "var  :  citric acid    0.037924\n",
            "dtype: float64\n",
            "skew :  [0.31803859]\n",
            "kurt :  [-0.79028252]\n",
            "shapiro :  (0.9552900195121765, 1.0208196357632134e-21)\n",
            "normaltest :  NormaltestResult(statistic=array([152.03921479]), pvalue=array([9.66282226e-34]))\n",
            "\n",
            "SKEW TEST: Данные достаточно стандартизировать\n",
            "\n",
            "\n",
            "\n",
            "4. residual sugar\n"
          ],
          "name": "stdout"
        },
        {
          "output_type": "display_data",
          "data": {
            "image/png": "[encoded data removed]",
            "text/plain": [
              "<Figure size 432x288 with 1 Axes>"
            ]
          },
          "metadata": {
            "tags": []
          }
        },
        {
          "output_type": "stream",
          "text": [
            "mean :  2.5388055034396517\n",
            "var  :  1.9866539202699018\n",
            "skew :  4.536394788805638\n",
            "kurt :  28.524437824252235\n",
            "shapiro :  (0.5660765171051025, 0.0)\n",
            "normaltest :  NormaltestResult(statistic=1520.3239698236891, pvalue=0.0)\n",
            "\n",
            "Данные рекомендуется нормализовать методом boxcox\n",
            "\n"
          ],
          "name": "stdout"
        },
        {
          "output_type": "display_data",
          "data": {
            "image/png": "[encoded data removed]",
            "text/plain": [
              "<Figure size 432x288 with 1 Axes>"
            ]
          },
          "metadata": {
            "tags": []
          }
        },
        {
          "output_type": "stream",
          "text": [
            "mean :  residual sugar    0.513556\n",
            "dtype: float64\n",
            "var  :  residual sugar    0.01211\n",
            "dtype: float64\n",
            "skew :  [-0.09584002]\n",
            "kurt :  [1.60404381]\n",
            "shapiro :  (0.9759386777877808, 1.011885569943366e-15)\n",
            "normaltest :  NormaltestResult(statistic=array([62.41154248]), pvalue=array([2.80224271e-14]))\n",
            "\n",
            "SKEW TEST: Данные достаточно стандартизировать\n",
            "\n",
            "\n",
            "\n",
            "5. chlorides\n"
          ],
          "name": "stdout"
        },
        {
          "output_type": "display_data",
          "data": {
            "image/png": "[encoded data removed]",
            "text/plain": [
              "<Figure size 432x288 with 1 Axes>"
            ]
          },
          "metadata": {
            "tags": []
          }
        },
        {
          "output_type": "stream",
          "text": [
            "mean :  0.08746654158849257\n",
            "var  :  0.0022137573233114395\n",
            "skew :  5.675016527504259\n",
            "kurt :  41.581708043675775\n",
            "shapiro :  (0.4842468500137329, 0.0)\n",
            "normaltest :  NormaltestResult(statistic=1783.1059225626427, pvalue=0.0)\n",
            "\n",
            "Данные рекомендуется нормализовать методом boxcox\n",
            "\n"
          ],
          "name": "stdout"
        },
        {
          "output_type": "display_data",
          "data": {
            "image/png": "[encoded data removed]",
            "text/plain": [
              "<Figure size 432x288 with 1 Axes>"
            ]
          },
          "metadata": {
            "tags": []
          }
        },
        {
          "output_type": "stream",
          "text": [
            "mean :  chlorides   -4.763474\n",
            "dtype: float64\n",
            "var  :  chlorides    0.926346\n",
            "dtype: float64\n",
            "skew :  [-0.49917442]\n",
            "kurt :  [14.5513695]\n",
            "shapiro :  (0.8716785907745361, 2.4586373518860107e-34)\n",
            "normaltest :  NormaltestResult(statistic=array([412.77325778]), pvalue=array([2.33037565e-90]))\n",
            "\n",
            "SKEW TEST: Данные достаточно стандартизировать\n",
            "\n",
            "\n",
            "\n",
            "6. free sulfur dioxide\n"
          ],
          "name": "stdout"
        },
        {
          "output_type": "display_data",
          "data": {
            "image/png": "[encoded data removed]",
            "text/plain": [
              "<Figure size 432x288 with 1 Axes>"
            ]
          },
          "metadata": {
            "tags": []
          }
        },
        {
          "output_type": "stream",
          "text": [
            "mean :  15.874921826141339\n",
            "var  :  109.3464567637451\n",
            "skew :  1.249393847434253\n",
            "kurt :  2.01348999733378\n",
            "shapiro :  (0.9018407464027405, 7.6973984391279615e-31)\n",
            "normaltest :  NormaltestResult(statistic=342.2591484251238, pvalue=4.779365332171477e-75)\n",
            "\n",
            "Данные рекомендуется нормализовать методом boxcox\n",
            "\n"
          ],
          "name": "stdout"
        },
        {
          "output_type": "display_data",
          "data": {
            "image/png": "[encoded data removed]",
            "text/plain": [
              "<Figure size 432x288 with 1 Axes>"
            ]
          },
          "metadata": {
            "tags": []
          }
        },
        {
          "output_type": "stream",
          "text": [
            "mean :  free sulfur dioxide    3.129049\n",
            "dtype: float64\n",
            "var  :  free sulfur dioxide    0.971227\n",
            "dtype: float64\n",
            "skew :  [-0.01975919]\n",
            "kurt :  [-0.59777277]\n",
            "shapiro :  (0.9874722361564636, 1.5522860774552782e-10)\n",
            "normaltest :  NormaltestResult(statistic=array([49.9466963]), pvalue=array([1.42630598e-11]))\n",
            "\n",
            "SKEW TEST: Данные достаточно стандартизировать\n",
            "\n",
            "\n",
            "\n",
            "7. total sulfur dioxide\n"
          ],
          "name": "stdout"
        },
        {
          "output_type": "display_data",
          "data": {
            "image/png": "[encoded data removed]",
            "text/plain": [
              "<Figure size 432x288 with 1 Axes>"
            ]
          },
          "metadata": {
            "tags": []
          }
        },
        {
          "output_type": "stream",
          "text": [
            "mean :  46.46779237023139\n",
            "var  :  1081.4256355891553\n",
            "skew :  1.5141091878506638\n",
            "kurt :  3.7941717664905665\n",
            "shapiro :  (0.8732253909111023, 3.5741436086741964e-34)\n",
            "normaltest :  NormaltestResult(statistic=487.42725648953467, pvalue=1.433890834343538e-106)\n",
            "\n",
            "Данные рекомендуется нормализовать методом boxcox\n",
            "\n"
          ],
          "name": "stdout"
        },
        {
          "output_type": "display_data",
          "data": {
            "image/png": "[encoded data removed]",
            "text/plain": [
              "<Figure size 432x288 with 1 Axes>"
            ]
          },
          "metadata": {
            "tags": []
          }
        },
        {
          "output_type": "stream",
          "text": [
            "mean :  total sulfur dioxide    3.965719\n",
            "dtype: float64\n",
            "var  :  total sulfur dioxide    0.715565\n",
            "dtype: float64\n",
            "skew :  [-0.00802061]\n",
            "kurt :  [-0.67038533]\n",
            "shapiro :  (0.990358293056488, 8.859659672566522e-09)\n",
            "normaltest :  NormaltestResult(statistic=array([71.36209297]), pvalue=array([3.19093827e-16]))\n",
            "\n",
            "SKEW TEST: Данные достаточно стандартизировать\n",
            "\n",
            "\n",
            "\n",
            "8. density\n"
          ],
          "name": "stdout"
        },
        {
          "output_type": "display_data",
          "data": {
            "image/png": "[encoded data removed]",
            "text/plain": [
              "<Figure size 432x288 with 1 Axes>"
            ]
          },
          "metadata": {
            "tags": []
          }
        },
        {
          "output_type": "stream",
          "text": [
            "mean :  0.9967466791744831\n",
            "var  :  3.559801792630711e-06\n",
            "skew :  0.07122077153539946\n",
            "kurt :  0.9274107990478333\n",
            "shapiro :  (0.9908668398857117, 1.9400959061499634e-08)\n",
            "normaltest :  NormaltestResult(statistic=30.70774994095191, pvalue=2.1473202738102222e-07)\n",
            "\n",
            "Данные достаточно стандартизировать\n",
            "\n"
          ],
          "name": "stdout"
        },
        {
          "output_type": "display_data",
          "data": {
            "image/png": "[encoded data removed]",
            "text/plain": [
              "<Figure size 432x288 with 1 Axes>"
            ]
          },
          "metadata": {
            "tags": []
          }
        },
        {
          "output_type": "stream",
          "text": [
            "mean :  density    0.996747\n",
            "dtype: float64\n",
            "var  :  density    0.000004\n",
            "dtype: float64\n",
            "skew :  [0.07122077]\n",
            "kurt :  [0.9274108]\n",
            "shapiro :  (0.9908668398857117, 1.9400959061499634e-08)\n",
            "normaltest :  NormaltestResult(statistic=array([30.70774994]), pvalue=array([2.14732027e-07]))\n",
            "\n",
            "SKEW TEST: Данные достаточно стандартизировать\n",
            "\n",
            "\n",
            "\n",
            "9. pH\n"
          ],
          "name": "stdout"
        },
        {
          "output_type": "display_data",
          "data": {
            "image/png": "[encoded data removed]",
            "text/plain": [
              "<Figure size 432x288 with 1 Axes>"
            ]
          },
          "metadata": {
            "tags": []
          }
        },
        {
          "output_type": "stream",
          "text": [
            "mean :  3.311113195747343\n",
            "var  :  0.023820274241131745\n",
            "skew :  0.19350175891005525\n",
            "kurt :  0.8006714441211544\n",
            "shapiro :  (0.993486762046814, 1.7136950418716879e-06)\n",
            "normaltest :  NormaltestResult(statistic=33.684697471483915, pvalue=4.8468645347727716e-08)\n",
            "\n",
            "Данные достаточно стандартизировать\n",
            "\n"
          ],
          "name": "stdout"
        },
        {
          "output_type": "display_data",
          "data": {
            "image/png": "[encoded data removed]",
            "text/plain": [
              "<Figure size 432x288 with 1 Axes>"
            ]
          },
          "metadata": {
            "tags": []
          }
        },
        {
          "output_type": "stream",
          "text": [
            "mean :  pH    3.311113\n",
            "dtype: float64\n",
            "var  :  pH    0.02382\n",
            "dtype: float64\n",
            "skew :  [0.19350176]\n",
            "kurt :  [0.80067144]\n",
            "shapiro :  (0.993486762046814, 1.7136950418716879e-06)\n",
            "normaltest :  NormaltestResult(statistic=array([33.68469747]), pvalue=array([4.84686453e-08]))\n",
            "\n",
            "SKEW TEST: Данные достаточно стандартизировать\n",
            "\n",
            "\n",
            "\n",
            "10. sulphates\n"
          ],
          "name": "stdout"
        },
        {
          "output_type": "display_data",
          "data": {
            "image/png": "[encoded data removed]",
            "text/plain": [
              "<Figure size 432x288 with 1 Axes>"
            ]
          },
          "metadata": {
            "tags": []
          }
        },
        {
          "output_type": "stream",
          "text": [
            "mean :  0.6581488430268921\n",
            "var  :  0.028714647013983425\n",
            "skew :  2.426393455449087\n",
            "kurt :  11.6798841115311\n",
            "shapiro :  (0.8330425024032593, 5.821617678881608e-38)\n",
            "normaltest :  NormaltestResult(statistic=906.8944479227036, pvalue=1.1759065222978855e-197)\n",
            "\n",
            "Данные рекомендуется нормализовать методом boxcox\n",
            "\n"
          ],
          "name": "stdout"
        },
        {
          "output_type": "display_data",
          "data": {
            "image/png": "[encoded data removed]",
            "text/plain": [
              "<Figure size 432x288 with 1 Axes>"
            ]
          },
          "metadata": {
            "tags": []
          }
        },
        {
          "output_type": "stream",
          "text": [
            "mean :  sulphates   -0.609663\n",
            "dtype: float64\n",
            "var  :  sulphates    0.115999\n",
            "dtype: float64\n",
            "skew :  [-0.02475606]\n",
            "kurt :  [0.39890141]\n",
            "shapiro :  (0.9964831471443176, 0.0010049439733847976)\n",
            "normaltest :  NormaltestResult(statistic=array([8.24567945]), pvalue=array([0.01619845]))\n",
            "\n",
            "SKEW TEST: Данные достаточно стандартизировать\n",
            "\n",
            "\n",
            "\n",
            "11. alcohol\n"
          ],
          "name": "stdout"
        },
        {
          "output_type": "display_data",
          "data": {
            "image/png": "[encoded data removed]",
            "text/plain": [
              "<Figure size 432x288 with 1 Axes>"
            ]
          },
          "metadata": {
            "tags": []
          }
        },
        {
          "output_type": "stream",
          "text": [
            "mean :  10.422983114446502\n",
            "var  :  1.1349371714888994\n",
            "skew :  0.8600210646566755\n",
            "kurt :  0.1956543762123122\n",
            "shapiro :  (0.9288389682769775, 6.643664824998876e-27)\n",
            "normaltest :  NormaltestResult(statistic=154.17806951912516, pvalue=3.3163288473185496e-34)\n",
            "\n",
            "Данные рекомендуется логарифмировать\n",
            "\n"
          ],
          "name": "stdout"
        },
        {
          "output_type": "display_data",
          "data": {
            "image/png": "[encoded data removed]",
            "text/plain": [
              "<Figure size 432x288 with 1 Axes>"
            ]
          },
          "metadata": {
            "tags": []
          }
        },
        {
          "output_type": "stream",
          "text": [
            "mean :  alcohol    2.339021\n",
            "dtype: float64\n",
            "var  :  alcohol    0.009775\n",
            "dtype: float64\n",
            "skew :  [0.66123544]\n",
            "kurt :  [-0.28947897]\n",
            "shapiro :  (0.9464339017868042, 1.154532723556871e-23)\n",
            "normaltest :  NormaltestResult(statistic=array([105.75210886]), pvalue=array([1.08697946e-23]))\n",
            "\n",
            "SKEW TEST: Данные достаточно стандартизировать\n",
            "\n"
          ],
          "name": "stdout"
        }
      ]
    },
    {
      "cell_type": "code",
      "metadata": {
        "id": "mYME_QMrhhWS",
        "colab_type": "code",
        "outputId": "6aed43b0-b96d-4db8-8c60-f554c194c46f",
        "colab": {
          "base_uri": "https://localhost:8080/",
          "height": 102
        }
      },
      "source": [
        "# Standartization\n",
        "X_scaled = scale_std_minmax(X_normalized)"
      ],
      "execution_count": 12,
      "outputs": [
        {
          "output_type": "stream",
          "text": [
            "(1599, 11)\n",
            "StandardScaler(copy=True, with_mean=True, with_std=True)\n",
            "MinMaxScaler(copy=True, feature_range=(0, 1))\n",
            "[3.35136224 5.87797605 3.74357393 2.72895662 4.37508071 2.83835204\n",
            " 3.07267011 3.68005512 4.52828197 3.23051437 3.66487349]\n"
          ],
          "name": "stdout"
        }
      ]
    },
    {
      "cell_type": "code",
      "metadata": {
        "id": "g9fM_QKkibEd",
        "colab_type": "code",
        "colab": {}
      },
      "source": [
        "# Prepare train / test data\n",
        "wine_preprocessed = pd.concat([X_scaled, y], axis = 1)"
      ],
      "execution_count": 0,
      "outputs": []
    },
    {
      "cell_type": "code",
      "metadata": {
        "id": "HJeYOpWxijZ8",
        "colab_type": "code",
        "outputId": "5c372153-3e1e-47f3-80ac-ed8b7f3e7911",
        "colab": {
          "base_uri": "https://localhost:8080/",
          "height": 204
        }
      },
      "source": [
        "wine_preprocessed.head()"
      ],
      "execution_count": 15,
      "outputs": [
        {
          "output_type": "execute_result",
          "data": {
            "text/html": [
              "<div>\n",
              "<style scoped>\n",
              "    .dataframe tbody tr th:only-of-type {\n",
              "        vertical-align: middle;\n",
              "    }\n",
              "\n",
              "    .dataframe tbody tr th {\n",
              "        vertical-align: top;\n",
              "    }\n",
              "\n",
              "    .dataframe thead th {\n",
              "        text-align: right;\n",
              "    }\n",
              "</style>\n",
              "<table border=\"1\" class=\"dataframe\">\n",
              "  <thead>\n",
              "    <tr style=\"text-align: right;\">\n",
              "      <th></th>\n",
              "      <th>fixed acidity</th>\n",
              "      <th>volatile acidity</th>\n",
              "      <th>citric acid</th>\n",
              "      <th>residual sugar</th>\n",
              "      <th>chlorides</th>\n",
              "      <th>free sulfur dioxide</th>\n",
              "      <th>total sulfur dioxide</th>\n",
              "      <th>density</th>\n",
              "      <th>pH</th>\n",
              "      <th>sulphates</th>\n",
              "      <th>alcohol</th>\n",
              "      <th>quality</th>\n",
              "    </tr>\n",
              "  </thead>\n",
              "  <tbody>\n",
              "    <tr>\n",
              "      <th>0</th>\n",
              "      <td>0.383325</td>\n",
              "      <td>0.397260</td>\n",
              "      <td>0.00</td>\n",
              "      <td>0.607134</td>\n",
              "      <td>0.683397</td>\n",
              "      <td>0.483927</td>\n",
              "      <td>0.423477</td>\n",
              "      <td>0.567548</td>\n",
              "      <td>0.606299</td>\n",
              "      <td>0.504120</td>\n",
              "      <td>0.196252</td>\n",
              "      <td>5</td>\n",
              "    </tr>\n",
              "    <tr>\n",
              "      <th>1</th>\n",
              "      <td>0.425771</td>\n",
              "      <td>0.520548</td>\n",
              "      <td>0.00</td>\n",
              "      <td>0.739835</td>\n",
              "      <td>0.739956</td>\n",
              "      <td>0.692260</td>\n",
              "      <td>0.599486</td>\n",
              "      <td>0.494126</td>\n",
              "      <td>0.362205</td>\n",
              "      <td>0.628770</td>\n",
              "      <td>0.268963</td>\n",
              "      <td>5</td>\n",
              "    </tr>\n",
              "    <tr>\n",
              "      <th>2</th>\n",
              "      <td>0.425771</td>\n",
              "      <td>0.438356</td>\n",
              "      <td>0.04</td>\n",
              "      <td>0.693719</td>\n",
              "      <td>0.726509</td>\n",
              "      <td>0.559731</td>\n",
              "      <td>0.542857</td>\n",
              "      <td>0.508811</td>\n",
              "      <td>0.409449</td>\n",
              "      <td>0.602052</td>\n",
              "      <td>0.268963</td>\n",
              "      <td>5</td>\n",
              "    </tr>\n",
              "    <tr>\n",
              "      <th>3</th>\n",
              "      <td>0.717475</td>\n",
              "      <td>0.109589</td>\n",
              "      <td>0.56</td>\n",
              "      <td>0.607134</td>\n",
              "      <td>0.680266</td>\n",
              "      <td>0.591301</td>\n",
              "      <td>0.570440</td>\n",
              "      <td>0.582232</td>\n",
              "      <td>0.330709</td>\n",
              "      <td>0.528593</td>\n",
              "      <td>0.268963</td>\n",
              "      <td>6</td>\n",
              "    </tr>\n",
              "    <tr>\n",
              "      <th>4</th>\n",
              "      <td>0.383325</td>\n",
              "      <td>0.397260</td>\n",
              "      <td>0.00</td>\n",
              "      <td>0.607134</td>\n",
              "      <td>0.683397</td>\n",
              "      <td>0.483927</td>\n",
              "      <td>0.423477</td>\n",
              "      <td>0.567548</td>\n",
              "      <td>0.606299</td>\n",
              "      <td>0.504120</td>\n",
              "      <td>0.196252</td>\n",
              "      <td>5</td>\n",
              "    </tr>\n",
              "  </tbody>\n",
              "</table>\n",
              "</div>"
            ],
            "text/plain": [
              "   fixed acidity  volatile acidity  citric acid  ...  sulphates   alcohol  quality\n",
              "0       0.383325          0.397260         0.00  ...   0.504120  0.196252        5\n",
              "1       0.425771          0.520548         0.00  ...   0.628770  0.268963        5\n",
              "2       0.425771          0.438356         0.04  ...   0.602052  0.268963        5\n",
              "3       0.717475          0.109589         0.56  ...   0.528593  0.268963        6\n",
              "4       0.383325          0.397260         0.00  ...   0.504120  0.196252        5\n",
              "\n",
              "[5 rows x 12 columns]"
            ]
          },
          "metadata": {
            "tags": []
          },
          "execution_count": 15
        }
      ]
    },
    {
      "cell_type": "code",
      "metadata": {
        "id": "d8uNJ8EPi3QG",
        "colab_type": "code",
        "colab": {}
      },
      "source": [
        "# Split features and labels (after normalization & standartization)\n",
        "X = wine_preprocessed.drop('quality', axis = 1)\n",
        "y = wine_preprocessed.quality"
      ],
      "execution_count": 0,
      "outputs": []
    },
    {
      "cell_type": "code",
      "metadata": {
        "id": "BWxbY-AUi6QQ",
        "colab_type": "code",
        "colab": {}
      },
      "source": [
        "# Disbalanced dataset\n",
        "X_train, X_test, y_train, y_test = train_test_split(X, y, test_size = 0.2, random_state = 42)"
      ],
      "execution_count": 0,
      "outputs": []
    },
    {
      "cell_type": "code",
      "metadata": {
        "id": "tnfyM0Dki-FN",
        "colab_type": "code",
        "outputId": "2983913a-79dd-4e56-8c2f-d6fca72bc897",
        "colab": {
          "base_uri": "https://localhost:8080/",
          "height": 136
        }
      },
      "source": [
        "# Check labels count\n",
        "wine_preprocessed.quality.value_counts()"
      ],
      "execution_count": 18,
      "outputs": [
        {
          "output_type": "execute_result",
          "data": {
            "text/plain": [
              "5    681\n",
              "6    638\n",
              "7    199\n",
              "4     53\n",
              "8     18\n",
              "3     10\n",
              "Name: quality, dtype: int64"
            ]
          },
          "metadata": {
            "tags": []
          },
          "execution_count": 18
        }
      ]
    },
    {
      "cell_type": "code",
      "metadata": {
        "id": "C0gwMU_hffWI",
        "colab_type": "code",
        "colab": {}
      },
      "source": [
        "X_ups, y_ups = get_upsampled_wine_data(wine_preprocessed)"
      ],
      "execution_count": 0,
      "outputs": []
    },
    {
      "cell_type": "code",
      "metadata": {
        "id": "wGxZGnYSjk7Z",
        "colab_type": "code",
        "colab": {}
      },
      "source": [
        "X_train_ups, X_test_ups, y_train_ups, y_test_ups = train_test_split(X_ups, y_ups, test_size = 0.2, random_state = 42)"
      ],
      "execution_count": 0,
      "outputs": []
    },
    {
      "cell_type": "markdown",
      "metadata": {
        "id": "Aq3dZWVWlxlO",
        "colab_type": "text"
      },
      "source": [
        "## Train and PCA use"
      ]
    },
    {
      "cell_type": "code",
      "metadata": {
        "id": "vObBHWeBj3BC",
        "colab_type": "code",
        "outputId": "c2dabcc5-43f7-4e0e-ef1c-d55f1754f2dc",
        "colab": {
          "base_uri": "https://localhost:8080/",
          "height": 34
        }
      },
      "source": [
        "# Use model based on previous work best results\n",
        "train_and_get_accuracy(X_train_ups, y_train_ups, X_test_ups, y_test_ups)"
      ],
      "execution_count": 25,
      "outputs": [
        {
          "output_type": "execute_result",
          "data": {
            "text/plain": [
              "'Accuracy: 82.89%'"
            ]
          },
          "metadata": {
            "tags": []
          },
          "execution_count": 25
        }
      ]
    },
    {
      "cell_type": "code",
      "metadata": {
        "id": "qtOJ4HCiouuZ",
        "colab_type": "code",
        "outputId": "d7190f4a-5ffc-4791-f003-082696eaefe7",
        "colab": {
          "base_uri": "https://localhost:8080/",
          "height": 34
        }
      },
      "source": [
        "X.shape"
      ],
      "execution_count": 26,
      "outputs": [
        {
          "output_type": "execute_result",
          "data": {
            "text/plain": [
              "(1599, 11)"
            ]
          },
          "metadata": {
            "tags": []
          },
          "execution_count": 26
        }
      ]
    },
    {
      "cell_type": "code",
      "metadata": {
        "id": "e6Fsm81Gm3Wl",
        "colab_type": "code",
        "outputId": "38a7d8d9-b456-4352-bc75-7e4ff445a4d0",
        "colab": {
          "base_uri": "https://localhost:8080/",
          "height": 445
        }
      },
      "source": [
        "pca = decomposition.PCA().fit(X)\n",
        "\n",
        "plt.figure(figsize = (10, 7))\n",
        "plt.plot(np.cumsum(pca.explained_variance_ratio_), color = 'k', lw = 2)\n",
        "plt.xlabel('Number of components')\n",
        "plt.ylabel('Total explained variance')\n",
        "plt.xlim(0, 15)\n",
        "plt.yticks(np.arange(0, 1.1, 0.1))\n",
        "plt.axvline(10, c = 'b')\n",
        "plt.axvline(7, c = 'g', ls = '-')\n",
        "plt.axhline(0.95, c = 'r')\n",
        "plt.show();"
      ],
      "execution_count": 27,
      "outputs": [
        {
          "output_type": "display_data",
          "data": {
            "image/png": "[encoded data removed]",
            "text/plain": [
              "<Figure size 720x504 with 1 Axes>"
            ]
          },
          "metadata": {
            "tags": []
          }
        }
      ]
    },
    {
      "cell_type": "code",
      "metadata": {
        "id": "PlcZHnICocEc",
        "colab_type": "code",
        "outputId": "676bc31a-2054-475f-8759-e0026aa7bc58",
        "colab": {
          "base_uri": "https://localhost:8080/",
          "height": 68
        }
      },
      "source": [
        "np.cumsum(pca.explained_variance_ratio_)"
      ],
      "execution_count": 28,
      "outputs": [
        {
          "output_type": "execute_result",
          "data": {
            "text/plain": [
              "array([0.3136648 , 0.55171673, 0.71459223, 0.79165751, 0.85461648,\n",
              "       0.89921754, 0.93163379, 0.96023803, 0.98147133, 0.99481206,\n",
              "       1.        ])"
            ]
          },
          "metadata": {
            "tags": []
          },
          "execution_count": 28
        }
      ]
    },
    {
      "cell_type": "code",
      "metadata": {
        "id": "EqBwScL5qgtV",
        "colab_type": "code",
        "colab": {}
      },
      "source": [
        "# With dispersion of 0.95 features can be compressed to 7 from 11\n",
        "pca = decomposition.PCA(n_components = 7)\n",
        "X_reduced = pca.fit_transform(X)"
      ],
      "execution_count": 0,
      "outputs": []
    },
    {
      "cell_type": "code",
      "metadata": {
        "id": "0Nd4e9gfq9fy",
        "colab_type": "code",
        "outputId": "494b18ff-9363-4eaf-80f7-e88874a2c9ee",
        "colab": {
          "base_uri": "https://localhost:8080/",
          "height": 34
        }
      },
      "source": [
        "X_reduced.shape"
      ],
      "execution_count": 30,
      "outputs": [
        {
          "output_type": "execute_result",
          "data": {
            "text/plain": [
              "(1599, 7)"
            ]
          },
          "metadata": {
            "tags": []
          },
          "execution_count": 30
        }
      ]
    },
    {
      "cell_type": "code",
      "metadata": {
        "id": "ms1FnLF2cumG",
        "colab_type": "code",
        "colab": {}
      },
      "source": [
        "X_reduced_df = pd.DataFrame(X_reduced)"
      ],
      "execution_count": 0,
      "outputs": []
    },
    {
      "cell_type": "code",
      "metadata": {
        "id": "lMBvwJ1JciC9",
        "colab_type": "code",
        "colab": {
          "base_uri": "https://localhost:8080/",
          "height": 204
        },
        "outputId": "62c06ef1-f915-4fa2-fd0b-fe13469735a6"
      },
      "source": [
        "X_reduced_df.head()"
      ],
      "execution_count": 42,
      "outputs": [
        {
          "output_type": "execute_result",
          "data": {
            "text/html": [
              "<div>\n",
              "<style scoped>\n",
              "    .dataframe tbody tr th:only-of-type {\n",
              "        vertical-align: middle;\n",
              "    }\n",
              "\n",
              "    .dataframe tbody tr th {\n",
              "        vertical-align: top;\n",
              "    }\n",
              "\n",
              "    .dataframe thead th {\n",
              "        text-align: right;\n",
              "    }\n",
              "</style>\n",
              "<table border=\"1\" class=\"dataframe\">\n",
              "  <thead>\n",
              "    <tr style=\"text-align: right;\">\n",
              "      <th></th>\n",
              "      <th>0</th>\n",
              "      <th>1</th>\n",
              "      <th>2</th>\n",
              "      <th>3</th>\n",
              "      <th>4</th>\n",
              "      <th>5</th>\n",
              "      <th>6</th>\n",
              "    </tr>\n",
              "  </thead>\n",
              "  <tbody>\n",
              "    <tr>\n",
              "      <th>0</th>\n",
              "      <td>-0.268228</td>\n",
              "      <td>-0.008343</td>\n",
              "      <td>-0.274758</td>\n",
              "      <td>-0.019410</td>\n",
              "      <td>-0.069423</td>\n",
              "      <td>0.010938</td>\n",
              "      <td>-0.045702</td>\n",
              "    </tr>\n",
              "    <tr>\n",
              "      <th>1</th>\n",
              "      <td>-0.225280</td>\n",
              "      <td>-0.255354</td>\n",
              "      <td>-0.137577</td>\n",
              "      <td>-0.122590</td>\n",
              "      <td>-0.032140</td>\n",
              "      <td>-0.208872</td>\n",
              "      <td>0.038397</td>\n",
              "    </tr>\n",
              "    <tr>\n",
              "      <th>2</th>\n",
              "      <td>-0.179989</td>\n",
              "      <td>-0.130177</td>\n",
              "      <td>-0.159575</td>\n",
              "      <td>-0.067744</td>\n",
              "      <td>-0.042668</td>\n",
              "      <td>-0.127054</td>\n",
              "      <td>0.035465</td>\n",
              "    </tr>\n",
              "    <tr>\n",
              "      <th>3</th>\n",
              "      <td>0.387149</td>\n",
              "      <td>-0.181626</td>\n",
              "      <td>0.029808</td>\n",
              "      <td>0.163405</td>\n",
              "      <td>0.118911</td>\n",
              "      <td>0.025121</td>\n",
              "      <td>-0.057808</td>\n",
              "    </tr>\n",
              "    <tr>\n",
              "      <th>4</th>\n",
              "      <td>-0.268228</td>\n",
              "      <td>-0.008343</td>\n",
              "      <td>-0.274758</td>\n",
              "      <td>-0.019410</td>\n",
              "      <td>-0.069423</td>\n",
              "      <td>0.010938</td>\n",
              "      <td>-0.045702</td>\n",
              "    </tr>\n",
              "  </tbody>\n",
              "</table>\n",
              "</div>"
            ],
            "text/plain": [
              "          0         1         2         3         4         5         6\n",
              "0 -0.268228 -0.008343 -0.274758 -0.019410 -0.069423  0.010938 -0.045702\n",
              "1 -0.225280 -0.255354 -0.137577 -0.122590 -0.032140 -0.208872  0.038397\n",
              "2 -0.179989 -0.130177 -0.159575 -0.067744 -0.042668 -0.127054  0.035465\n",
              "3  0.387149 -0.181626  0.029808  0.163405  0.118911  0.025121 -0.057808\n",
              "4 -0.268228 -0.008343 -0.274758 -0.019410 -0.069423  0.010938 -0.045702"
            ]
          },
          "metadata": {
            "tags": []
          },
          "execution_count": 42
        }
      ]
    },
    {
      "cell_type": "code",
      "metadata": {
        "id": "C-6BFJHReF0b",
        "colab_type": "code",
        "colab": {}
      },
      "source": [
        "wine_reduced = pd.concat([X_reduced_df, y], axis = 1)"
      ],
      "execution_count": 0,
      "outputs": []
    },
    {
      "cell_type": "code",
      "metadata": {
        "id": "ntKAXejmeLJQ",
        "colab_type": "code",
        "colab": {
          "base_uri": "https://localhost:8080/",
          "height": 204
        },
        "outputId": "b9922ef1-ab87-496d-bb0f-553fd11887fa"
      },
      "source": [
        "wine_reduced.head()"
      ],
      "execution_count": 44,
      "outputs": [
        {
          "output_type": "execute_result",
          "data": {
            "text/html": [
              "<div>\n",
              "<style scoped>\n",
              "    .dataframe tbody tr th:only-of-type {\n",
              "        vertical-align: middle;\n",
              "    }\n",
              "\n",
              "    .dataframe tbody tr th {\n",
              "        vertical-align: top;\n",
              "    }\n",
              "\n",
              "    .dataframe thead th {\n",
              "        text-align: right;\n",
              "    }\n",
              "</style>\n",
              "<table border=\"1\" class=\"dataframe\">\n",
              "  <thead>\n",
              "    <tr style=\"text-align: right;\">\n",
              "      <th></th>\n",
              "      <th>0</th>\n",
              "      <th>1</th>\n",
              "      <th>2</th>\n",
              "      <th>3</th>\n",
              "      <th>4</th>\n",
              "      <th>5</th>\n",
              "      <th>6</th>\n",
              "      <th>quality</th>\n",
              "    </tr>\n",
              "  </thead>\n",
              "  <tbody>\n",
              "    <tr>\n",
              "      <th>0</th>\n",
              "      <td>-0.268228</td>\n",
              "      <td>-0.008343</td>\n",
              "      <td>-0.274758</td>\n",
              "      <td>-0.019410</td>\n",
              "      <td>-0.069423</td>\n",
              "      <td>0.010938</td>\n",
              "      <td>-0.045702</td>\n",
              "      <td>5</td>\n",
              "    </tr>\n",
              "    <tr>\n",
              "      <th>1</th>\n",
              "      <td>-0.225280</td>\n",
              "      <td>-0.255354</td>\n",
              "      <td>-0.137577</td>\n",
              "      <td>-0.122590</td>\n",
              "      <td>-0.032140</td>\n",
              "      <td>-0.208872</td>\n",
              "      <td>0.038397</td>\n",
              "      <td>5</td>\n",
              "    </tr>\n",
              "    <tr>\n",
              "      <th>2</th>\n",
              "      <td>-0.179989</td>\n",
              "      <td>-0.130177</td>\n",
              "      <td>-0.159575</td>\n",
              "      <td>-0.067744</td>\n",
              "      <td>-0.042668</td>\n",
              "      <td>-0.127054</td>\n",
              "      <td>0.035465</td>\n",
              "      <td>5</td>\n",
              "    </tr>\n",
              "    <tr>\n",
              "      <th>3</th>\n",
              "      <td>0.387149</td>\n",
              "      <td>-0.181626</td>\n",
              "      <td>0.029808</td>\n",
              "      <td>0.163405</td>\n",
              "      <td>0.118911</td>\n",
              "      <td>0.025121</td>\n",
              "      <td>-0.057808</td>\n",
              "      <td>6</td>\n",
              "    </tr>\n",
              "    <tr>\n",
              "      <th>4</th>\n",
              "      <td>-0.268228</td>\n",
              "      <td>-0.008343</td>\n",
              "      <td>-0.274758</td>\n",
              "      <td>-0.019410</td>\n",
              "      <td>-0.069423</td>\n",
              "      <td>0.010938</td>\n",
              "      <td>-0.045702</td>\n",
              "      <td>5</td>\n",
              "    </tr>\n",
              "  </tbody>\n",
              "</table>\n",
              "</div>"
            ],
            "text/plain": [
              "          0         1         2  ...         5         6  quality\n",
              "0 -0.268228 -0.008343 -0.274758  ...  0.010938 -0.045702        5\n",
              "1 -0.225280 -0.255354 -0.137577  ... -0.208872  0.038397        5\n",
              "2 -0.179989 -0.130177 -0.159575  ... -0.127054  0.035465        5\n",
              "3  0.387149 -0.181626  0.029808  ...  0.025121 -0.057808        6\n",
              "4 -0.268228 -0.008343 -0.274758  ...  0.010938 -0.045702        5\n",
              "\n",
              "[5 rows x 8 columns]"
            ]
          },
          "metadata": {
            "tags": []
          },
          "execution_count": 44
        }
      ]
    },
    {
      "cell_type": "code",
      "metadata": {
        "id": "BwlHF6Cwf2g7",
        "colab_type": "code",
        "colab": {}
      },
      "source": [
        "X_ups_reduced, y_ups_reduced = get_upsampled_wine_data(wine_reduced)"
      ],
      "execution_count": 0,
      "outputs": []
    },
    {
      "cell_type": "code",
      "metadata": {
        "id": "fa9SR2IvgBmy",
        "colab_type": "code",
        "colab": {}
      },
      "source": [
        "X_train_ups_reduced, X_test_ups_reduced, y_train_ups_reduced, y_test_ups_reduced = train_test_split(X_ups_reduced, y_ups_reduced, test_size = 0.2, random_state = 42)"
      ],
      "execution_count": 0,
      "outputs": []
    },
    {
      "cell_type": "code",
      "metadata": {
        "id": "3IWqJVT0gLFg",
        "colab_type": "code",
        "colab": {
          "base_uri": "https://localhost:8080/",
          "height": 34
        },
        "outputId": "ecac66aa-e03c-4c6d-8e39-3e24c75a1b1d"
      },
      "source": [
        "train_and_get_accuracy(X_train_ups_reduced, y_train_ups_reduced, X_test_ups_reduced, y_test_ups_reduced)"
      ],
      "execution_count": 53,
      "outputs": [
        {
          "output_type": "execute_result",
          "data": {
            "text/plain": [
              "'Accuracy: 83.62%'"
            ]
          },
          "metadata": {
            "tags": []
          },
          "execution_count": 53
        }
      ]
    },
    {
      "cell_type": "markdown",
      "metadata": {
        "id": "GO4W-wIEgY-H",
        "colab_type": "text"
      },
      "source": [
        "As we can see, accuracy on reduced dataset is even better than on the full one"
      ]
    },
    {
      "cell_type": "markdown",
      "metadata": {
        "id": "LaN0Sc_Xtl5K",
        "colab_type": "text"
      },
      "source": [
        "# Pro"
      ]
    },
    {
      "cell_type": "markdown",
      "metadata": {
        "id": "1CXSvSOsuFJ5",
        "colab_type": "text"
      },
      "source": [
        "## Load Dataset"
      ]
    },
    {
      "cell_type": "code",
      "metadata": {
        "id": "ENc1kvOBtnK0",
        "colab_type": "code",
        "colab": {}
      },
      "source": [
        "from google.colab import drive\n",
        "drive.mount('/content/drive', force_remount = True)"
      ],
      "execution_count": 0,
      "outputs": []
    },
    {
      "cell_type": "code",
      "metadata": {
        "id": "AHaxDGpMuHpd",
        "colab_type": "code",
        "colab": {}
      },
      "source": [
        "# Read in data into a dataframe \n",
        "data = pd.read_csv('/content/drive/My Drive/Colab Notebooks/ML/4/Блокноты/Homework 4/Energy_and_Water_Data_Disclosure_for_Local_Law_84_2017__Data_for_Calendar_Year_2016_.csv')"
      ],
      "execution_count": 0,
      "outputs": []
    },
    {
      "cell_type": "code",
      "metadata": {
        "id": "wTg_62ZtuMGe",
        "colab_type": "code",
        "outputId": "6dcd638c-b36b-4931-ebf1-df38591dfbfd",
        "colab": {
          "base_uri": "https://localhost:8080/",
          "height": 598
        }
      },
      "source": [
        "data.head()"
      ],
      "execution_count": 55,
      "outputs": [
        {
          "output_type": "execute_result",
          "data": {
            "text/html": [
              "<div>\n",
              "<style scoped>\n",
              "    .dataframe tbody tr th:only-of-type {\n",
              "        vertical-align: middle;\n",
              "    }\n",
              "\n",
              "    .dataframe tbody tr th {\n",
              "        vertical-align: top;\n",
              "    }\n",
              "\n",
              "    .dataframe thead th {\n",
              "        text-align: right;\n",
              "    }\n",
              "</style>\n",
              "<table border=\"1\" class=\"dataframe\">\n",
              "  <thead>\n",
              "    <tr style=\"text-align: right;\">\n",
              "      <th></th>\n",
              "      <th>Order</th>\n",
              "      <th>Property Id</th>\n",
              "      <th>Property Name</th>\n",
              "      <th>Parent Property Id</th>\n",
              "      <th>Parent Property Name</th>\n",
              "      <th>BBL - 10 digits</th>\n",
              "      <th>NYC Borough, Block and Lot (BBL) self-reported</th>\n",
              "      <th>NYC Building Identification Number (BIN)</th>\n",
              "      <th>Address 1 (self-reported)</th>\n",
              "      <th>Address 2</th>\n",
              "      <th>Postal Code</th>\n",
              "      <th>Street Number</th>\n",
              "      <th>Street Name</th>\n",
              "      <th>Borough</th>\n",
              "      <th>DOF Gross Floor Area</th>\n",
              "      <th>Primary Property Type - Self Selected</th>\n",
              "      <th>List of All Property Use Types at Property</th>\n",
              "      <th>Largest Property Use Type</th>\n",
              "      <th>Largest Property Use Type - Gross Floor Area (ft²)</th>\n",
              "      <th>2nd Largest Property Use Type</th>\n",
              "      <th>2nd Largest Property Use - Gross Floor Area (ft²)</th>\n",
              "      <th>3rd Largest Property Use Type</th>\n",
              "      <th>3rd Largest Property Use Type - Gross Floor Area (ft²)</th>\n",
              "      <th>Year Built</th>\n",
              "      <th>Number of Buildings - Self-reported</th>\n",
              "      <th>Occupancy</th>\n",
              "      <th>Metered Areas (Energy)</th>\n",
              "      <th>Metered Areas  (Water)</th>\n",
              "      <th>ENERGY STAR Score</th>\n",
              "      <th>Site EUI (kBtu/ft²)</th>\n",
              "      <th>Weather Normalized Site EUI (kBtu/ft²)</th>\n",
              "      <th>Weather Normalized Site Electricity Intensity (kWh/ft²)</th>\n",
              "      <th>Weather Normalized Site Natural Gas Intensity (therms/ft²)</th>\n",
              "      <th>Weather Normalized Source EUI (kBtu/ft²)</th>\n",
              "      <th>Fuel Oil #1 Use (kBtu)</th>\n",
              "      <th>Fuel Oil #2 Use (kBtu)</th>\n",
              "      <th>Fuel Oil #4 Use (kBtu)</th>\n",
              "      <th>Fuel Oil #5 &amp; 6 Use (kBtu)</th>\n",
              "      <th>Diesel #2 Use (kBtu)</th>\n",
              "      <th>District Steam Use (kBtu)</th>\n",
              "      <th>Natural Gas Use (kBtu)</th>\n",
              "      <th>Weather Normalized Site Natural Gas Use (therms)</th>\n",
              "      <th>Electricity Use - Grid Purchase (kBtu)</th>\n",
              "      <th>Weather Normalized Site Electricity (kWh)</th>\n",
              "      <th>Total GHG Emissions (Metric Tons CO2e)</th>\n",
              "      <th>Direct GHG Emissions (Metric Tons CO2e)</th>\n",
              "      <th>Indirect GHG Emissions (Metric Tons CO2e)</th>\n",
              "      <th>Property GFA - Self-Reported (ft²)</th>\n",
              "      <th>Water Use (All Water Sources) (kgal)</th>\n",
              "      <th>Water Intensity (All Water Sources) (gal/ft²)</th>\n",
              "      <th>Source EUI (kBtu/ft²)</th>\n",
              "      <th>Release Date</th>\n",
              "      <th>Water Required?</th>\n",
              "      <th>DOF Benchmarking Submission Status</th>\n",
              "      <th>Latitude</th>\n",
              "      <th>Longitude</th>\n",
              "      <th>Community Board</th>\n",
              "      <th>Council District</th>\n",
              "      <th>Census Tract</th>\n",
              "      <th>NTA</th>\n",
              "    </tr>\n",
              "  </thead>\n",
              "  <tbody>\n",
              "    <tr>\n",
              "      <th>0</th>\n",
              "      <td>1</td>\n",
              "      <td>13286</td>\n",
              "      <td>201/205</td>\n",
              "      <td>13286</td>\n",
              "      <td>201/205</td>\n",
              "      <td>1013160001</td>\n",
              "      <td>1013160001</td>\n",
              "      <td>1037549</td>\n",
              "      <td>201/205  East  42nd  st.</td>\n",
              "      <td>Not Available</td>\n",
              "      <td>10017</td>\n",
              "      <td>675</td>\n",
              "      <td>3 AVENUE</td>\n",
              "      <td>Manhattan</td>\n",
              "      <td>289356.0</td>\n",
              "      <td>Office</td>\n",
              "      <td>Office</td>\n",
              "      <td>Office</td>\n",
              "      <td>293447</td>\n",
              "      <td>Not Available</td>\n",
              "      <td>Not Available</td>\n",
              "      <td>Not Available</td>\n",
              "      <td>Not Available</td>\n",
              "      <td>1963</td>\n",
              "      <td>2</td>\n",
              "      <td>100</td>\n",
              "      <td>Whole Building</td>\n",
              "      <td>Not Available</td>\n",
              "      <td>Not Available</td>\n",
              "      <td>305.6</td>\n",
              "      <td>303.1</td>\n",
              "      <td>37.8</td>\n",
              "      <td>Not Available</td>\n",
              "      <td>614.2</td>\n",
              "      <td>Not Available</td>\n",
              "      <td>Not Available</td>\n",
              "      <td>Not Available</td>\n",
              "      <td>Not Available</td>\n",
              "      <td>Not Available</td>\n",
              "      <td>5.15506751E7</td>\n",
              "      <td>Not Available</td>\n",
              "      <td>Not Available</td>\n",
              "      <td>38139374.2</td>\n",
              "      <td>1.10827705E7</td>\n",
              "      <td>6962.2</td>\n",
              "      <td>0</td>\n",
              "      <td>6962.2</td>\n",
              "      <td>762051</td>\n",
              "      <td>Not Available</td>\n",
              "      <td>Not Available</td>\n",
              "      <td>619.4</td>\n",
              "      <td>05/01/2017 05:32:03 PM</td>\n",
              "      <td>No</td>\n",
              "      <td>In Compliance</td>\n",
              "      <td>40.750791</td>\n",
              "      <td>-73.973963</td>\n",
              "      <td>6.0</td>\n",
              "      <td>4.0</td>\n",
              "      <td>88.0</td>\n",
              "      <td>Turtle Bay-East Midtown                       ...</td>\n",
              "    </tr>\n",
              "    <tr>\n",
              "      <th>1</th>\n",
              "      <td>2</td>\n",
              "      <td>28400</td>\n",
              "      <td>NYP Columbia (West Campus)</td>\n",
              "      <td>28400</td>\n",
              "      <td>NYP Columbia (West Campus)</td>\n",
              "      <td>1021380040</td>\n",
              "      <td>1-02138-0040</td>\n",
              "      <td>1084198; 1084387;1084385; 1084386; 1084388; 10...</td>\n",
              "      <td>622 168th Street</td>\n",
              "      <td>Not Available</td>\n",
              "      <td>10032</td>\n",
              "      <td>180</td>\n",
              "      <td>FT WASHINGTON AVENUE</td>\n",
              "      <td>Manhattan</td>\n",
              "      <td>3693539.0</td>\n",
              "      <td>Hospital (General Medical &amp; Surgical)</td>\n",
              "      <td>Hospital (General Medical &amp; Surgical)</td>\n",
              "      <td>Hospital (General Medical &amp; Surgical)</td>\n",
              "      <td>3889181</td>\n",
              "      <td>Not Available</td>\n",
              "      <td>Not Available</td>\n",
              "      <td>Not Available</td>\n",
              "      <td>Not Available</td>\n",
              "      <td>1969</td>\n",
              "      <td>12</td>\n",
              "      <td>100</td>\n",
              "      <td>Whole Building</td>\n",
              "      <td>Whole Building</td>\n",
              "      <td>55</td>\n",
              "      <td>229.8</td>\n",
              "      <td>228.8</td>\n",
              "      <td>24.8</td>\n",
              "      <td>2.4</td>\n",
              "      <td>401.1</td>\n",
              "      <td>Not Available</td>\n",
              "      <td>1.96248472E7</td>\n",
              "      <td>Not Available</td>\n",
              "      <td>Not Available</td>\n",
              "      <td>Not Available</td>\n",
              "      <td>-3.914148026E8</td>\n",
              "      <td>933073441</td>\n",
              "      <td>9330734.4</td>\n",
              "      <td>332365924</td>\n",
              "      <td>9.62613121E7</td>\n",
              "      <td>55870.4</td>\n",
              "      <td>51016.4</td>\n",
              "      <td>4854.1</td>\n",
              "      <td>3889181</td>\n",
              "      <td>Not Available</td>\n",
              "      <td>Not Available</td>\n",
              "      <td>404.3</td>\n",
              "      <td>04/27/2017 11:23:27 AM</td>\n",
              "      <td>No</td>\n",
              "      <td>In Compliance</td>\n",
              "      <td>40.841402</td>\n",
              "      <td>-73.942568</td>\n",
              "      <td>12.0</td>\n",
              "      <td>10.0</td>\n",
              "      <td>251.0</td>\n",
              "      <td>Washington Heights South                      ...</td>\n",
              "    </tr>\n",
              "    <tr>\n",
              "      <th>2</th>\n",
              "      <td>3</td>\n",
              "      <td>4778226</td>\n",
              "      <td>MSCHoNY North</td>\n",
              "      <td>28400</td>\n",
              "      <td>NYP Columbia (West Campus)</td>\n",
              "      <td>1021380030</td>\n",
              "      <td>1-02138-0030</td>\n",
              "      <td>1063380</td>\n",
              "      <td>3975 Broadway</td>\n",
              "      <td>Not Available</td>\n",
              "      <td>10032</td>\n",
              "      <td>3975</td>\n",
              "      <td>BROADWAY</td>\n",
              "      <td>Manhattan</td>\n",
              "      <td>152765.0</td>\n",
              "      <td>Hospital (General Medical &amp; Surgical)</td>\n",
              "      <td>Hospital (General Medical &amp; Surgical)</td>\n",
              "      <td>Hospital (General Medical &amp; Surgical)</td>\n",
              "      <td>231342</td>\n",
              "      <td>Not Available</td>\n",
              "      <td>Not Available</td>\n",
              "      <td>Not Available</td>\n",
              "      <td>Not Available</td>\n",
              "      <td>1924</td>\n",
              "      <td>1</td>\n",
              "      <td>100</td>\n",
              "      <td>Not Available</td>\n",
              "      <td>Not Available</td>\n",
              "      <td>Not Available</td>\n",
              "      <td>Not Available</td>\n",
              "      <td>Not Available</td>\n",
              "      <td>Not Available</td>\n",
              "      <td>Not Available</td>\n",
              "      <td>Not Available</td>\n",
              "      <td>Not Available</td>\n",
              "      <td>Not Available</td>\n",
              "      <td>Not Available</td>\n",
              "      <td>Not Available</td>\n",
              "      <td>Not Available</td>\n",
              "      <td>Not Available</td>\n",
              "      <td>Not Available</td>\n",
              "      <td>Not Available</td>\n",
              "      <td>Not Available</td>\n",
              "      <td>Not Available</td>\n",
              "      <td>0</td>\n",
              "      <td>0</td>\n",
              "      <td>0</td>\n",
              "      <td>231342</td>\n",
              "      <td>Not Available</td>\n",
              "      <td>Not Available</td>\n",
              "      <td>Not Available</td>\n",
              "      <td>04/27/2017 11:23:27 AM</td>\n",
              "      <td>No</td>\n",
              "      <td>In Compliance</td>\n",
              "      <td>40.840427</td>\n",
              "      <td>-73.940249</td>\n",
              "      <td>12.0</td>\n",
              "      <td>10.0</td>\n",
              "      <td>251.0</td>\n",
              "      <td>Washington Heights South                      ...</td>\n",
              "    </tr>\n",
              "    <tr>\n",
              "      <th>3</th>\n",
              "      <td>4</td>\n",
              "      <td>4778267</td>\n",
              "      <td>Herbert Irving Pavilion &amp; Millstein Hospital</td>\n",
              "      <td>28400</td>\n",
              "      <td>NYP Columbia (West Campus)</td>\n",
              "      <td>1021390001</td>\n",
              "      <td>1-02139-0001</td>\n",
              "      <td>1087281; 1076746</td>\n",
              "      <td>161 Fort Washington Ave</td>\n",
              "      <td>177 Fort Washington Ave</td>\n",
              "      <td>10032</td>\n",
              "      <td>161</td>\n",
              "      <td>FT WASHINGTON AVENUE</td>\n",
              "      <td>Manhattan</td>\n",
              "      <td>891040.0</td>\n",
              "      <td>Hospital (General Medical &amp; Surgical)</td>\n",
              "      <td>Hospital (General Medical &amp; Surgical)</td>\n",
              "      <td>Hospital (General Medical &amp; Surgical)</td>\n",
              "      <td>1305748</td>\n",
              "      <td>Not Available</td>\n",
              "      <td>Not Available</td>\n",
              "      <td>Not Available</td>\n",
              "      <td>Not Available</td>\n",
              "      <td>1971</td>\n",
              "      <td>1</td>\n",
              "      <td>100</td>\n",
              "      <td>Not Available</td>\n",
              "      <td>Not Available</td>\n",
              "      <td>Not Available</td>\n",
              "      <td>Not Available</td>\n",
              "      <td>Not Available</td>\n",
              "      <td>Not Available</td>\n",
              "      <td>Not Available</td>\n",
              "      <td>Not Available</td>\n",
              "      <td>Not Available</td>\n",
              "      <td>Not Available</td>\n",
              "      <td>Not Available</td>\n",
              "      <td>Not Available</td>\n",
              "      <td>Not Available</td>\n",
              "      <td>Not Available</td>\n",
              "      <td>Not Available</td>\n",
              "      <td>Not Available</td>\n",
              "      <td>Not Available</td>\n",
              "      <td>Not Available</td>\n",
              "      <td>0</td>\n",
              "      <td>0</td>\n",
              "      <td>0</td>\n",
              "      <td>1305748</td>\n",
              "      <td>Not Available</td>\n",
              "      <td>Not Available</td>\n",
              "      <td>Not Available</td>\n",
              "      <td>04/27/2017 11:23:27 AM</td>\n",
              "      <td>No</td>\n",
              "      <td>In Compliance</td>\n",
              "      <td>40.840746</td>\n",
              "      <td>-73.942854</td>\n",
              "      <td>12.0</td>\n",
              "      <td>10.0</td>\n",
              "      <td>255.0</td>\n",
              "      <td>Washington Heights South                      ...</td>\n",
              "    </tr>\n",
              "    <tr>\n",
              "      <th>4</th>\n",
              "      <td>5</td>\n",
              "      <td>4778288</td>\n",
              "      <td>Neuro Institute</td>\n",
              "      <td>28400</td>\n",
              "      <td>NYP Columbia (West Campus)</td>\n",
              "      <td>1021390085</td>\n",
              "      <td>1-02139-0085</td>\n",
              "      <td>1063403</td>\n",
              "      <td>710 West 168th Street</td>\n",
              "      <td>Not Available</td>\n",
              "      <td>10032</td>\n",
              "      <td>193</td>\n",
              "      <td>FT WASHINGTON AVENUE</td>\n",
              "      <td>Manhattan</td>\n",
              "      <td>211400.0</td>\n",
              "      <td>Hospital (General Medical &amp; Surgical)</td>\n",
              "      <td>Hospital (General Medical &amp; Surgical)</td>\n",
              "      <td>Hospital (General Medical &amp; Surgical)</td>\n",
              "      <td>179694</td>\n",
              "      <td>Not Available</td>\n",
              "      <td>Not Available</td>\n",
              "      <td>Not Available</td>\n",
              "      <td>Not Available</td>\n",
              "      <td>1932</td>\n",
              "      <td>1</td>\n",
              "      <td>100</td>\n",
              "      <td>Not Available</td>\n",
              "      <td>Not Available</td>\n",
              "      <td>Not Available</td>\n",
              "      <td>Not Available</td>\n",
              "      <td>Not Available</td>\n",
              "      <td>Not Available</td>\n",
              "      <td>Not Available</td>\n",
              "      <td>Not Available</td>\n",
              "      <td>Not Available</td>\n",
              "      <td>Not Available</td>\n",
              "      <td>Not Available</td>\n",
              "      <td>Not Available</td>\n",
              "      <td>Not Available</td>\n",
              "      <td>Not Available</td>\n",
              "      <td>Not Available</td>\n",
              "      <td>Not Available</td>\n",
              "      <td>Not Available</td>\n",
              "      <td>Not Available</td>\n",
              "      <td>0</td>\n",
              "      <td>0</td>\n",
              "      <td>0</td>\n",
              "      <td>179694</td>\n",
              "      <td>Not Available</td>\n",
              "      <td>Not Available</td>\n",
              "      <td>Not Available</td>\n",
              "      <td>04/27/2017 11:23:27 AM</td>\n",
              "      <td>No</td>\n",
              "      <td>In Compliance</td>\n",
              "      <td>40.841559</td>\n",
              "      <td>-73.942528</td>\n",
              "      <td>12.0</td>\n",
              "      <td>10.0</td>\n",
              "      <td>255.0</td>\n",
              "      <td>Washington Heights South                      ...</td>\n",
              "    </tr>\n",
              "  </tbody>\n",
              "</table>\n",
              "</div>"
            ],
            "text/plain": [
              "   Order  ...                                                NTA\n",
              "0      1  ...  Turtle Bay-East Midtown                       ...\n",
              "1      2  ...  Washington Heights South                      ...\n",
              "2      3  ...  Washington Heights South                      ...\n",
              "3      4  ...  Washington Heights South                      ...\n",
              "4      5  ...  Washington Heights South                      ...\n",
              "\n",
              "[5 rows x 60 columns]"
            ]
          },
          "metadata": {
            "tags": []
          },
          "execution_count": 55
        }
      ]
    },
    {
      "cell_type": "markdown",
      "metadata": {
        "id": "eRSWshVFjnyT",
        "colab_type": "text"
      },
      "source": [
        "## Data transformation"
      ]
    },
    {
      "cell_type": "code",
      "metadata": {
        "id": "bUc2IG0hjnby",
        "colab_type": "code",
        "colab": {}
      },
      "source": [
        "# Replace all occurrences of Not Available with numpy not a number\n",
        "data = data.replace({'Not Available': np.nan})\n",
        "\n",
        "# Iterate through the columns\n",
        "for col in list(data.columns):\n",
        "    # Select columns that should be numeric\n",
        "    if ('ft²' in col or 'kBtu' in col or 'Metric Tons CO2e' in col or 'kWh' in col or 'therms' in col or 'gal' in col or 'Score' in col):\n",
        "        # Convert the data type to float\n",
        "        data[col] = data[col].astype(float)"
      ],
      "execution_count": 0,
      "outputs": []
    },
    {
      "cell_type": "code",
      "metadata": {
        "id": "M1MWtQqxjvMl",
        "colab_type": "code",
        "colab": {}
      },
      "source": [
        "# Function to calculate missing values by column\n",
        "def missing_values_table(df):\n",
        "        # Total missing values\n",
        "        mis_val = df.isnull().sum()\n",
        "        \n",
        "        # Percentage of missing values\n",
        "        mis_val_percent = 100 * df.isnull().sum() / len(df)\n",
        "        \n",
        "        # Make a table with the results\n",
        "        mis_val_table = pd.concat([mis_val, mis_val_percent], axis=1)\n",
        "        \n",
        "        # Rename the columns\n",
        "        mis_val_table_ren_columns = mis_val_table.rename(\n",
        "        columns = {0 : 'Missing Values', 1 : '% of Total Values'})\n",
        "        \n",
        "        # Sort the table by percentage of missing descending\n",
        "        mis_val_table_ren_columns = mis_val_table_ren_columns[\n",
        "            mis_val_table_ren_columns.iloc[:,1] != 0].sort_values(\n",
        "        '% of Total Values', ascending=False).round(1)\n",
        "        \n",
        "        # Print some summary information\n",
        "        print (\"Your selected dataframe has \" + str(df.shape[1]) + \" columns.\\n\"      \n",
        "            \"There are \" + str(mis_val_table_ren_columns.shape[0]) +\n",
        "              \" columns that have missing values.\")\n",
        "        \n",
        "        # Return the dataframe with missing information\n",
        "        return mis_val_table_ren_columns"
      ],
      "execution_count": 0,
      "outputs": []
    },
    {
      "cell_type": "code",
      "metadata": {
        "id": "lPxdrF0ojx4q",
        "colab_type": "code",
        "colab": {
          "base_uri": "https://localhost:8080/",
          "height": 1000
        },
        "outputId": "36b44c67-1bf1-4b43-be1b-834074ee3ac0"
      },
      "source": [
        "missing_values_table(data)"
      ],
      "execution_count": 58,
      "outputs": [
        {
          "output_type": "stream",
          "text": [
            "Your selected dataframe has 60 columns.\n",
            "There are 46 columns that have missing values.\n"
          ],
          "name": "stdout"
        },
        {
          "output_type": "execute_result",
          "data": {
            "text/html": [
              "<div>\n",
              "<style scoped>\n",
              "    .dataframe tbody tr th:only-of-type {\n",
              "        vertical-align: middle;\n",
              "    }\n",
              "\n",
              "    .dataframe tbody tr th {\n",
              "        vertical-align: top;\n",
              "    }\n",
              "\n",
              "    .dataframe thead th {\n",
              "        text-align: right;\n",
              "    }\n",
              "</style>\n",
              "<table border=\"1\" class=\"dataframe\">\n",
              "  <thead>\n",
              "    <tr style=\"text-align: right;\">\n",
              "      <th></th>\n",
              "      <th>Missing Values</th>\n",
              "      <th>% of Total Values</th>\n",
              "    </tr>\n",
              "  </thead>\n",
              "  <tbody>\n",
              "    <tr>\n",
              "      <th>Fuel Oil #1 Use (kBtu)</th>\n",
              "      <td>11737</td>\n",
              "      <td>99.9</td>\n",
              "    </tr>\n",
              "    <tr>\n",
              "      <th>Diesel #2 Use (kBtu)</th>\n",
              "      <td>11730</td>\n",
              "      <td>99.9</td>\n",
              "    </tr>\n",
              "    <tr>\n",
              "      <th>Address 2</th>\n",
              "      <td>11539</td>\n",
              "      <td>98.2</td>\n",
              "    </tr>\n",
              "    <tr>\n",
              "      <th>Fuel Oil #5 &amp; 6 Use (kBtu)</th>\n",
              "      <td>11152</td>\n",
              "      <td>94.9</td>\n",
              "    </tr>\n",
              "    <tr>\n",
              "      <th>District Steam Use (kBtu)</th>\n",
              "      <td>10810</td>\n",
              "      <td>92.0</td>\n",
              "    </tr>\n",
              "    <tr>\n",
              "      <th>Fuel Oil #4 Use (kBtu)</th>\n",
              "      <td>10425</td>\n",
              "      <td>88.8</td>\n",
              "    </tr>\n",
              "    <tr>\n",
              "      <th>3rd Largest Property Use Type - Gross Floor Area (ft²)</th>\n",
              "      <td>10262</td>\n",
              "      <td>87.4</td>\n",
              "    </tr>\n",
              "    <tr>\n",
              "      <th>3rd Largest Property Use Type</th>\n",
              "      <td>10262</td>\n",
              "      <td>87.4</td>\n",
              "    </tr>\n",
              "    <tr>\n",
              "      <th>Fuel Oil #2 Use (kBtu)</th>\n",
              "      <td>9165</td>\n",
              "      <td>78.0</td>\n",
              "    </tr>\n",
              "    <tr>\n",
              "      <th>2nd Largest Property Use Type</th>\n",
              "      <td>8005</td>\n",
              "      <td>68.2</td>\n",
              "    </tr>\n",
              "    <tr>\n",
              "      <th>2nd Largest Property Use - Gross Floor Area (ft²)</th>\n",
              "      <td>8005</td>\n",
              "      <td>68.2</td>\n",
              "    </tr>\n",
              "    <tr>\n",
              "      <th>Metered Areas  (Water)</th>\n",
              "      <td>4609</td>\n",
              "      <td>39.2</td>\n",
              "    </tr>\n",
              "    <tr>\n",
              "      <th>Water Intensity (All Water Sources) (gal/ft²)</th>\n",
              "      <td>3984</td>\n",
              "      <td>33.9</td>\n",
              "    </tr>\n",
              "    <tr>\n",
              "      <th>Water Use (All Water Sources) (kgal)</th>\n",
              "      <td>3984</td>\n",
              "      <td>33.9</td>\n",
              "    </tr>\n",
              "    <tr>\n",
              "      <th>Latitude</th>\n",
              "      <td>2263</td>\n",
              "      <td>19.3</td>\n",
              "    </tr>\n",
              "    <tr>\n",
              "      <th>Longitude</th>\n",
              "      <td>2263</td>\n",
              "      <td>19.3</td>\n",
              "    </tr>\n",
              "    <tr>\n",
              "      <th>Community Board</th>\n",
              "      <td>2263</td>\n",
              "      <td>19.3</td>\n",
              "    </tr>\n",
              "    <tr>\n",
              "      <th>Council District</th>\n",
              "      <td>2263</td>\n",
              "      <td>19.3</td>\n",
              "    </tr>\n",
              "    <tr>\n",
              "      <th>Census Tract</th>\n",
              "      <td>2263</td>\n",
              "      <td>19.3</td>\n",
              "    </tr>\n",
              "    <tr>\n",
              "      <th>NTA</th>\n",
              "      <td>2263</td>\n",
              "      <td>19.3</td>\n",
              "    </tr>\n",
              "    <tr>\n",
              "      <th>ENERGY STAR Score</th>\n",
              "      <td>2104</td>\n",
              "      <td>17.9</td>\n",
              "    </tr>\n",
              "    <tr>\n",
              "      <th>Weather Normalized Site Natural Gas Intensity (therms/ft²)</th>\n",
              "      <td>1963</td>\n",
              "      <td>16.7</td>\n",
              "    </tr>\n",
              "    <tr>\n",
              "      <th>Weather Normalized Site Natural Gas Use (therms)</th>\n",
              "      <td>1962</td>\n",
              "      <td>16.7</td>\n",
              "    </tr>\n",
              "    <tr>\n",
              "      <th>Weather Normalized Source EUI (kBtu/ft²)</th>\n",
              "      <td>1465</td>\n",
              "      <td>12.5</td>\n",
              "    </tr>\n",
              "    <tr>\n",
              "      <th>Weather Normalized Site EUI (kBtu/ft²)</th>\n",
              "      <td>1465</td>\n",
              "      <td>12.5</td>\n",
              "    </tr>\n",
              "    <tr>\n",
              "      <th>Natural Gas Use (kBtu)</th>\n",
              "      <td>1442</td>\n",
              "      <td>12.3</td>\n",
              "    </tr>\n",
              "    <tr>\n",
              "      <th>Weather Normalized Site Electricity Intensity (kWh/ft²)</th>\n",
              "      <td>787</td>\n",
              "      <td>6.7</td>\n",
              "    </tr>\n",
              "    <tr>\n",
              "      <th>Weather Normalized Site Electricity (kWh)</th>\n",
              "      <td>786</td>\n",
              "      <td>6.7</td>\n",
              "    </tr>\n",
              "    <tr>\n",
              "      <th>Electricity Use - Grid Purchase (kBtu)</th>\n",
              "      <td>244</td>\n",
              "      <td>2.1</td>\n",
              "    </tr>\n",
              "    <tr>\n",
              "      <th>Site EUI (kBtu/ft²)</th>\n",
              "      <td>163</td>\n",
              "      <td>1.4</td>\n",
              "    </tr>\n",
              "    <tr>\n",
              "      <th>Source EUI (kBtu/ft²)</th>\n",
              "      <td>163</td>\n",
              "      <td>1.4</td>\n",
              "    </tr>\n",
              "    <tr>\n",
              "      <th>NYC Building Identification Number (BIN)</th>\n",
              "      <td>162</td>\n",
              "      <td>1.4</td>\n",
              "    </tr>\n",
              "    <tr>\n",
              "      <th>Street Number</th>\n",
              "      <td>124</td>\n",
              "      <td>1.1</td>\n",
              "    </tr>\n",
              "    <tr>\n",
              "      <th>Street Name</th>\n",
              "      <td>122</td>\n",
              "      <td>1.0</td>\n",
              "    </tr>\n",
              "    <tr>\n",
              "      <th>Borough</th>\n",
              "      <td>118</td>\n",
              "      <td>1.0</td>\n",
              "    </tr>\n",
              "    <tr>\n",
              "      <th>DOF Gross Floor Area</th>\n",
              "      <td>118</td>\n",
              "      <td>1.0</td>\n",
              "    </tr>\n",
              "    <tr>\n",
              "      <th>Water Required?</th>\n",
              "      <td>118</td>\n",
              "      <td>1.0</td>\n",
              "    </tr>\n",
              "    <tr>\n",
              "      <th>Direct GHG Emissions (Metric Tons CO2e)</th>\n",
              "      <td>83</td>\n",
              "      <td>0.7</td>\n",
              "    </tr>\n",
              "    <tr>\n",
              "      <th>Total GHG Emissions (Metric Tons CO2e)</th>\n",
              "      <td>74</td>\n",
              "      <td>0.6</td>\n",
              "    </tr>\n",
              "    <tr>\n",
              "      <th>Indirect GHG Emissions (Metric Tons CO2e)</th>\n",
              "      <td>65</td>\n",
              "      <td>0.6</td>\n",
              "    </tr>\n",
              "    <tr>\n",
              "      <th>Metered Areas (Energy)</th>\n",
              "      <td>57</td>\n",
              "      <td>0.5</td>\n",
              "    </tr>\n",
              "    <tr>\n",
              "      <th>DOF Benchmarking Submission Status</th>\n",
              "      <td>30</td>\n",
              "      <td>0.3</td>\n",
              "    </tr>\n",
              "    <tr>\n",
              "      <th>NYC Borough, Block and Lot (BBL) self-reported</th>\n",
              "      <td>11</td>\n",
              "      <td>0.1</td>\n",
              "    </tr>\n",
              "    <tr>\n",
              "      <th>BBL - 10 digits</th>\n",
              "      <td>11</td>\n",
              "      <td>0.1</td>\n",
              "    </tr>\n",
              "    <tr>\n",
              "      <th>Largest Property Use Type</th>\n",
              "      <td>2</td>\n",
              "      <td>0.0</td>\n",
              "    </tr>\n",
              "    <tr>\n",
              "      <th>Largest Property Use Type - Gross Floor Area (ft²)</th>\n",
              "      <td>2</td>\n",
              "      <td>0.0</td>\n",
              "    </tr>\n",
              "  </tbody>\n",
              "</table>\n",
              "</div>"
            ],
            "text/plain": [
              "                                                    Missing Values  % of Total Values\n",
              "Fuel Oil #1 Use (kBtu)                                       11737               99.9\n",
              "Diesel #2 Use (kBtu)                                         11730               99.9\n",
              "Address 2                                                    11539               98.2\n",
              "Fuel Oil #5 & 6 Use (kBtu)                                   11152               94.9\n",
              "District Steam Use (kBtu)                                    10810               92.0\n",
              "Fuel Oil #4 Use (kBtu)                                       10425               88.8\n",
              "3rd Largest Property Use Type - Gross Floor Are...           10262               87.4\n",
              "3rd Largest Property Use Type                                10262               87.4\n",
              "Fuel Oil #2 Use (kBtu)                                        9165               78.0\n",
              "2nd Largest Property Use Type                                 8005               68.2\n",
              "2nd Largest Property Use - Gross Floor Area (ft²)             8005               68.2\n",
              "Metered Areas  (Water)                                        4609               39.2\n",
              "Water Intensity (All Water Sources) (gal/ft²)                 3984               33.9\n",
              "Water Use (All Water Sources) (kgal)                          3984               33.9\n",
              "Latitude                                                      2263               19.3\n",
              "Longitude                                                     2263               19.3\n",
              "Community Board                                               2263               19.3\n",
              "Council District                                              2263               19.3\n",
              "Census Tract                                                  2263               19.3\n",
              "NTA                                                           2263               19.3\n",
              "ENERGY STAR Score                                             2104               17.9\n",
              "Weather Normalized Site Natural Gas Intensity (...            1963               16.7\n",
              "Weather Normalized Site Natural Gas Use (therms)              1962               16.7\n",
              "Weather Normalized Source EUI (kBtu/ft²)                      1465               12.5\n",
              "Weather Normalized Site EUI (kBtu/ft²)                        1465               12.5\n",
              "Natural Gas Use (kBtu)                                        1442               12.3\n",
              "Weather Normalized Site Electricity Intensity (...             787                6.7\n",
              "Weather Normalized Site Electricity (kWh)                      786                6.7\n",
              "Electricity Use - Grid Purchase (kBtu)                         244                2.1\n",
              "Site EUI (kBtu/ft²)                                            163                1.4\n",
              "Source EUI (kBtu/ft²)                                          163                1.4\n",
              "NYC Building Identification Number (BIN)                       162                1.4\n",
              "Street Number                                                  124                1.1\n",
              "Street Name                                                    122                1.0\n",
              "Borough                                                        118                1.0\n",
              "DOF Gross Floor Area                                           118                1.0\n",
              "Water Required?                                                118                1.0\n",
              "Direct GHG Emissions (Metric Tons CO2e)                         83                0.7\n",
              "Total GHG Emissions (Metric Tons CO2e)                          74                0.6\n",
              "Indirect GHG Emissions (Metric Tons CO2e)                       65                0.6\n",
              "Metered Areas (Energy)                                          57                0.5\n",
              "DOF Benchmarking Submission Status                              30                0.3\n",
              "NYC Borough, Block and Lot (BBL) self-reported                  11                0.1\n",
              "BBL - 10 digits                                                 11                0.1\n",
              "Largest Property Use Type                                        2                0.0\n",
              "Largest Property Use Type - Gross Floor Area (ft²)               2                0.0"
            ]
          },
          "metadata": {
            "tags": []
          },
          "execution_count": 58
        }
      ]
    },
    {
      "cell_type": "code",
      "metadata": {
        "id": "Mj2IPdKGj1nk",
        "colab_type": "code",
        "colab": {
          "base_uri": "https://localhost:8080/",
          "height": 68
        },
        "outputId": "0d02c7ad-a5f6-4bc8-ce21-60a8ed5c5fbe"
      },
      "source": [
        "missing_df = missing_values_table(data);\n",
        "missing_columns = list(missing_df[missing_df['% of Total Values'] > 50].index)\n",
        "print('We will remove %d columns.' % len(missing_columns))"
      ],
      "execution_count": 59,
      "outputs": [
        {
          "output_type": "stream",
          "text": [
            "Your selected dataframe has 60 columns.\n",
            "There are 46 columns that have missing values.\n",
            "We will remove 11 columns.\n"
          ],
          "name": "stdout"
        }
      ]
    },
    {
      "cell_type": "code",
      "metadata": {
        "id": "8MpUqwj4j4ss",
        "colab_type": "code",
        "colab": {}
      },
      "source": [
        "# Drop the columns\n",
        "data = data.drop(columns = list(missing_columns))"
      ],
      "execution_count": 0,
      "outputs": []
    },
    {
      "cell_type": "code",
      "metadata": {
        "id": "FsbBajrTkSnf",
        "colab_type": "code",
        "colab": {
          "base_uri": "https://localhost:8080/",
          "height": 204
        },
        "outputId": "b1e4965b-d6af-41eb-d8b8-bbe58d2c93d4"
      },
      "source": [
        "# Copy the original data\n",
        "features = data.copy()\n",
        "\n",
        "# Select the numeric columns\n",
        "numeric_subset = data.select_dtypes('number')\n",
        "\n",
        "# Create columns with log of numeric columns\n",
        "for col in numeric_subset.columns:\n",
        "    # Skip the Energy Star Score column\n",
        "    if col == 'score':\n",
        "        next\n",
        "    else:\n",
        "        numeric_subset['log_' + col] = np.log(numeric_subset[col])\n",
        "        \n",
        "# Select the categorical columns\n",
        "categorical_subset = data[['Borough', 'Largest Property Use Type']]\n",
        "\n",
        "# One hot encode\n",
        "categorical_subset = pd.get_dummies(categorical_subset)\n",
        "\n",
        "# Join the two dataframes using concat\n",
        "# Make sure to use axis = 1 to perform a column bind\n",
        "features = pd.concat([numeric_subset, categorical_subset], axis = 1)\n",
        "\n",
        "features.shape"
      ],
      "execution_count": 61,
      "outputs": [
        {
          "output_type": "stream",
          "text": [
            "/usr/local/lib/python3.6/dist-packages/ipykernel_launcher.py:12: SettingWithCopyWarning: \n",
            "A value is trying to be set on a copy of a slice from a DataFrame.\n",
            "Try using .loc[row_indexer,col_indexer] = value instead\n",
            "\n",
            "See the caveats in the documentation: http://pandas.pydata.org/pandas-docs/stable/user_guide/indexing.html#returning-a-view-versus-a-copy\n",
            "  if sys.path[0] == '':\n",
            "/usr/local/lib/python3.6/dist-packages/pandas/core/series.py:856: RuntimeWarning: divide by zero encountered in log\n",
            "  result = getattr(ufunc, method)(*inputs, **kwargs)\n",
            "/usr/local/lib/python3.6/dist-packages/pandas/core/series.py:856: RuntimeWarning: invalid value encountered in log\n",
            "  result = getattr(ufunc, method)(*inputs, **kwargs)\n"
          ],
          "name": "stderr"
        },
        {
          "output_type": "execute_result",
          "data": {
            "text/plain": [
              "(11746, 116)"
            ]
          },
          "metadata": {
            "tags": []
          },
          "execution_count": 61
        }
      ]
    },
    {
      "cell_type": "code",
      "metadata": {
        "id": "UiX-q_DGkX3B",
        "colab_type": "code",
        "colab": {
          "base_uri": "https://localhost:8080/",
          "height": 51
        },
        "outputId": "b738c331-7a4d-4aaf-afe8-474018b0ab1e"
      },
      "source": [
        "# Extract the buildings with no score and the buildings with a score\n",
        "no_score = features[features['ENERGY STAR Score'].isna()]\n",
        "score = features[features['ENERGY STAR Score'].notnull()]\n",
        "\n",
        "print(no_score.shape)\n",
        "print(score.shape)"
      ],
      "execution_count": 62,
      "outputs": [
        {
          "output_type": "stream",
          "text": [
            "(2104, 116)\n",
            "(9642, 116)\n"
          ],
          "name": "stdout"
        }
      ]
    },
    {
      "cell_type": "code",
      "metadata": {
        "id": "_3dTuHQWkbMp",
        "colab_type": "code",
        "colab": {
          "base_uri": "https://localhost:8080/",
          "height": 85
        },
        "outputId": "19c1eab6-5c76-4fa2-e2dd-b8b23adada83"
      },
      "source": [
        "# Separate out the features and targets\n",
        "features = score.drop(columns = 'ENERGY STAR Score')\n",
        "targets = pd.DataFrame(score['ENERGY STAR Score'])\n",
        "\n",
        "# Replace the inf and -inf with nan (required for later imputation)\n",
        "features = features.replace({np.inf: np.nan, -np.inf: np.nan})\n",
        "\n",
        "# Split into 70% training and 30% testing set\n",
        "X, X_test, y, y_test = train_test_split(features, targets, test_size = 0.2, random_state = 42)\n",
        "\n",
        "print(X.shape)\n",
        "print(X_test.shape)\n",
        "print(y.shape)\n",
        "print(y_test.shape)"
      ],
      "execution_count": 63,
      "outputs": [
        {
          "output_type": "stream",
          "text": [
            "(7713, 115)\n",
            "(1929, 115)\n",
            "(7713, 1)\n",
            "(1929, 1)\n"
          ],
          "name": "stdout"
        }
      ]
    },
    {
      "cell_type": "code",
      "metadata": {
        "id": "_0Ld-oVAlFqm",
        "colab_type": "code",
        "colab": {}
      },
      "source": [
        "# Replace all occurrences of NaN with python integer max size (for further feature selection)\n",
        "features = features.replace({np.nan: sys.maxsize})"
      ],
      "execution_count": 0,
      "outputs": []
    },
    {
      "cell_type": "code",
      "metadata": {
        "id": "lNgcxypLkueT",
        "colab_type": "code",
        "colab": {
          "base_uri": "https://localhost:8080/",
          "height": 615
        },
        "outputId": "c80f253e-3265-4306-b71c-4b056404a0bc"
      },
      "source": [
        "# ExtraTreesClassifier (feature importance)\n",
        "model = ExtraTreesClassifier()\n",
        "model.fit(features, targets)\n",
        "\n",
        "feat_importances = pd.Series(model.feature_importances_, index=features.columns)\n",
        "\n",
        "et_clf = feat_importances.nlargest(10).index\n",
        "\n",
        "feat_importances.nlargest(10).plot(kind = 'bar')\n",
        "plt.show()"
      ],
      "execution_count": 70,
      "outputs": [
        {
          "output_type": "stream",
          "text": [
            "/usr/local/lib/python3.6/dist-packages/sklearn/ensemble/forest.py:245: FutureWarning: The default value of n_estimators will change from 10 in version 0.20 to 100 in 0.22.\n",
            "  \"10 in version 0.20 to 100 in 0.22.\", FutureWarning)\n",
            "/usr/local/lib/python3.6/dist-packages/ipykernel_launcher.py:2: DataConversionWarning: A column-vector y was passed when a 1d array was expected. Please change the shape of y to (n_samples,), for example using ravel().\n",
            "  \n"
          ],
          "name": "stderr"
        },
        {
          "output_type": "display_data",
          "data": {
            "image/png": "[encoded data removed]",
            "text/plain": [
              "<Figure size 432x288 with 1 Axes>"
            ]
          },
          "metadata": {
            "tags": []
          }
        }
      ]
    },
    {
      "cell_type": "code",
      "metadata": {
        "id": "mvPn4oPElQsr",
        "colab_type": "code",
        "colab": {
          "base_uri": "https://localhost:8080/",
          "height": 204
        },
        "outputId": "f43c388c-4f3f-45e2-b407-a53662994302"
      },
      "source": [
        "# Select features with chi2\n",
        "bestfeatures = SelectKBest(score_func = chi2, k = 10)\n",
        "fit = bestfeatures.fit(features.drop(columns = features.columns[(features < 0).any()], axis = 1), targets)\n",
        "\n",
        "chi2_scores = pd.DataFrame(fit.scores_)\n",
        "\n",
        "feature_columns = pd.DataFrame(features.drop(columns = features.columns[(features < 0).any()], axis = 1).columns)\n",
        "\n",
        "features_scores = pd.concat([feature_columns, chi2_scores], axis = 1)\n",
        "\n",
        "features_scores.columns = ['name', 'score']\n",
        "\n",
        "feat_chi = features_scores.nlargest(10, 'score').iloc[:, 0]\n",
        "\n",
        "feat_chi"
      ],
      "execution_count": 71,
      "outputs": [
        {
          "output_type": "execute_result",
          "data": {
            "text/plain": [
              "35           log_Electricity Use - Grid Purchase (kBtu)\n",
              "14               Electricity Use - Grid Purchase (kBtu)\n",
              "34                           log_Natural Gas Use (kBtu)\n",
              "36        log_Weather Normalized Site Electricity (kWh)\n",
              "9     Weather Normalized Site Electricity Intensity ...\n",
              "15            Weather Normalized Site Electricity (kWh)\n",
              "12                               Natural Gas Use (kBtu)\n",
              "10    Weather Normalized Site Natural Gas Intensity ...\n",
              "13     Weather Normalized Site Natural Gas Use (therms)\n",
              "28                             log_DOF Gross Floor Area\n",
              "Name: name, dtype: object"
            ]
          },
          "metadata": {
            "tags": []
          },
          "execution_count": 71
        }
      ]
    },
    {
      "cell_type": "code",
      "metadata": {
        "id": "iyrKr9aylgMg",
        "colab_type": "code",
        "colab": {
          "base_uri": "https://localhost:8080/",
          "height": 272
        },
        "outputId": "f2a6f228-7488-4049-8e28-b56254277101"
      },
      "source": [
        "# Combine top features\n",
        "et_clf = pd.DataFrame(et_clf)\n",
        "\n",
        "et_clf = et_clf.values\n",
        "\n",
        "feat_chi = pd.DataFrame(feat_chi)\n",
        "\n",
        "feat_chi = feat_chi.values\n",
        "\n",
        "merged_features = np.concatenate((feat_chi, et_clf))\n",
        "\n",
        "merged_features = np.unique(merged_features)\n",
        "\n",
        "merged_features"
      ],
      "execution_count": 73,
      "outputs": [
        {
          "output_type": "execute_result",
          "data": {
            "text/plain": [
              "array(['Electricity Use - Grid Purchase (kBtu)', 'Natural Gas Use (kBtu)',\n",
              "       'Site EUI (kBtu/ft²)', 'Source EUI (kBtu/ft²)',\n",
              "       'Total GHG Emissions (Metric Tons CO2e)',\n",
              "       'Weather Normalized Site Electricity (kWh)',\n",
              "       'Weather Normalized Site Electricity Intensity (kWh/ft²)',\n",
              "       'Weather Normalized Site Natural Gas Intensity (therms/ft²)',\n",
              "       'Weather Normalized Site Natural Gas Use (therms)',\n",
              "       'log_DOF Gross Floor Area',\n",
              "       'log_Direct GHG Emissions (Metric Tons CO2e)',\n",
              "       'log_ENERGY STAR Score',\n",
              "       'log_Electricity Use - Grid Purchase (kBtu)',\n",
              "       'log_Natural Gas Use (kBtu)', 'log_Property Id',\n",
              "       'log_Site EUI (kBtu/ft²)', 'log_Source EUI (kBtu/ft²)',\n",
              "       'log_Weather Normalized Site Electricity (kWh)',\n",
              "       'log_Weather Normalized Source EUI (kBtu/ft²)'], dtype=object)"
            ]
          },
          "metadata": {
            "tags": []
          },
          "execution_count": 73
        }
      ]
    },
    {
      "cell_type": "markdown",
      "metadata": {
        "id": "LnWk_yUslzVq",
        "colab_type": "text"
      },
      "source": [
        "## Standartization"
      ]
    },
    {
      "cell_type": "code",
      "metadata": {
        "id": "JpHP_vmnl1Ln",
        "colab_type": "code",
        "colab": {}
      },
      "source": [
        "X, X_test, y, y_test = train_test_split(features, targets, test_size = 0.2, random_state = 42)\n",
        "\n",
        "scaler = StandardScaler()\n",
        "\n",
        "X_scl = scaler.fit_transform(X)\n",
        "X_test_scl = scaler.fit_transform(X_test)\n",
        "\n",
        "X_scl = pd.DataFrame(X_scl, columns = X.columns)\n",
        "X_test_scl = pd.DataFrame(X_test_scl, columns = X_test.columns)"
      ],
      "execution_count": 0,
      "outputs": []
    },
    {
      "cell_type": "markdown",
      "metadata": {
        "id": "kk-CJ3CPmRB0",
        "colab_type": "text"
      },
      "source": [
        "## Train"
      ]
    },
    {
      "cell_type": "code",
      "metadata": {
        "id": "nINlmHZkmg15",
        "colab_type": "code",
        "colab": {}
      },
      "source": [
        "lg_model = LinearRegression(copy_X = True, fit_intercept = True, n_jobs = None, normalize = False)"
      ],
      "execution_count": 0,
      "outputs": []
    },
    {
      "cell_type": "code",
      "metadata": {
        "id": "NdeUAdZRm6Az",
        "colab_type": "code",
        "colab": {
          "base_uri": "https://localhost:8080/",
          "height": 34
        },
        "outputId": "32dc8bed-e5f5-4b1c-d35d-de5bc16e750e"
      },
      "source": [
        "lg_model.fit(X_scl[merged_features], y)"
      ],
      "execution_count": 76,
      "outputs": [
        {
          "output_type": "execute_result",
          "data": {
            "text/plain": [
              "LinearRegression(copy_X=True, fit_intercept=True, n_jobs=None, normalize=False)"
            ]
          },
          "metadata": {
            "tags": []
          },
          "execution_count": 76
        }
      ]
    },
    {
      "cell_type": "code",
      "metadata": {
        "id": "jObk7TZ3m7vI",
        "colab_type": "code",
        "colab": {
          "base_uri": "https://localhost:8080/",
          "height": 34
        },
        "outputId": "e5076e65-55a0-4d88-c97e-4e95b12ef2de"
      },
      "source": [
        "lg_model.score(X_scl[merged_features], y)"
      ],
      "execution_count": 77,
      "outputs": [
        {
          "output_type": "execute_result",
          "data": {
            "text/plain": [
              "0.7690551612743349"
            ]
          },
          "metadata": {
            "tags": []
          },
          "execution_count": 77
        }
      ]
    },
    {
      "cell_type": "code",
      "metadata": {
        "id": "RCihXPhTpaAC",
        "colab_type": "code",
        "colab": {}
      },
      "source": [
        "preds = lg_model.predict(X_test_scl[merged_features])\n",
        "mae = mean_absolute_error(y_test, preds.argmax(axis = 1))"
      ],
      "execution_count": 0,
      "outputs": []
    },
    {
      "cell_type": "code",
      "metadata": {
        "id": "NvBvZ6F6pyU8",
        "colab_type": "code",
        "colab": {
          "base_uri": "https://localhost:8080/",
          "height": 34
        },
        "outputId": "56c6e104-146a-4b34-e42d-ab1659115ba9"
      },
      "source": [
        "mae"
      ],
      "execution_count": 90,
      "outputs": [
        {
          "output_type": "execute_result",
          "data": {
            "text/plain": [
              "60.15966822187662"
            ]
          },
          "metadata": {
            "tags": []
          },
          "execution_count": 90
        }
      ]
    },
    {
      "cell_type": "code",
      "metadata": {
        "id": "L93XCLRnoxyp",
        "colab_type": "code",
        "colab": {
          "base_uri": "https://localhost:8080/",
          "height": 34
        },
        "outputId": "ad3b318d-ae40-4f26-a863-02abca8194c5"
      },
      "source": [
        "X.shape"
      ],
      "execution_count": 81,
      "outputs": [
        {
          "output_type": "execute_result",
          "data": {
            "text/plain": [
              "(7713, 115)"
            ]
          },
          "metadata": {
            "tags": []
          },
          "execution_count": 81
        }
      ]
    },
    {
      "cell_type": "code",
      "metadata": {
        "id": "j-an0ygOoUZM",
        "colab_type": "code",
        "colab": {
          "base_uri": "https://localhost:8080/",
          "height": 445
        },
        "outputId": "3a8be48e-78fd-4ab7-ac12-d1ce1085ec4f"
      },
      "source": [
        "pca = decomposition.PCA().fit(X)\n",
        "\n",
        "plt.figure(figsize = (10, 7))\n",
        "plt.plot(np.cumsum(pca.explained_variance_ratio_), color = 'k', lw = 2)\n",
        "plt.xlabel('Number of components')\n",
        "plt.ylabel('Total explained variance')\n",
        "plt.xlim(0, 6)\n",
        "plt.yticks(np.arange(0, 1.1, 0.1))\n",
        "plt.axvline(5, c = 'g', ls = '-')\n",
        "plt.axhline(0.95, c = 'r')\n",
        "plt.show();"
      ],
      "execution_count": 126,
      "outputs": [
        {
          "output_type": "display_data",
          "data": {
            "image/png": "[encoded data removed]",
            "text/plain": [
              "<Figure size 720x504 with 1 Axes>"
            ]
          },
          "metadata": {
            "tags": []
          }
        }
      ]
    },
    {
      "cell_type": "code",
      "metadata": {
        "id": "NaRmSqpXpKBc",
        "colab_type": "code",
        "colab": {
          "base_uri": "https://localhost:8080/",
          "height": 408
        },
        "outputId": "01ce2234-fd04-44ba-90de-663b88150b38"
      },
      "source": [
        "np.cumsum(pca.explained_variance_ratio_)"
      ],
      "execution_count": 85,
      "outputs": [
        {
          "output_type": "execute_result",
          "data": {
            "text/plain": [
              "array([0.38013716, 0.61504001, 0.80660652, 0.91809342, 0.94711897,\n",
              "       0.97517627, 0.98375126, 0.9890155 , 0.99238051, 0.99548289,\n",
              "       0.99685527, 0.99793067, 0.99838682, 0.99873078, 0.99904753,\n",
              "       0.99934233, 0.99951546, 0.99966823, 0.99979756, 0.99990458,\n",
              "       0.99998074, 1.        , 1.        , 1.        , 1.        ,\n",
              "       1.        , 1.        , 1.        , 1.        , 1.        ,\n",
              "       1.        , 1.        , 1.        , 1.        , 1.        ,\n",
              "       1.        , 1.        , 1.        , 1.        , 1.        ,\n",
              "       1.        , 1.        , 1.        , 1.        , 1.        ,\n",
              "       1.        , 1.        , 1.        , 1.        , 1.        ,\n",
              "       1.        , 1.        , 1.        , 1.        , 1.        ,\n",
              "       1.        , 1.        , 1.        , 1.        , 1.        ,\n",
              "       1.        , 1.        , 1.        , 1.        , 1.        ,\n",
              "       1.        , 1.        , 1.        , 1.        , 1.        ,\n",
              "       1.        , 1.        , 1.        , 1.        , 1.        ,\n",
              "       1.        , 1.        , 1.        , 1.        , 1.        ,\n",
              "       1.        , 1.        , 1.        , 1.        , 1.        ,\n",
              "       1.        , 1.        , 1.        , 1.        , 1.        ,\n",
              "       1.        , 1.        , 1.        , 1.        , 1.        ,\n",
              "       1.        , 1.        , 1.        , 1.        , 1.        ,\n",
              "       1.        , 1.        , 1.        , 1.        , 1.        ,\n",
              "       1.        , 1.        , 1.        , 1.        , 1.        ,\n",
              "       1.        , 1.        , 1.        , 1.        , 1.        ])"
            ]
          },
          "metadata": {
            "tags": []
          },
          "execution_count": 85
        }
      ]
    },
    {
      "cell_type": "code",
      "metadata": {
        "id": "Hic9ACcJqOuV",
        "colab_type": "code",
        "colab": {
          "base_uri": "https://localhost:8080/",
          "height": 626
        },
        "outputId": "86435d26-7675-4045-a9ac-3c1d97fcece1"
      },
      "source": [
        "tsne_best = TSNE(random_state = 17)\n",
        "\n",
        "X_tsne = tsne_best.fit_transform(X)\n",
        "\n",
        "plt.figure(figsize = (12, 10))\n",
        "plt.scatter(X_tsne[:, 0], X_tsne[:, 1], c = y.values.flatten(), \n",
        "            edgecolor = 'none', alpha = 0.7, s = 40,\n",
        "            cmap = plt.cm.get_cmap('nipy_spectral', 10))\n",
        "plt.colorbar()\n",
        "plt.title('EnergySTAR. t-SNE projection')"
      ],
      "execution_count": 128,
      "outputs": [
        {
          "output_type": "execute_result",
          "data": {
            "text/plain": [
              "Text(0.5, 1.0, 'EnergySTAR. t-SNE projection')"
            ]
          },
          "metadata": {
            "tags": []
          },
          "execution_count": 128
        },
        {
          "output_type": "display_data",
          "data": {
            "image/png": "[encoded data removed]",
            "text/plain": [
              "<Figure size 864x720 with 2 Axes>"
            ]
          },
          "metadata": {
            "tags": []
          }
        }
      ]
    },
    {
      "cell_type": "code",
      "metadata": {
        "id": "CCn0C_RQuguN",
        "colab_type": "code",
        "colab": {}
      },
      "source": [
        "# With dispersion of 0.95 features can be compressed to 5 from 115\n",
        "pca = decomposition.PCA(n_components = 5)\n",
        "features_reduced = pca.fit_transform(features)"
      ],
      "execution_count": 0,
      "outputs": []
    },
    {
      "cell_type": "code",
      "metadata": {
        "id": "NFsiyLZfwOER",
        "colab_type": "code",
        "colab": {}
      },
      "source": [
        "X, X_test, y, y_test = train_test_split(pd.DataFrame(features_reduced), targets, test_size = 0.2, random_state = 42)\n",
        "\n",
        "scaler = StandardScaler()\n",
        "\n",
        "X_scl = scaler.fit_transform(X)\n",
        "X_test_scl = scaler.fit_transform(X_test)\n",
        "\n",
        "X_scl = pd.DataFrame(X_scl, columns = X.columns)\n",
        "X_test_scl = pd.DataFrame(X_test_scl, columns = X_test.columns)"
      ],
      "execution_count": 0,
      "outputs": []
    },
    {
      "cell_type": "code",
      "metadata": {
        "id": "Robnb_f6vDU_",
        "colab_type": "code",
        "colab": {
          "base_uri": "https://localhost:8080/",
          "height": 34
        },
        "outputId": "33677bfe-8e9b-41a5-9bf6-37d669519e73"
      },
      "source": [
        "lg_model.fit(X_scl, y)"
      ],
      "execution_count": 134,
      "outputs": [
        {
          "output_type": "execute_result",
          "data": {
            "text/plain": [
              "LinearRegression(copy_X=True, fit_intercept=True, n_jobs=None, normalize=False)"
            ]
          },
          "metadata": {
            "tags": []
          },
          "execution_count": 134
        }
      ]
    },
    {
      "cell_type": "code",
      "metadata": {
        "id": "kcaafTDwvJv4",
        "colab_type": "code",
        "colab": {
          "base_uri": "https://localhost:8080/",
          "height": 34
        },
        "outputId": "23eeee83-1f75-47bf-aea0-653e918e54ac"
      },
      "source": [
        "lg_model.score(X_scl, y)"
      ],
      "execution_count": 135,
      "outputs": [
        {
          "output_type": "execute_result",
          "data": {
            "text/plain": [
              "0.02079024522574746"
            ]
          },
          "metadata": {
            "tags": []
          },
          "execution_count": 135
        }
      ]
    },
    {
      "cell_type": "code",
      "metadata": {
        "id": "3Eo9yi0_vQJ7",
        "colab_type": "code",
        "colab": {}
      },
      "source": [
        "preds = lg_model.predict(X_test_scl)\n",
        "mae = mean_absolute_error(y_test, preds.argmax(axis = 1))"
      ],
      "execution_count": 0,
      "outputs": []
    },
    {
      "cell_type": "code",
      "metadata": {
        "id": "9wnUHt5nxIkK",
        "colab_type": "code",
        "colab": {
          "base_uri": "https://localhost:8080/",
          "height": 34
        },
        "outputId": "84609ee5-dc94-42f4-befd-167f3aa823f9"
      },
      "source": [
        "mae"
      ],
      "execution_count": 137,
      "outputs": [
        {
          "output_type": "execute_result",
          "data": {
            "text/plain": [
              "60.15966822187662"
            ]
          },
          "metadata": {
            "tags": []
          },
          "execution_count": 137
        }
      ]
    },
    {
      "cell_type": "markdown",
      "metadata": {
        "id": "KHmmFXaaXucg",
        "colab_type": "text"
      },
      "source": [
        "# Useful links"
      ]
    },
    {
      "cell_type": "markdown",
      "metadata": {
        "id": "HhtnERqUXw8V",
        "colab_type": "text"
      },
      "source": [
        "* https://habr.com/ru/company/ods/blog/325654/\n",
        "* https://fooobar.com/questions/16311024/analysis-of-wine-quality-dataset\n",
        "* https://habr.com/ru/post/304214/\n",
        "* https://habr.com/ru/company/ods/blog/322626/\n",
        "* https://habr.com/ru/company/ods/blog/323210/\n",
        "* https://distill.pub/2016/misread-tsne/\n",
        "* https://www.kaggle.com/sonalisingh1411/pca-on-wine-dataset\n",
        "* https://goksinan.github.io/machine/pca-on-wine-data/\n",
        "* http://www.cs.nthu.edu.tw/~shwu/courses/ml/labs/02_EDA_PCA/02_EDA_PCA.html\n",
        "\n",
        "* https://feature-engine.readthedocs.io/en/latest/index.html"
      ]
    }
  ]
}