{
  "nbformat": 4,
  "nbformat_minor": 0,
  "metadata": {
    "kernelspec": {
      "name": "python3",
      "display_name": "Python 3"
    },
    "language_info": {
      "codemirror_mode": {
        "name": "ipython",
        "version": 3
      },
      "file_extension": ".py",
      "mimetype": "text/x-python",
      "name": "python",
      "nbconvert_exporter": "python",
      "pygments_lexer": "ipython3",
      "version": "3.7.3"
    },
    "colab": {
      "name": "PCA_work.ipynb",
      "provenance": [],
      "collapsed_sections": [],
      "toc_visible": true,
      "include_colab_link": true
    },
    "accelerator": "GPU"
  },
  "cells": [
    {
      "cell_type": "markdown",
      "metadata": {
        "id": "view-in-github",
        "colab_type": "text"
      },
      "source": [
        "<a href=\"https://colab.research.google.com/github/george-zakharov/ml_notebooks/blob/master/PCA_work.ipynb\" target=\"_parent\"><img src=\"https://colab.research.google.com/assets/colab-badge.svg\" alt=\"Open In Colab\"/></a>"
      ]
    },
    {
      "cell_type": "markdown",
      "metadata": {
        "id": "svglh-o7Pz5c",
        "colab_type": "text"
      },
      "source": [
        "### Homework 7\n",
        "\n",
        "\n",
        "\n",
        "#### Light: \n",
        "\n",
        "Датасет: https://www.kaggle.com/uciml/red-wine-quality-cortez-et-al-2009\n",
        "(из Homework 6)\n",
        "\n",
        "С помощью алгоритма PCA найти размерность пространства признаков до которой можно понизить исходное пространство без потери точности.\n",
        "\n",
        "\n",
        "#### Pro: \n",
        "\n",
        "Датасет: https://www1.nyc.gov/html/gbee/html/plan/ll84_scores.shtml\n",
        "(из Homework 4)\n",
        "\n",
        "С помощью алгоритма PCA (t-SNE) найти размерность пространства признаков до которой можно понизить исходное пространство без потери точности."
      ]
    }
  ]
}