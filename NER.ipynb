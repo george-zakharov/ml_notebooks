{
  "nbformat": 4,
  "nbformat_minor": 0,
  "metadata": {
    "colab": {
      "name": "NER.ipynb",
      "provenance": [],
      "collapsed_sections": [],
      "toc_visible": true,
      "include_colab_link": true
    },
    "kernelspec": {
      "name": "python3",
      "display_name": "Python 3"
    },
    "accelerator": "GPU"
  },
  "cells": [
    {
      "cell_type": "markdown",
      "metadata": {
        "id": "view-in-github",
        "colab_type": "text"
      },
      "source": [
        "<a href=\"https://colab.research.google.com/github/george-zakharov/ml_notebooks/blob/master/NER.ipynb\" target=\"_parent\"><img src=\"https://colab.research.google.com/assets/colab-badge.svg\" alt=\"Open In Colab\"/></a>"
      ]
    },
    {
      "cell_type": "markdown",
      "metadata": {
        "id": "7psLh1Ni8sWn",
        "colab_type": "text"
      },
      "source": [
        "### Homework 9\n",
        "\n",
        "\n",
        "\n",
        "#### Light: \n",
        "\n",
        "Выполнить задачу text summarization для своего набора статей на английском языке.\n",
        "\n",
        "\n",
        "#### Pro: \n",
        "\n",
        "Выполнить задачу text summarization для своего набора статей на русском языке. \n",
        "В качестве векторных представлений предложений использовать либо предобученные \n",
        "модели https://rusvectores.org/ru/models/ или собственный embending, \n",
        "полученный из SVD разложения."
      ]
    },
    {
      "cell_type": "markdown",
      "metadata": {
        "id": "b2o5wlZkNw9B",
        "colab_type": "text"
      },
      "source": [
        "# Load libs"
      ]
    },
    {
      "cell_type": "code",
      "metadata": {
        "id": "Zi_CBIhK_8Kv",
        "colab_type": "code",
        "colab": {}
      },
      "source": [
        ""
      ],
      "execution_count": 0,
      "outputs": []
    },
    {
      "cell_type": "markdown",
      "metadata": {
        "id": "IBsFCPFeOKBF",
        "colab_type": "text"
      },
      "source": [
        "# Light (News dataset from Kaggle)"
      ]
    },
    {
      "cell_type": "markdown",
      "metadata": {
        "id": "sDE8lymGNzzO",
        "colab_type": "text"
      },
      "source": [
        "## Load dataset"
      ]
    },
    {
      "cell_type": "code",
      "metadata": {
        "id": "rQ-u7OJdN12L",
        "colab_type": "code",
        "colab": {}
      },
      "source": [
        "!pip install kaggle"
      ],
      "execution_count": 0,
      "outputs": []
    },
    {
      "cell_type": "code",
      "metadata": {
        "id": "wpjqq4-4N7Se",
        "colab_type": "code",
        "colab": {}
      },
      "source": [
        "file = files.upload()"
      ],
      "execution_count": 0,
      "outputs": []
    },
    {
      "cell_type": "code",
      "metadata": {
        "id": "HDSWHiFoN9V8",
        "colab_type": "code",
        "colab": {}
      },
      "source": [
        "!mkdir ~/.kaggle\n",
        "!mv kaggle.json ~/.kaggle"
      ],
      "execution_count": 0,
      "outputs": []
    },
    {
      "cell_type": "code",
      "metadata": {
        "id": "mhgpMZZdOEcz",
        "colab_type": "code",
        "colab": {}
      },
      "source": [
        "!kaggle datasets download -d asad1m9a9h6mood/news-articles # https://www.kaggle.com/asad1m9a9h6mood/news-articles"
      ],
      "execution_count": 0,
      "outputs": []
    },
    {
      "cell_type": "markdown",
      "metadata": {
        "id": "1-79ZJ_5Oavz",
        "colab_type": "text"
      },
      "source": [
        "# Useful links"
      ]
    },
    {
      "cell_type": "markdown",
      "metadata": {
        "id": "9i2uyz05OdF7",
        "colab_type": "text"
      },
      "source": [
        "* https://www.kaggle.com/asad1m9a9h6mood/news-articles"
      ]
    }
  ]
}