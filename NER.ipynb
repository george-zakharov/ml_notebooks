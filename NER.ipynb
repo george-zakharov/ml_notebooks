{
  "nbformat": 4,
  "nbformat_minor": 0,
  "metadata": {
    "colab": {
      "name": "NER.ipynb",
      "provenance": [],
      "collapsed_sections": [
        "b2o5wlZkNw9B",
        "sDE8lymGNzzO",
        "c5CiDCJ0no_P",
        "yu1kxJZoiB62"
      ],
      "toc_visible": true,
      "include_colab_link": true
    },
    "kernelspec": {
      "name": "python3",
      "display_name": "Python 3"
    },
    "accelerator": "GPU"
  },
  "cells": [
    {
      "cell_type": "markdown",
      "metadata": {
        "id": "view-in-github",
        "colab_type": "text"
      },
      "source": [
        "<a href=\"https://colab.research.google.com/github/george-zakharov/ml_notebooks/blob/master/NER.ipynb\" target=\"_parent\"><img src=\"https://colab.research.google.com/assets/colab-badge.svg\" alt=\"Open In Colab\"/></a>"
      ]
    },
    {
      "cell_type": "markdown",
      "metadata": {
        "id": "7psLh1Ni8sWn",
        "colab_type": "text"
      },
      "source": [
        "### Homework 9\n",
        "\n",
        "\n",
        "\n",
        "#### Light: \n",
        "\n",
        "Выполнить задачу text summarization для своего набора статей на английском языке.\n",
        "\n",
        "\n",
        "#### Pro: \n",
        "\n",
        "Выполнить задачу text summarization для своего набора статей на русском языке. \n",
        "В качестве векторных представлений предложений использовать либо предобученные \n",
        "модели https://rusvectores.org/ru/models/ или собственный embending, \n",
        "полученный из SVD разложения."
      ]
    },
    {
      "cell_type": "markdown",
      "metadata": {
        "id": "b2o5wlZkNw9B",
        "colab_type": "text"
      },
      "source": [
        "# Load libs"
      ]
    },
    {
      "cell_type": "code",
      "metadata": {
        "id": "Zi_CBIhK_8Kv",
        "colab_type": "code",
        "outputId": "a1537286-2597-4ef3-d7a0-ef9867e32058",
        "colab": {
          "base_uri": "https://localhost:8080/",
          "height": 85
        }
      },
      "source": [
        "from google.colab import files\n",
        "import numpy as np\n",
        "import pandas as pd\n",
        "import nltk\n",
        "from nltk.tokenize import sent_tokenize\n",
        "nltk.download('punkt')\n",
        "nltk.download('stopwords')\n",
        "from nltk.corpus import stopwords\n",
        "import re\n",
        "from sklearn.metrics.pairwise import cosine_similarity\n",
        "from google.colab import drive\n",
        "import networkx as nx\n",
        "from gensim.summarization.summarizer import summarize\n",
        "from gensim.summarization import keywords\n",
        "from numba import jit"
      ],
      "execution_count": 38,
      "outputs": [
        {
          "output_type": "stream",
          "text": [
            "[nltk_data] Downloading package punkt to /root/nltk_data...\n",
            "[nltk_data]   Package punkt is already up-to-date!\n",
            "[nltk_data] Downloading package stopwords to /root/nltk_data...\n",
            "[nltk_data]   Package stopwords is already up-to-date!\n"
          ],
          "name": "stdout"
        }
      ]
    },
    {
      "cell_type": "markdown",
      "metadata": {
        "id": "IBsFCPFeOKBF",
        "colab_type": "text"
      },
      "source": [
        "# Light (News dataset from Kaggle)"
      ]
    },
    {
      "cell_type": "markdown",
      "metadata": {
        "id": "sDE8lymGNzzO",
        "colab_type": "text"
      },
      "source": [
        "## Load dataset"
      ]
    },
    {
      "cell_type": "code",
      "metadata": {
        "id": "rQ-u7OJdN12L",
        "colab_type": "code",
        "outputId": "847af5f0-4cab-44ec-d81f-1726d1bf08de",
        "colab": {
          "base_uri": "https://localhost:8080/",
          "height": 204
        }
      },
      "source": [
        "!pip install kaggle"
      ],
      "execution_count": 2,
      "outputs": [
        {
          "output_type": "stream",
          "text": [
            "Requirement already satisfied: kaggle in /usr/local/lib/python3.6/dist-packages (1.5.6)\n",
            "Requirement already satisfied: certifi in /usr/local/lib/python3.6/dist-packages (from kaggle) (2019.11.28)\n",
            "Requirement already satisfied: python-slugify in /usr/local/lib/python3.6/dist-packages (from kaggle) (4.0.0)\n",
            "Requirement already satisfied: tqdm in /usr/local/lib/python3.6/dist-packages (from kaggle) (4.28.1)\n",
            "Requirement already satisfied: requests in /usr/local/lib/python3.6/dist-packages (from kaggle) (2.21.0)\n",
            "Requirement already satisfied: six>=1.10 in /usr/local/lib/python3.6/dist-packages (from kaggle) (1.12.0)\n",
            "Requirement already satisfied: urllib3<1.25,>=1.21.1 in /usr/local/lib/python3.6/dist-packages (from kaggle) (1.24.3)\n",
            "Requirement already satisfied: python-dateutil in /usr/local/lib/python3.6/dist-packages (from kaggle) (2.6.1)\n",
            "Requirement already satisfied: text-unidecode>=1.3 in /usr/local/lib/python3.6/dist-packages (from python-slugify->kaggle) (1.3)\n",
            "Requirement already satisfied: idna<2.9,>=2.5 in /usr/local/lib/python3.6/dist-packages (from requests->kaggle) (2.8)\n",
            "Requirement already satisfied: chardet<3.1.0,>=3.0.2 in /usr/local/lib/python3.6/dist-packages (from requests->kaggle) (3.0.4)\n"
          ],
          "name": "stdout"
        }
      ]
    },
    {
      "cell_type": "code",
      "metadata": {
        "id": "wpjqq4-4N7Se",
        "colab_type": "code",
        "outputId": "fd53fafe-42db-4006-e8eb-ab1cc1f77368",
        "colab": {
          "resources": {
            "http://localhost:8080/nbextensions/google.colab/files.js": {
              "data": "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",
              "ok": true,
              "headers": [
                [
                  "content-type",
                  "application/javascript"
                ]
              ],
              "status": 200,
              "status_text": ""
            }
          },
          "base_uri": "https://localhost:8080/",
          "height": 74
        }
      },
      "source": [
        "file = files.upload()"
      ],
      "execution_count": 3,
      "outputs": [
        {
          "output_type": "display_data",
          "data": {
            "text/html": [
              "\n",
              "     <input type=\"file\" id=\"files-e4238500-b007-4166-a302-dbf7750262ff\" name=\"files[]\" multiple disabled />\n",
              "     <output id=\"result-e4238500-b007-4166-a302-dbf7750262ff\">\n",
              "      Upload widget is only available when the cell has been executed in the\n",
              "      current browser session. Please rerun this cell to enable.\n",
              "      </output>\n",
              "      <script src=\"/nbextensions/google.colab/files.js\"></script> "
            ],
            "text/plain": [
              "<IPython.core.display.HTML object>"
            ]
          },
          "metadata": {
            "tags": []
          }
        },
        {
          "output_type": "stream",
          "text": [
            "Saving kaggle.json to kaggle.json\n"
          ],
          "name": "stdout"
        }
      ]
    },
    {
      "cell_type": "code",
      "metadata": {
        "id": "HDSWHiFoN9V8",
        "colab_type": "code",
        "colab": {}
      },
      "source": [
        "!mkdir ~/.kaggle\n",
        "!mv kaggle.json ~/.kaggle"
      ],
      "execution_count": 0,
      "outputs": []
    },
    {
      "cell_type": "code",
      "metadata": {
        "id": "mhgpMZZdOEcz",
        "colab_type": "code",
        "outputId": "7e571365-40ec-4f41-c8d1-a9cf68879994",
        "colab": {
          "base_uri": "https://localhost:8080/",
          "height": 85
        }
      },
      "source": [
        "!kaggle datasets download -d asad1m9a9h6mood/news-articles # https://www.kaggle.com/asad1m9a9h6mood/news-articles"
      ],
      "execution_count": 5,
      "outputs": [
        {
          "output_type": "stream",
          "text": [
            "Warning: Your Kaggle API key is readable by other users on this system! To fix this, you can run 'chmod 600 /root/.kaggle/kaggle.json'\n",
            "Downloading news-articles.zip to /content\n",
            "  0% 0.00/1.73M [00:00<?, ?B/s]\n",
            "100% 1.73M/1.73M [00:00<00:00, 58.2MB/s]\n"
          ],
          "name": "stdout"
        }
      ]
    },
    {
      "cell_type": "code",
      "metadata": {
        "id": "_OyJACTbg2VD",
        "colab_type": "code",
        "outputId": "e38fba5a-7f04-4464-aabf-a0bfa45f523e",
        "colab": {
          "base_uri": "https://localhost:8080/",
          "height": 51
        }
      },
      "source": [
        "!unzip news-articles.zip"
      ],
      "execution_count": 6,
      "outputs": [
        {
          "output_type": "stream",
          "text": [
            "Archive:  news-articles.zip\n",
            "  inflating: Articles.csv            \n"
          ],
          "name": "stdout"
        }
      ]
    },
    {
      "cell_type": "code",
      "metadata": {
        "id": "nt-NjM2ig8p_",
        "colab_type": "code",
        "colab": {}
      },
      "source": [
        "df = pd.read_csv('Articles.csv', engine = 'python')"
      ],
      "execution_count": 0,
      "outputs": []
    },
    {
      "cell_type": "markdown",
      "metadata": {
        "id": "c5CiDCJ0no_P",
        "colab_type": "text"
      },
      "source": [
        "## User defined functions"
      ]
    },
    {
      "cell_type": "code",
      "metadata": {
        "id": "0KCV4l23nrm4",
        "colab_type": "code",
        "colab": {}
      },
      "source": [
        "# function to remove stopwords\n",
        "@jit\n",
        "def remove_stopwords(sentence):\n",
        "    sen_new = \" \".join([i for i in sentence if i not in stop_words])\n",
        "    return sen_new"
      ],
      "execution_count": 0,
      "outputs": []
    },
    {
      "cell_type": "markdown",
      "metadata": {
        "id": "yu1kxJZoiB62",
        "colab_type": "text"
      },
      "source": [
        "## Dataset exploration"
      ]
    },
    {
      "cell_type": "code",
      "metadata": {
        "id": "9ORR30EiiEC9",
        "colab_type": "code",
        "outputId": "c4dcc83a-a672-4ce3-af70-b8006e10c49e",
        "colab": {
          "base_uri": "https://localhost:8080/",
          "height": 204
        }
      },
      "source": [
        "df.head()"
      ],
      "execution_count": 9,
      "outputs": [
        {
          "output_type": "execute_result",
          "data": {
            "text/html": [
              "<div>\n",
              "<style scoped>\n",
              "    .dataframe tbody tr th:only-of-type {\n",
              "        vertical-align: middle;\n",
              "    }\n",
              "\n",
              "    .dataframe tbody tr th {\n",
              "        vertical-align: top;\n",
              "    }\n",
              "\n",
              "    .dataframe thead th {\n",
              "        text-align: right;\n",
              "    }\n",
              "</style>\n",
              "<table border=\"1\" class=\"dataframe\">\n",
              "  <thead>\n",
              "    <tr style=\"text-align: right;\">\n",
              "      <th></th>\n",
              "      <th>Article</th>\n",
              "      <th>Date</th>\n",
              "      <th>Heading</th>\n",
              "      <th>NewsType</th>\n",
              "    </tr>\n",
              "  </thead>\n",
              "  <tbody>\n",
              "    <tr>\n",
              "      <th>0</th>\n",
              "      <td>KARACHI: The Sindh government has decided to b...</td>\n",
              "      <td>1/1/2015</td>\n",
              "      <td>sindh govt decides to cut public transport far...</td>\n",
              "      <td>business</td>\n",
              "    </tr>\n",
              "    <tr>\n",
              "      <th>1</th>\n",
              "      <td>HONG KONG: Asian markets started 2015 on an up...</td>\n",
              "      <td>1/2/2015</td>\n",
              "      <td>asia stocks up in new year trad</td>\n",
              "      <td>business</td>\n",
              "    </tr>\n",
              "    <tr>\n",
              "      <th>2</th>\n",
              "      <td>HONG KONG:  Hong Kong shares opened 0.66 perce...</td>\n",
              "      <td>1/5/2015</td>\n",
              "      <td>hong kong stocks open 0.66 percent lower</td>\n",
              "      <td>business</td>\n",
              "    </tr>\n",
              "    <tr>\n",
              "      <th>3</th>\n",
              "      <td>HONG KONG: Asian markets tumbled Tuesday follo...</td>\n",
              "      <td>1/6/2015</td>\n",
              "      <td>asian stocks sink euro near nine year</td>\n",
              "      <td>business</td>\n",
              "    </tr>\n",
              "    <tr>\n",
              "      <th>4</th>\n",
              "      <td>NEW YORK: US oil prices Monday slipped below $...</td>\n",
              "      <td>1/6/2015</td>\n",
              "      <td>us oil prices slip below 50 a barr</td>\n",
              "      <td>business</td>\n",
              "    </tr>\n",
              "  </tbody>\n",
              "</table>\n",
              "</div>"
            ],
            "text/plain": [
              "                                             Article  ...  NewsType\n",
              "0  KARACHI: The Sindh government has decided to b...  ...  business\n",
              "1  HONG KONG: Asian markets started 2015 on an up...  ...  business\n",
              "2  HONG KONG:  Hong Kong shares opened 0.66 perce...  ...  business\n",
              "3  HONG KONG: Asian markets tumbled Tuesday follo...  ...  business\n",
              "4  NEW YORK: US oil prices Monday slipped below $...  ...  business\n",
              "\n",
              "[5 rows x 4 columns]"
            ]
          },
          "metadata": {
            "tags": []
          },
          "execution_count": 9
        }
      ]
    },
    {
      "cell_type": "code",
      "metadata": {
        "id": "nZsns3VViKEG",
        "colab_type": "code",
        "outputId": "724653f0-bdad-426d-e67e-27e2afc2fb45",
        "colab": {
          "base_uri": "https://localhost:8080/",
          "height": 54
        }
      },
      "source": [
        "df.Article[0]"
      ],
      "execution_count": 10,
      "outputs": [
        {
          "output_type": "execute_result",
          "data": {
            "text/plain": [
              "'KARACHI: The Sindh government has decided to bring down public transport fares by 7 per cent due to massive reduction in petroleum product prices by the federal government, Geo News reported.Sources said reduction in fares will be applicable on public transport, rickshaw, taxi and other means of traveling.Meanwhile, Karachi Transport Ittehad (KTI) has refused to abide by the government decision.KTI President Irshad Bukhari said the commuters are charged the lowest fares in Karachi as compare to other parts of the country, adding that 80pc vehicles run on Compressed Natural Gas (CNG). Bukhari said Karachi transporters will cut fares when decrease in CNG prices will be made.                        \\r\\n\\r\\n\\r\\n\\r\\n\\r\\n\\r\\n\\r\\n\\r\\n\\r\\n\\r\\n\\r\\n'"
            ]
          },
          "metadata": {
            "tags": []
          },
          "execution_count": 10
        }
      ]
    },
    {
      "cell_type": "markdown",
      "metadata": {
        "id": "XJqwKNDWmF3Q",
        "colab_type": "text"
      },
      "source": [
        "## Data transformation"
      ]
    },
    {
      "cell_type": "code",
      "metadata": {
        "id": "dFN4KCO0mICB",
        "colab_type": "code",
        "colab": {}
      },
      "source": [
        "# split the the text in the articles into sentences\n",
        "sentences = []\n",
        "for article in df.Article:\n",
        "  sentences.append(sent_tokenize(article))  "
      ],
      "execution_count": 0,
      "outputs": []
    },
    {
      "cell_type": "code",
      "metadata": {
        "id": "HXzgqDY5mU80",
        "colab_type": "code",
        "outputId": "fe6f4981-c217-4f51-df53-b1821ce49239",
        "colab": {
          "base_uri": "https://localhost:8080/",
          "height": 71
        }
      },
      "source": [
        "sentences[0]"
      ],
      "execution_count": 70,
      "outputs": [
        {
          "output_type": "execute_result",
          "data": {
            "text/plain": [
              "['KARACHI: The Sindh government has decided to bring down public transport fares by 7 per cent due to massive reduction in petroleum product prices by the federal government, Geo News reported.Sources said reduction in fares will be applicable on public transport, rickshaw, taxi and other means of traveling.Meanwhile, Karachi Transport Ittehad (KTI) has refused to abide by the government decision.KTI President Irshad Bukhari said the commuters are charged the lowest fares in Karachi as compare to other parts of the country, adding that 80pc vehicles run on Compressed Natural Gas (CNG).',\n",
              " 'Bukhari said Karachi transporters will cut fares when decrease in CNG prices will be made.']"
            ]
          },
          "metadata": {
            "tags": []
          },
          "execution_count": 70
        }
      ]
    },
    {
      "cell_type": "code",
      "metadata": {
        "id": "ANeGjYtFm249",
        "colab_type": "code",
        "colab": {}
      },
      "source": [
        "# flatten the list\n",
        "sentences = [y for x in sentences for y in x]"
      ],
      "execution_count": 0,
      "outputs": []
    },
    {
      "cell_type": "code",
      "metadata": {
        "id": "jwYa3S5nm48J",
        "colab_type": "code",
        "outputId": "85f885cb-8845-4438-d042-cb342bf4d7f8",
        "colab": {
          "base_uri": "https://localhost:8080/",
          "height": 54
        }
      },
      "source": [
        "sentences[0]"
      ],
      "execution_count": 72,
      "outputs": [
        {
          "output_type": "execute_result",
          "data": {
            "text/plain": [
              "'KARACHI: The Sindh government has decided to bring down public transport fares by 7 per cent due to massive reduction in petroleum product prices by the federal government, Geo News reported.Sources said reduction in fares will be applicable on public transport, rickshaw, taxi and other means of traveling.Meanwhile, Karachi Transport Ittehad (KTI) has refused to abide by the government decision.KTI President Irshad Bukhari said the commuters are charged the lowest fares in Karachi as compare to other parts of the country, adding that 80pc vehicles run on Compressed Natural Gas (CNG).'"
            ]
          },
          "metadata": {
            "tags": []
          },
          "execution_count": 72
        }
      ]
    },
    {
      "cell_type": "code",
      "metadata": {
        "id": "UrcUTkUOm_UT",
        "colab_type": "code",
        "colab": {}
      },
      "source": [
        "# remove punctuations, numbers and special characters\n",
        "clean_sentences = pd.Series(sentences).str.replace(\"[^a-zA-Z]\", \" \")\n",
        "\n",
        "# make alphabets lowercase\n",
        "clean_sentences = [sentence.lower() for sentence in clean_sentences]"
      ],
      "execution_count": 0,
      "outputs": []
    },
    {
      "cell_type": "code",
      "metadata": {
        "id": "qJ2Jy1tInJZV",
        "colab_type": "code",
        "outputId": "6f4171f1-5ab9-4300-ebfd-9842634d11f2",
        "colab": {
          "base_uri": "https://localhost:8080/",
          "height": 54
        }
      },
      "source": [
        "clean_sentences[0]"
      ],
      "execution_count": 74,
      "outputs": [
        {
          "output_type": "execute_result",
          "data": {
            "text/plain": [
              "'karachi  the sindh government has decided to bring down public transport fares by   per cent due to massive reduction in petroleum product prices by the federal government  geo news reported sources said reduction in fares will be applicable on public transport  rickshaw  taxi and other means of traveling meanwhile  karachi transport ittehad  kti  has refused to abide by the government decision kti president irshad bukhari said the commuters are charged the lowest fares in karachi as compare to other parts of the country  adding that   pc vehicles run on compressed natural gas  cng  '"
            ]
          },
          "metadata": {
            "tags": []
          },
          "execution_count": 74
        }
      ]
    },
    {
      "cell_type": "code",
      "metadata": {
        "id": "vY5h0vZsng0F",
        "colab_type": "code",
        "colab": {}
      },
      "source": [
        "stop_words = stopwords.words('english')"
      ],
      "execution_count": 0,
      "outputs": []
    },
    {
      "cell_type": "code",
      "metadata": {
        "id": "jbzETFKFnljo",
        "colab_type": "code",
        "colab": {}
      },
      "source": [
        "# remove stopwords from the sentences\n",
        "clean_sentences = [remove_stopwords(r.split()) for r in clean_sentences]"
      ],
      "execution_count": 0,
      "outputs": []
    },
    {
      "cell_type": "code",
      "metadata": {
        "id": "dfOOqAt2n40N",
        "colab_type": "code",
        "outputId": "ac664266-93a0-4357-9120-656459958f5d",
        "colab": {
          "base_uri": "https://localhost:8080/",
          "height": 54
        }
      },
      "source": [
        "clean_sentences[0]"
      ],
      "execution_count": 19,
      "outputs": [
        {
          "output_type": "execute_result",
          "data": {
            "text/plain": [
              "'karachi sindh government decided bring public transport fares per cent due massive reduction petroleum product prices federal government geo news reported sources said reduction fares applicable public transport rickshaw taxi means traveling meanwhile karachi transport ittehad kti refused abide government decision kti president irshad bukhari said commuters charged lowest fares karachi compare parts country adding pc vehicles run compressed natural gas cng'"
            ]
          },
          "metadata": {
            "tags": []
          },
          "execution_count": 19
        }
      ]
    },
    {
      "cell_type": "code",
      "metadata": {
        "id": "XBTRxC3SoGLQ",
        "colab_type": "code",
        "outputId": "65f1ed8d-2e8d-417f-e873-16ff417843aa",
        "colab": {
          "base_uri": "https://localhost:8080/",
          "height": 122
        }
      },
      "source": [
        "drive.mount('/content/drive', force_remount = True)"
      ],
      "execution_count": 20,
      "outputs": [
        {
          "output_type": "stream",
          "text": [
            "Go to this URL in a browser: https://accounts.google.com/o/oauth2/auth?client_id=947318989803-6bn6qk8qdgf4n4g3pfee6491hc0brc4i.apps.googleusercontent.com&redirect_uri=urn%3aietf%3awg%3aoauth%3a2.0%3aoob&response_type=code&scope=email%20https%3a%2f%2fwww.googleapis.com%2fauth%2fdocs.test%20https%3a%2f%2fwww.googleapis.com%2fauth%2fdrive%20https%3a%2f%2fwww.googleapis.com%2fauth%2fdrive.photos.readonly%20https%3a%2f%2fwww.googleapis.com%2fauth%2fpeopleapi.readonly\n",
            "\n",
            "Enter your authorization code:\n",
            "··········\n",
            "Mounted at /content/drive\n"
          ],
          "name": "stdout"
        }
      ]
    },
    {
      "cell_type": "code",
      "metadata": {
        "id": "75PX2BhLoNJf",
        "colab_type": "code",
        "colab": {}
      },
      "source": [
        "# Extract word vectors\n",
        "word_embeddings = {}\n",
        "\n",
        "f = open('/content/drive/My Drive/Colab Notebooks/ML/9/glove.6B.100d.txt', encoding = 'utf-8')\n",
        "\n",
        "for line in f:\n",
        "    values = line.split()\n",
        "    word = values[0]\n",
        "    coefs = np.asarray(values[1:], dtype = 'float32')\n",
        "    word_embeddings[word] = coefs\n",
        "f.close()"
      ],
      "execution_count": 0,
      "outputs": []
    },
    {
      "cell_type": "code",
      "metadata": {
        "id": "NxIss3Xuzd7g",
        "colab_type": "code",
        "colab": {
          "base_uri": "https://localhost:8080/",
          "height": 374
        },
        "outputId": "1e3e1313-b9c7-446d-8a2c-32bba9397e09"
      },
      "source": [
        "word_embeddings['sport']"
      ],
      "execution_count": 22,
      "outputs": [
        {
          "output_type": "execute_result",
          "data": {
            "text/plain": [
              "array([ 0.11135  ,  0.41816  ,  0.21722  , -0.042453 , -0.5187   ,\n",
              "        0.12853  ,  0.44858  ,  0.75437  , -0.041852 ,  0.079843 ,\n",
              "       -0.023021 , -0.2399   ,  0.1317   , -0.39341  , -0.96106  ,\n",
              "       -0.17475  ,  0.74805  ,  0.43138  , -0.18697  ,  0.75033  ,\n",
              "        0.070473 ,  0.41777  , -0.049083 , -0.064871 ,  0.543    ,\n",
              "        0.062025 , -0.45834  , -0.58207  , -0.053786 ,  0.4619   ,\n",
              "       -0.36932  ,  0.51805  , -0.99383  , -0.54979  ,  0.7254   ,\n",
              "        0.57203  , -0.43165  ,  0.90363  , -1.0984   , -0.14603  ,\n",
              "       -0.20707  , -0.14062  ,  0.052919 , -0.82595  , -0.6578   ,\n",
              "        0.40092  ,  0.90385  , -0.0052617, -0.0045023, -0.87071  ,\n",
              "       -0.24242  ,  0.28286  , -0.91073  ,  0.85632  ,  0.20688  ,\n",
              "       -1.5929   , -0.37628  ,  1.1513   ,  1.8729   ,  0.18253  ,\n",
              "       -0.063582 ,  0.30018  , -0.39956  ,  0.34561  ,  0.63868  ,\n",
              "        0.35972  , -0.017979 , -0.52348  ,  0.56879  ,  0.39967  ,\n",
              "        0.89808  , -0.69885  ,  0.23404  ,  0.28625  ,  0.052797 ,\n",
              "        0.18114  ,  0.77822  , -0.24647  , -0.6232   , -0.53114  ,\n",
              "       -0.26662  , -0.25772  ,  0.53396  , -0.61365  , -0.03599  ,\n",
              "       -0.37642  , -1.405    ,  0.12614  , -0.24333  , -0.47651  ,\n",
              "        0.28124  , -0.3518   ,  0.090015 ,  0.21225  ,  0.27643  ,\n",
              "        0.065248 , -1.2971   , -0.1303   ,  1.3963   ,  0.078897 ],\n",
              "      dtype=float32)"
            ]
          },
          "metadata": {
            "tags": []
          },
          "execution_count": 22
        }
      ]
    },
    {
      "cell_type": "code",
      "metadata": {
        "id": "tOthuklUzrOt",
        "colab_type": "code",
        "colab": {}
      },
      "source": [
        "sentence_vectors = []\n",
        "for i in clean_sentences:\n",
        "    if len(i) != 0:\n",
        "        v = sum([word_embeddings.get(w, np.zeros((100,))) for w in i.split()]) / (len(i.split()) + 0.001)\n",
        "    else:\n",
        "        v = np.zeros((100,))\n",
        "    sentence_vectors.append(v)"
      ],
      "execution_count": 0,
      "outputs": []
    },
    {
      "cell_type": "code",
      "metadata": {
        "id": "8WNrGlMyzxsF",
        "colab_type": "code",
        "colab": {
          "base_uri": "https://localhost:8080/",
          "height": 34
        },
        "outputId": "5d3e53e7-26e0-4a98-a3fc-d0e2256e8ffc"
      },
      "source": [
        "len(sentence_vectors)"
      ],
      "execution_count": 81,
      "outputs": [
        {
          "output_type": "execute_result",
          "data": {
            "text/plain": [
              "13587"
            ]
          },
          "metadata": {
            "tags": []
          },
          "execution_count": 81
        }
      ]
    },
    {
      "cell_type": "code",
      "metadata": {
        "id": "TKISwvmxz1Sn",
        "colab_type": "code",
        "colab": {}
      },
      "source": [
        "# similarity matrix\n",
        "sim_mat = np.zeros([len(sentences[:2000]), len(sentences[:2000])])"
      ],
      "execution_count": 0,
      "outputs": []
    },
    {
      "cell_type": "code",
      "metadata": {
        "id": "is7tMQeQ0Fvp",
        "colab_type": "code",
        "colab": {}
      },
      "source": [
        "for i in range(len(sentences[:2000])):\n",
        "    for j in range(len(sentences[:2000])):\n",
        "        if i != j:\n",
        "            sim_mat[i][j] = cosine_similarity(sentence_vectors[i].reshape(1, 100), sentence_vectors[j].reshape(1, 100))[0, 0]"
      ],
      "execution_count": 0,
      "outputs": []
    },
    {
      "cell_type": "code",
      "metadata": {
        "id": "RtxvxwnE0MkH",
        "colab_type": "code",
        "colab": {}
      },
      "source": [
        "nx_graph = nx.from_numpy_array(sim_mat)\n",
        "scores = nx.pagerank(nx_graph)"
      ],
      "execution_count": 0,
      "outputs": []
    },
    {
      "cell_type": "code",
      "metadata": {
        "id": "qKZIC7ZN0TZ6",
        "colab_type": "code",
        "colab": {}
      },
      "source": [
        "ranked_sentences = sorted(((scores[i], s) for i,s in enumerate(sentences[:2000])), reverse = True)"
      ],
      "execution_count": 0,
      "outputs": []
    },
    {
      "cell_type": "code",
      "metadata": {
        "id": "nvd8338R0VDm",
        "colab_type": "code",
        "colab": {
          "base_uri": "https://localhost:8080/",
          "height": 34
        },
        "outputId": "55b5184c-8b0d-4cec-cfa8-0a78ffe03a4e"
      },
      "source": [
        "len(ranked_sentences)"
      ],
      "execution_count": 120,
      "outputs": [
        {
          "output_type": "execute_result",
          "data": {
            "text/plain": [
              "2000"
            ]
          },
          "metadata": {
            "tags": []
          },
          "execution_count": 120
        }
      ]
    },
    {
      "cell_type": "code",
      "metadata": {
        "id": "ZA_05-Cs0Xf6",
        "colab_type": "code",
        "colab": {
          "base_uri": "https://localhost:8080/",
          "height": 377
        },
        "outputId": "a77601cc-6f2b-4aab-ddf4-f6c8a1af3269"
      },
      "source": [
        "# Specify number of sentences to form the summary\n",
        "sn = 10\n",
        "\n",
        "# Generate summary\n",
        "for i in range(sn):\n",
        "    print(ranked_sentences[i][1])\n",
        "    print('')"
      ],
      "execution_count": 121,
      "outputs": [
        {
          "output_type": "stream",
          "text": [
            "Inflation in South Asia s second largest economyslowed each month this year through April as transport and foodprices fell prompting the central bank to cut the benchmarkinterest rate in May to the lowest level in 42 years.It said Moody�s Investors Service upgraded Pakistan�ssovereign credit ratings for the first time since 2008 in June butsaid stalling the ongoing IMF program or an unstable politicalenvironment would be credit negative.The report noted that China was standing by Pakistan as thenation�s long time strategic ally.In April, Asia s largest economy, China signed deals for $28billion of investments in Pakistan as part of a planned $45 billioneconomic corridor that includes power plants and dams.The development in cities and smaller towns is trickling downand is good news for smaller contractors as well the report said.�Business has been very good and there s no doubt my work hastripled in five years,� the Bloomberg report quoted Mohammed HassanBakshi 43 a builder in Karachi.\n",
            "\n",
            "While the news was able to halt oil's price decline, it was not enough to turn prices bullish,\" Morgan Stanley said on Monday in a note.China is due to report gross domestic product figures on Tuesday, which are expected to show China's full-year growth would undershoot Beijing's 7.5-percent target and would be the weakest in 24 years.In Europe, the main event of the week will be Thursday's meeting of the European Central Bank (ECB), which is considered almost certain to see the launch of a government bond-buying campaign, pointing to further euro falls against the dollar as well as to downward pressure on oil prices.\n",
            "\n",
            "Singapore: Oil prices were mixed in Asia Monday ahead of a US interest rate decision, with weak demand in an oversupplied market keeping a lid on any gains.US benchmark West Texas Intermediate for October delivery was up five cents at $44.68 and Brent crude for October fell 16 cents to $47.98 in late-morning trade.The cost of the black gold tumbled last week after Goldman Sachs slashed its price forecasts for next year in the face of a larger-than-expected glut.Sanjeev Gupta, head of the Asia Pacific oil and gas practice at professional services firm EY said prices will remain volatile on concerns \"over demand growth not being sufficient to absorb excess supply\".Weak demand from China, the world�s top energy consumer, is also weighing on the market, he said, following another round of weak data on the world�s number two economy at the weekend.Gupta said dealers are focusing on the Federal Reserve�s rate meeting that ends Thursday.While expectations are for a rise by the end of the year, the bank�s decision has been made complicated by the recent turmoil across the globe caused by the Chinese economic crisis.Higher US interest rates will boost the US currency, making dollar-priced oil more expensive for holders of other units, hurting demand and prices.\n",
            "\n",
            "\"We might see some movement next depending on how the US stockpile numbers turn out,\" he said.China said Tuesday its exports fell 5.5 percent year-on-year in August while imports plunged 13.8 percent, led by falling commodity prices, adding to worries about the strength of the world�s number two economy and top energy consumer.The slowdown Chinese growth, as well as a slew of other weak indicators, have sent panic through world markets, as the country is a key driver of global expansion.In the United States, the Department of Energy will release its weekly petroleum report on Thursday, a day later than usual owing to the Labor Day holiday on Monday.US crude reserves likely rose by 250,000 barrels in the week to September 4, according to a Bloomberg News survey of analysts.\n",
            "\n",
            "\"For most commodities, a �hard landing� in China would be a far greater threat than a gradual tightening from the Fed,\" research firm Capital Economics said.It said that the manufacturing data is likely to improve over the remainder of the year.The US Federal Reserve held off raising interest rates during its September meeting, but on Thursday Fed chief Janet Yellen said she still expects a lift-off this year and that concerns about weaker global growth likely will not affect that plan.Focus this week \"is likely to remain on China and particularly the equity market, which has recently shown signs of stabilising, and on the US ahead of the employment report on Friday\", Capital Economics said in a market commentary.A rise in interest rates would likely boost the US currency, making dollar-priced oil more expensive for holders of weaker units, hurting demand.Prices are also under pressure owing to the prospect of Iranian oil returning to the oversupplied market following a landmark nuclear deal with major world powers reached in July.Under the agreement, the west will lift crippling economic sanctions if Iran curbs its nuclear ambitions, allowing the country to increase its oil exports.\n",
            "\n",
            "Before Tuesday, Chinese officials said they based the fixing on a poll of market-makers, but the PBoC�s move means it will now also take into account the previous day�s close and other factors.Beijing has so far kept a tight grip on the currency�s value on fears major swings and volatile capital flows could present financial risk and reduce its control over the economy.That has made the yuan far more stable than other major global currencies and a two percent move in its value is dramatic -- before Tuesday�s announcement it had traded within a roughly 0.4 percent band for four months.\n",
            "\n",
            "US data has not been exceptionally strong, and thus, could mean that oil prices could be facing some headwinds towards the end of the week,\" Ang said.In Asian trade, US benchmark West Texas Intermediate for November delivery was down 10 cents to $47.16 and Brent crude for December fell 12 cents to $50.34 a barrel at around 0300 GMT.Both contracts fell for four straight trading days last week before advancing Friday on the back of data showing a fresh decline in US oil exploration, which suggested lower output that could help ease the global oversupply.Sanjeev Gupta, head of the Asia Pacific oil and gas practice at professional services firm EY, said the market will also be seeking clues from a meeting of OPEC and non-OPEC technical experts in Vienna on Wednesday.Oil-producer Russia said last week it was prepared to discuss output cuts during the meeting.\n",
            "\n",
            "\"The market is in search of a bottom,\" said Gene McGillian of Tradition Energy.According to the analyst, \"with the dollar rising the market is still trying to price in the idea we could have additional supplies to oil come to the market\" in the near future, following the expected lifting of economic sanctions against Iran.Earlier in the day the United Nations Security Council unanimously adopted a resolution endorsing the historic deal reached last week between six major powers and Iran on Tehran�s nuclear program.Citi Futures analyst Tim Evans said that oil was swept up Monday in a wider decline in commodity prices, pointing out gold dropped to new five-year lows.\n",
            "\n",
            "Hong Kong: A modest recovery in oil prices provided some respite for Asian energy firms Wednesday but stock markets extended losses as China�s ongoing economic woes cast a pall over the region�s trading floors.The cost of the black gold has plunged by almost a tenth since Friday�s refusal by the OPEC oil exporters� group to agree a ceiling on output despite oversupply and anaemic demand across the globe.The impact of the weak commodity price environment was also made stark Tuesday when US mining giant Anglo American said it would scythe almost two-thirds of its workforce and reduce investment by about $1 billion.On Wednesday US benchmark West Texas Intermediate was up 1.7 percent in the morning while Brent added 1.2 percent.Among regional energy firms BHP Billiton added almost one percent in Sydney, Inpex gained 1.3 percent in Tokyo and Hong Kong-listed CNOOC put on 1.7 percent.However, the oil contracts are still struggling around seven-year lows and analysts said the gloom was likely to last for some time.\n",
            "\n",
            "London: Oil prices nudged higher on Friday, further recovering from a steep dive seen mid-week, although demand is set to remain shackled by a global supply glut, analysts said.US benchmark West Texas Intermediate for delivery in May edged up one cent to $50.80 a barrel.Brent North Sea crude for May gained 27 cents to $56.84 around midday in London.WTI and Brent sank 3.6 percent on Wednesday after the US Department of Energy said commercial inventories in the world�s biggest economy hit a record high last week.That came after Saudi Arabia�s Oil Minister Ali al-Naimi said his country�s production had hit an all-time high of 10.3 million barrels a day in March.Phil Flynn, an analyst at Price Futures Group, has said this week that rising imports of US crude oil could indicate improved demand prospects in the world�s largest oil consumer or concerns about supply tightening.Price support has meanwhile come from events concerning major oil producer Iran.Analysts attributed steep gains at the start of the week to investors concluding that the nuclear framework agreed between Iran and international powers will have a minimal near-term effect on global crude supplies.The deal Tehran agreed with the United States, Britain, China, France and Russia plus Germany paves the way for the Islamic republic to curtail its nuclear activity in exchange for relief from punishing economic sanctions, including on oil investment.The United States on Thursday warned that sanctions on Iran will be lifted in stages as a nuclear deal is implemented, after Tehran demanded they be removed as soon as it comes into force.\n",
            "\n"
          ],
          "name": "stdout"
        }
      ]
    },
    {
      "cell_type": "code",
      "metadata": {
        "id": "JhthBqMM0g_l",
        "colab_type": "code",
        "colab": {
          "base_uri": "https://localhost:8080/",
          "height": 221
        },
        "outputId": "ec187021-e336-4073-cb39-fceb33014e44"
      },
      "source": [
        "text = 'US data has not been exceptionally strong, and thus, could mean that oil prices could be facing some headwinds towards the end of the week,\" Ang said.In Asian trade, US benchmark West Texas Intermediate for November delivery was down 10 cents to $47.16 and Brent crude for December fell 12 cents to $50.34 a barrel at around 0300 GMT.Both contracts fell for four straight trading days last week before advancing Friday on the back of data showing a fresh decline in US oil exploration, which suggested lower output that could help ease the global oversupply.Sanjeev Gupta, head of the Asia Pacific oil and gas practice at professional services firm EY, said the market will also be seeking clues from a meeting of OPEC and non-OPEC technical experts in Vienna on Wednesday.Oil-producer Russia said last week it was prepared to discuss output cuts during the meeting.'\n",
        "kw = keywords(text)\n",
        "print(kw)"
      ],
      "execution_count": 122,
      "outputs": [
        {
          "output_type": "stream",
          "text": [
            "oil\n",
            "fell\n",
            "trade\n",
            "trading\n",
            "output\n",
            "services\n",
            "technical\n",
            "opec\n",
            "texas\n",
            "west\n",
            "oversupply\n",
            "gupta\n"
          ],
          "name": "stdout"
        }
      ]
    },
    {
      "cell_type": "markdown",
      "metadata": {
        "id": "1-79ZJ_5Oavz",
        "colab_type": "text"
      },
      "source": [
        "# Useful links"
      ]
    },
    {
      "cell_type": "markdown",
      "metadata": {
        "id": "9i2uyz05OdF7",
        "colab_type": "text"
      },
      "source": [
        "* https://www.kaggle.com/asad1m9a9h6mood/news-articles"
      ]
    }
  ]
}